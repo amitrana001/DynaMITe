{
 "cells": [
  {
   "cell_type": "code",
   "execution_count": 2,
   "metadata": {},
   "outputs": [
    {
     "name": "stderr",
     "output_type": "stream",
     "text": [
      "/home/rana/anaconda3/envs/m2f/lib/python3.8/site-packages/tqdm/auto.py:22: TqdmWarning: IProgress not found. Please update jupyter and ipywidgets. See https://ipywidgets.readthedocs.io/en/stable/user_install.html\n",
      "  from .autonotebook import tqdm as notebook_tqdm\n"
     ]
    },
    {
     "name": "stdout",
     "output_type": "stream",
     "text": [
      "Berkeley data registered\n",
      "davis_2017_val datset registered\n"
     ]
    },
    {
     "name": "stderr",
     "output_type": "stream",
     "text": [
      "/home/rana/anaconda3/envs/m2f/lib/python3.8/site-packages/mmcv/__init__.py:20: UserWarning: On January 1, 2023, MMCV will release v2.0.0, in which it will remove components related to the training process and add a data transformation module. In addition, it will rename the package names mmcv to mmcv-lite and mmcv-full to mmcv. See https://github.com/open-mmlab/mmcv/blob/master/docs/en/compatibility.md for more details.\n",
      "  warnings.warn(\n"
     ]
    }
   ],
   "source": [
    "import numpy as np\n",
    "import os\n",
    "import torch,torchvision\n",
    "import copy\n",
    "from dynamite.utils.misc import is_dist_avail_and_initialized, nested_tensor_from_tensor_list\n",
    "import pickle\n",
    "import matplotlib.pyplot as plt\n",
    "%load_ext autoreload\n",
    "%autoreload 2\n",
    "import pandas as pd\n",
    "from detectron2.data import MetadataCatalog, DatasetCatalog\n",
    "\n",
    "# y, _= nested_tensor_from_tensor_list(x).decompose()"
   ]
  },
  {
   "cell_type": "code",
   "execution_count": 2,
   "metadata": {},
   "outputs": [],
   "source": [
    "config_file = \"configs/coco_lvis/swin/dynamite_swin_large_bs32_ep100.yaml\""
   ]
  },
  {
   "cell_type": "code",
   "execution_count": null,
   "metadata": {},
   "outputs": [],
   "source": [
    "from detectron2.config import get_cfg\n",
    "from dynamite import (\n",
    "    SemanticSegmentorWithTTA,\n",
    "    add_maskformer2_config,\n",
    "    add_hrnet_config\n",
    ")\n",
    "from detectron2.projects.deeplab import add_deeplab_config, build_lr_scheduler\n"
   ]
  },
  {
   "cell_type": "code",
   "execution_count": 3,
   "metadata": {},
   "outputs": [],
   "source": [
    "model = torch.load(\"output/mq_swin_large_fusion_pf_stuff_concat_xyt_mlp_bs32_ep100/model_final.pth\")"
   ]
  },
  {
   "cell_type": "code",
   "execution_count": 8,
   "metadata": {},
   "outputs": [],
   "source": [
    "del model['model']['criterion.empty_weight']"
   ]
  },
  {
   "cell_type": "code",
   "execution_count": 10,
   "metadata": {},
   "outputs": [
    {
     "ename": "KeyError",
     "evalue": "'criterion.empty_weight'",
     "output_type": "error",
     "traceback": [
      "\u001b[0;31m---------------------------------------------------------------------------\u001b[0m",
      "\u001b[0;31mKeyError\u001b[0m                                  Traceback (most recent call last)",
      "\u001b[1;32m/home/rana/Thesis/final_codebase/DynaMITe/visual_results.ipynb Cell 6\u001b[0m in \u001b[0;36m<cell line: 1>\u001b[0;34m()\u001b[0m\n\u001b[0;32m----> <a href='vscode-notebook-cell:/home/rana/Thesis/final_codebase/DynaMITe/visual_results.ipynb#Y510sZmlsZQ%3D%3D?line=0'>1</a>\u001b[0m model[\u001b[39m'\u001b[39;49m\u001b[39mmodel\u001b[39;49m\u001b[39m'\u001b[39;49m][\u001b[39m'\u001b[39;49m\u001b[39mcriterion.empty_weight\u001b[39;49m\u001b[39m'\u001b[39;49m]\n",
      "\u001b[0;31mKeyError\u001b[0m: 'criterion.empty_weight'"
     ]
    }
   ],
   "source": [
    "model['model']['criterion.empty_weight']"
   ]
  },
  {
   "cell_type": "code",
   "execution_count": 12,
   "metadata": {},
   "outputs": [
    {
     "data": {
      "text/plain": [
       "dict_keys(['model', 'trainer', 'iteration'])"
      ]
     },
     "execution_count": 12,
     "metadata": {},
     "output_type": "execute_result"
    }
   ],
   "source": [
    "model.keys()"
   ]
  },
  {
   "cell_type": "code",
   "execution_count": 12,
   "metadata": {},
   "outputs": [
    {
     "name": "stdout",
     "output_type": "stream",
     "text": [
      "sem_seg_head.predictor.query_embed -> sem_seg_head.interactive_transformer.query_embed\n",
      "sem_seg_head.predictor.static_bg_pe -> sem_seg_head.interactive_transformer.static_bg_pe\n",
      "sem_seg_head.predictor.static_bg_query -> sem_seg_head.interactive_transformer.static_bg_query\n",
      "sem_seg_head.predictor.bg_query -> sem_seg_head.interactive_transformer.bg_query\n",
      "sem_seg_head.predictor.transformer_self_attention_layers.0.self_attn.in_proj_weight -> sem_seg_head.interactive_transformer.encoder.self_attention_layers.0.self_attn.in_proj_weight\n",
      "sem_seg_head.predictor.transformer_self_attention_layers.0.self_attn.in_proj_bias -> sem_seg_head.interactive_transformer.encoder.self_attention_layers.0.self_attn.in_proj_bias\n",
      "sem_seg_head.predictor.transformer_self_attention_layers.0.self_attn.out_proj.weight -> sem_seg_head.interactive_transformer.encoder.self_attention_layers.0.self_attn.out_proj.weight\n",
      "sem_seg_head.predictor.transformer_self_attention_layers.0.self_attn.out_proj.bias -> sem_seg_head.interactive_transformer.encoder.self_attention_layers.0.self_attn.out_proj.bias\n",
      "sem_seg_head.predictor.transformer_self_attention_layers.0.norm.weight -> sem_seg_head.interactive_transformer.encoder.self_attention_layers.0.norm.weight\n",
      "sem_seg_head.predictor.transformer_self_attention_layers.0.norm.bias -> sem_seg_head.interactive_transformer.encoder.self_attention_layers.0.norm.bias\n",
      "sem_seg_head.predictor.transformer_self_attention_layers.1.self_attn.in_proj_weight -> sem_seg_head.interactive_transformer.encoder.self_attention_layers.1.self_attn.in_proj_weight\n",
      "sem_seg_head.predictor.transformer_self_attention_layers.1.self_attn.in_proj_bias -> sem_seg_head.interactive_transformer.encoder.self_attention_layers.1.self_attn.in_proj_bias\n",
      "sem_seg_head.predictor.transformer_self_attention_layers.1.self_attn.out_proj.weight -> sem_seg_head.interactive_transformer.encoder.self_attention_layers.1.self_attn.out_proj.weight\n",
      "sem_seg_head.predictor.transformer_self_attention_layers.1.self_attn.out_proj.bias -> sem_seg_head.interactive_transformer.encoder.self_attention_layers.1.self_attn.out_proj.bias\n",
      "sem_seg_head.predictor.transformer_self_attention_layers.1.norm.weight -> sem_seg_head.interactive_transformer.encoder.self_attention_layers.1.norm.weight\n",
      "sem_seg_head.predictor.transformer_self_attention_layers.1.norm.bias -> sem_seg_head.interactive_transformer.encoder.self_attention_layers.1.norm.bias\n",
      "sem_seg_head.predictor.transformer_self_attention_layers.2.self_attn.in_proj_weight -> sem_seg_head.interactive_transformer.encoder.self_attention_layers.2.self_attn.in_proj_weight\n",
      "sem_seg_head.predictor.transformer_self_attention_layers.2.self_attn.in_proj_bias -> sem_seg_head.interactive_transformer.encoder.self_attention_layers.2.self_attn.in_proj_bias\n",
      "sem_seg_head.predictor.transformer_self_attention_layers.2.self_attn.out_proj.weight -> sem_seg_head.interactive_transformer.encoder.self_attention_layers.2.self_attn.out_proj.weight\n",
      "sem_seg_head.predictor.transformer_self_attention_layers.2.self_attn.out_proj.bias -> sem_seg_head.interactive_transformer.encoder.self_attention_layers.2.self_attn.out_proj.bias\n",
      "sem_seg_head.predictor.transformer_self_attention_layers.2.norm.weight -> sem_seg_head.interactive_transformer.encoder.self_attention_layers.2.norm.weight\n",
      "sem_seg_head.predictor.transformer_self_attention_layers.2.norm.bias -> sem_seg_head.interactive_transformer.encoder.self_attention_layers.2.norm.bias\n",
      "sem_seg_head.predictor.transformer_self_attention_layers.3.self_attn.in_proj_weight -> sem_seg_head.interactive_transformer.encoder.self_attention_layers.3.self_attn.in_proj_weight\n",
      "sem_seg_head.predictor.transformer_self_attention_layers.3.self_attn.in_proj_bias -> sem_seg_head.interactive_transformer.encoder.self_attention_layers.3.self_attn.in_proj_bias\n",
      "sem_seg_head.predictor.transformer_self_attention_layers.3.self_attn.out_proj.weight -> sem_seg_head.interactive_transformer.encoder.self_attention_layers.3.self_attn.out_proj.weight\n",
      "sem_seg_head.predictor.transformer_self_attention_layers.3.self_attn.out_proj.bias -> sem_seg_head.interactive_transformer.encoder.self_attention_layers.3.self_attn.out_proj.bias\n",
      "sem_seg_head.predictor.transformer_self_attention_layers.3.norm.weight -> sem_seg_head.interactive_transformer.encoder.self_attention_layers.3.norm.weight\n",
      "sem_seg_head.predictor.transformer_self_attention_layers.3.norm.bias -> sem_seg_head.interactive_transformer.encoder.self_attention_layers.3.norm.bias\n",
      "sem_seg_head.predictor.transformer_self_attention_layers.4.self_attn.in_proj_weight -> sem_seg_head.interactive_transformer.encoder.self_attention_layers.4.self_attn.in_proj_weight\n",
      "sem_seg_head.predictor.transformer_self_attention_layers.4.self_attn.in_proj_bias -> sem_seg_head.interactive_transformer.encoder.self_attention_layers.4.self_attn.in_proj_bias\n",
      "sem_seg_head.predictor.transformer_self_attention_layers.4.self_attn.out_proj.weight -> sem_seg_head.interactive_transformer.encoder.self_attention_layers.4.self_attn.out_proj.weight\n",
      "sem_seg_head.predictor.transformer_self_attention_layers.4.self_attn.out_proj.bias -> sem_seg_head.interactive_transformer.encoder.self_attention_layers.4.self_attn.out_proj.bias\n",
      "sem_seg_head.predictor.transformer_self_attention_layers.4.norm.weight -> sem_seg_head.interactive_transformer.encoder.self_attention_layers.4.norm.weight\n",
      "sem_seg_head.predictor.transformer_self_attention_layers.4.norm.bias -> sem_seg_head.interactive_transformer.encoder.self_attention_layers.4.norm.bias\n",
      "sem_seg_head.predictor.transformer_self_attention_layers.5.self_attn.in_proj_weight -> sem_seg_head.interactive_transformer.encoder.self_attention_layers.5.self_attn.in_proj_weight\n",
      "sem_seg_head.predictor.transformer_self_attention_layers.5.self_attn.in_proj_bias -> sem_seg_head.interactive_transformer.encoder.self_attention_layers.5.self_attn.in_proj_bias\n",
      "sem_seg_head.predictor.transformer_self_attention_layers.5.self_attn.out_proj.weight -> sem_seg_head.interactive_transformer.encoder.self_attention_layers.5.self_attn.out_proj.weight\n",
      "sem_seg_head.predictor.transformer_self_attention_layers.5.self_attn.out_proj.bias -> sem_seg_head.interactive_transformer.encoder.self_attention_layers.5.self_attn.out_proj.bias\n",
      "sem_seg_head.predictor.transformer_self_attention_layers.5.norm.weight -> sem_seg_head.interactive_transformer.encoder.self_attention_layers.5.norm.weight\n",
      "sem_seg_head.predictor.transformer_self_attention_layers.5.norm.bias -> sem_seg_head.interactive_transformer.encoder.self_attention_layers.5.norm.bias\n",
      "sem_seg_head.predictor.transformer_self_attention_layers.6.self_attn.in_proj_weight -> sem_seg_head.interactive_transformer.encoder.self_attention_layers.6.self_attn.in_proj_weight\n",
      "sem_seg_head.predictor.transformer_self_attention_layers.6.self_attn.in_proj_bias -> sem_seg_head.interactive_transformer.encoder.self_attention_layers.6.self_attn.in_proj_bias\n",
      "sem_seg_head.predictor.transformer_self_attention_layers.6.self_attn.out_proj.weight -> sem_seg_head.interactive_transformer.encoder.self_attention_layers.6.self_attn.out_proj.weight\n",
      "sem_seg_head.predictor.transformer_self_attention_layers.6.self_attn.out_proj.bias -> sem_seg_head.interactive_transformer.encoder.self_attention_layers.6.self_attn.out_proj.bias\n",
      "sem_seg_head.predictor.transformer_self_attention_layers.6.norm.weight -> sem_seg_head.interactive_transformer.encoder.self_attention_layers.6.norm.weight\n",
      "sem_seg_head.predictor.transformer_self_attention_layers.6.norm.bias -> sem_seg_head.interactive_transformer.encoder.self_attention_layers.6.norm.bias\n",
      "sem_seg_head.predictor.transformer_self_attention_layers.7.self_attn.in_proj_weight -> sem_seg_head.interactive_transformer.encoder.self_attention_layers.7.self_attn.in_proj_weight\n",
      "sem_seg_head.predictor.transformer_self_attention_layers.7.self_attn.in_proj_bias -> sem_seg_head.interactive_transformer.encoder.self_attention_layers.7.self_attn.in_proj_bias\n",
      "sem_seg_head.predictor.transformer_self_attention_layers.7.self_attn.out_proj.weight -> sem_seg_head.interactive_transformer.encoder.self_attention_layers.7.self_attn.out_proj.weight\n",
      "sem_seg_head.predictor.transformer_self_attention_layers.7.self_attn.out_proj.bias -> sem_seg_head.interactive_transformer.encoder.self_attention_layers.7.self_attn.out_proj.bias\n",
      "sem_seg_head.predictor.transformer_self_attention_layers.7.norm.weight -> sem_seg_head.interactive_transformer.encoder.self_attention_layers.7.norm.weight\n",
      "sem_seg_head.predictor.transformer_self_attention_layers.7.norm.bias -> sem_seg_head.interactive_transformer.encoder.self_attention_layers.7.norm.bias\n",
      "sem_seg_head.predictor.transformer_self_attention_layers.8.self_attn.in_proj_weight -> sem_seg_head.interactive_transformer.encoder.self_attention_layers.8.self_attn.in_proj_weight\n",
      "sem_seg_head.predictor.transformer_self_attention_layers.8.self_attn.in_proj_bias -> sem_seg_head.interactive_transformer.encoder.self_attention_layers.8.self_attn.in_proj_bias\n",
      "sem_seg_head.predictor.transformer_self_attention_layers.8.self_attn.out_proj.weight -> sem_seg_head.interactive_transformer.encoder.self_attention_layers.8.self_attn.out_proj.weight\n",
      "sem_seg_head.predictor.transformer_self_attention_layers.8.self_attn.out_proj.bias -> sem_seg_head.interactive_transformer.encoder.self_attention_layers.8.self_attn.out_proj.bias\n",
      "sem_seg_head.predictor.transformer_self_attention_layers.8.norm.weight -> sem_seg_head.interactive_transformer.encoder.self_attention_layers.8.norm.weight\n",
      "sem_seg_head.predictor.transformer_self_attention_layers.8.norm.bias -> sem_seg_head.interactive_transformer.encoder.self_attention_layers.8.norm.bias\n",
      "sem_seg_head.predictor.transformer_cross_attention_layers.0.multihead_attn.in_proj_weight -> sem_seg_head.interactive_transformer.encoder.cross_attention_layers.0.multihead_attn.in_proj_weight\n",
      "sem_seg_head.predictor.transformer_cross_attention_layers.0.multihead_attn.in_proj_bias -> sem_seg_head.interactive_transformer.encoder.cross_attention_layers.0.multihead_attn.in_proj_bias\n",
      "sem_seg_head.predictor.transformer_cross_attention_layers.0.multihead_attn.out_proj.weight -> sem_seg_head.interactive_transformer.encoder.cross_attention_layers.0.multihead_attn.out_proj.weight\n",
      "sem_seg_head.predictor.transformer_cross_attention_layers.0.multihead_attn.out_proj.bias -> sem_seg_head.interactive_transformer.encoder.cross_attention_layers.0.multihead_attn.out_proj.bias\n",
      "sem_seg_head.predictor.transformer_cross_attention_layers.0.norm.weight -> sem_seg_head.interactive_transformer.encoder.cross_attention_layers.0.norm.weight\n",
      "sem_seg_head.predictor.transformer_cross_attention_layers.0.norm.bias -> sem_seg_head.interactive_transformer.encoder.cross_attention_layers.0.norm.bias\n",
      "sem_seg_head.predictor.transformer_cross_attention_layers.1.multihead_attn.in_proj_weight -> sem_seg_head.interactive_transformer.encoder.cross_attention_layers.1.multihead_attn.in_proj_weight\n",
      "sem_seg_head.predictor.transformer_cross_attention_layers.1.multihead_attn.in_proj_bias -> sem_seg_head.interactive_transformer.encoder.cross_attention_layers.1.multihead_attn.in_proj_bias\n",
      "sem_seg_head.predictor.transformer_cross_attention_layers.1.multihead_attn.out_proj.weight -> sem_seg_head.interactive_transformer.encoder.cross_attention_layers.1.multihead_attn.out_proj.weight\n",
      "sem_seg_head.predictor.transformer_cross_attention_layers.1.multihead_attn.out_proj.bias -> sem_seg_head.interactive_transformer.encoder.cross_attention_layers.1.multihead_attn.out_proj.bias\n",
      "sem_seg_head.predictor.transformer_cross_attention_layers.1.norm.weight -> sem_seg_head.interactive_transformer.encoder.cross_attention_layers.1.norm.weight\n",
      "sem_seg_head.predictor.transformer_cross_attention_layers.1.norm.bias -> sem_seg_head.interactive_transformer.encoder.cross_attention_layers.1.norm.bias\n",
      "sem_seg_head.predictor.transformer_cross_attention_layers.2.multihead_attn.in_proj_weight -> sem_seg_head.interactive_transformer.encoder.cross_attention_layers.2.multihead_attn.in_proj_weight\n",
      "sem_seg_head.predictor.transformer_cross_attention_layers.2.multihead_attn.in_proj_bias -> sem_seg_head.interactive_transformer.encoder.cross_attention_layers.2.multihead_attn.in_proj_bias\n",
      "sem_seg_head.predictor.transformer_cross_attention_layers.2.multihead_attn.out_proj.weight -> sem_seg_head.interactive_transformer.encoder.cross_attention_layers.2.multihead_attn.out_proj.weight\n",
      "sem_seg_head.predictor.transformer_cross_attention_layers.2.multihead_attn.out_proj.bias -> sem_seg_head.interactive_transformer.encoder.cross_attention_layers.2.multihead_attn.out_proj.bias\n",
      "sem_seg_head.predictor.transformer_cross_attention_layers.2.norm.weight -> sem_seg_head.interactive_transformer.encoder.cross_attention_layers.2.norm.weight\n",
      "sem_seg_head.predictor.transformer_cross_attention_layers.2.norm.bias -> sem_seg_head.interactive_transformer.encoder.cross_attention_layers.2.norm.bias\n",
      "sem_seg_head.predictor.transformer_cross_attention_layers.3.multihead_attn.in_proj_weight -> sem_seg_head.interactive_transformer.encoder.cross_attention_layers.3.multihead_attn.in_proj_weight\n",
      "sem_seg_head.predictor.transformer_cross_attention_layers.3.multihead_attn.in_proj_bias -> sem_seg_head.interactive_transformer.encoder.cross_attention_layers.3.multihead_attn.in_proj_bias\n",
      "sem_seg_head.predictor.transformer_cross_attention_layers.3.multihead_attn.out_proj.weight -> sem_seg_head.interactive_transformer.encoder.cross_attention_layers.3.multihead_attn.out_proj.weight\n",
      "sem_seg_head.predictor.transformer_cross_attention_layers.3.multihead_attn.out_proj.bias -> sem_seg_head.interactive_transformer.encoder.cross_attention_layers.3.multihead_attn.out_proj.bias\n",
      "sem_seg_head.predictor.transformer_cross_attention_layers.3.norm.weight -> sem_seg_head.interactive_transformer.encoder.cross_attention_layers.3.norm.weight\n",
      "sem_seg_head.predictor.transformer_cross_attention_layers.3.norm.bias -> sem_seg_head.interactive_transformer.encoder.cross_attention_layers.3.norm.bias\n",
      "sem_seg_head.predictor.transformer_cross_attention_layers.4.multihead_attn.in_proj_weight -> sem_seg_head.interactive_transformer.encoder.cross_attention_layers.4.multihead_attn.in_proj_weight\n",
      "sem_seg_head.predictor.transformer_cross_attention_layers.4.multihead_attn.in_proj_bias -> sem_seg_head.interactive_transformer.encoder.cross_attention_layers.4.multihead_attn.in_proj_bias\n",
      "sem_seg_head.predictor.transformer_cross_attention_layers.4.multihead_attn.out_proj.weight -> sem_seg_head.interactive_transformer.encoder.cross_attention_layers.4.multihead_attn.out_proj.weight\n",
      "sem_seg_head.predictor.transformer_cross_attention_layers.4.multihead_attn.out_proj.bias -> sem_seg_head.interactive_transformer.encoder.cross_attention_layers.4.multihead_attn.out_proj.bias\n",
      "sem_seg_head.predictor.transformer_cross_attention_layers.4.norm.weight -> sem_seg_head.interactive_transformer.encoder.cross_attention_layers.4.norm.weight\n",
      "sem_seg_head.predictor.transformer_cross_attention_layers.4.norm.bias -> sem_seg_head.interactive_transformer.encoder.cross_attention_layers.4.norm.bias\n",
      "sem_seg_head.predictor.transformer_cross_attention_layers.5.multihead_attn.in_proj_weight -> sem_seg_head.interactive_transformer.encoder.cross_attention_layers.5.multihead_attn.in_proj_weight\n",
      "sem_seg_head.predictor.transformer_cross_attention_layers.5.multihead_attn.in_proj_bias -> sem_seg_head.interactive_transformer.encoder.cross_attention_layers.5.multihead_attn.in_proj_bias\n",
      "sem_seg_head.predictor.transformer_cross_attention_layers.5.multihead_attn.out_proj.weight -> sem_seg_head.interactive_transformer.encoder.cross_attention_layers.5.multihead_attn.out_proj.weight\n",
      "sem_seg_head.predictor.transformer_cross_attention_layers.5.multihead_attn.out_proj.bias -> sem_seg_head.interactive_transformer.encoder.cross_attention_layers.5.multihead_attn.out_proj.bias\n",
      "sem_seg_head.predictor.transformer_cross_attention_layers.5.norm.weight -> sem_seg_head.interactive_transformer.encoder.cross_attention_layers.5.norm.weight\n",
      "sem_seg_head.predictor.transformer_cross_attention_layers.5.norm.bias -> sem_seg_head.interactive_transformer.encoder.cross_attention_layers.5.norm.bias\n",
      "sem_seg_head.predictor.transformer_cross_attention_layers.6.multihead_attn.in_proj_weight -> sem_seg_head.interactive_transformer.encoder.cross_attention_layers.6.multihead_attn.in_proj_weight\n",
      "sem_seg_head.predictor.transformer_cross_attention_layers.6.multihead_attn.in_proj_bias -> sem_seg_head.interactive_transformer.encoder.cross_attention_layers.6.multihead_attn.in_proj_bias\n",
      "sem_seg_head.predictor.transformer_cross_attention_layers.6.multihead_attn.out_proj.weight -> sem_seg_head.interactive_transformer.encoder.cross_attention_layers.6.multihead_attn.out_proj.weight\n",
      "sem_seg_head.predictor.transformer_cross_attention_layers.6.multihead_attn.out_proj.bias -> sem_seg_head.interactive_transformer.encoder.cross_attention_layers.6.multihead_attn.out_proj.bias\n",
      "sem_seg_head.predictor.transformer_cross_attention_layers.6.norm.weight -> sem_seg_head.interactive_transformer.encoder.cross_attention_layers.6.norm.weight\n",
      "sem_seg_head.predictor.transformer_cross_attention_layers.6.norm.bias -> sem_seg_head.interactive_transformer.encoder.cross_attention_layers.6.norm.bias\n",
      "sem_seg_head.predictor.transformer_cross_attention_layers.7.multihead_attn.in_proj_weight -> sem_seg_head.interactive_transformer.encoder.cross_attention_layers.7.multihead_attn.in_proj_weight\n",
      "sem_seg_head.predictor.transformer_cross_attention_layers.7.multihead_attn.in_proj_bias -> sem_seg_head.interactive_transformer.encoder.cross_attention_layers.7.multihead_attn.in_proj_bias\n",
      "sem_seg_head.predictor.transformer_cross_attention_layers.7.multihead_attn.out_proj.weight -> sem_seg_head.interactive_transformer.encoder.cross_attention_layers.7.multihead_attn.out_proj.weight\n",
      "sem_seg_head.predictor.transformer_cross_attention_layers.7.multihead_attn.out_proj.bias -> sem_seg_head.interactive_transformer.encoder.cross_attention_layers.7.multihead_attn.out_proj.bias\n",
      "sem_seg_head.predictor.transformer_cross_attention_layers.7.norm.weight -> sem_seg_head.interactive_transformer.encoder.cross_attention_layers.7.norm.weight\n",
      "sem_seg_head.predictor.transformer_cross_attention_layers.7.norm.bias -> sem_seg_head.interactive_transformer.encoder.cross_attention_layers.7.norm.bias\n",
      "sem_seg_head.predictor.transformer_cross_attention_layers.8.multihead_attn.in_proj_weight -> sem_seg_head.interactive_transformer.encoder.cross_attention_layers.8.multihead_attn.in_proj_weight\n",
      "sem_seg_head.predictor.transformer_cross_attention_layers.8.multihead_attn.in_proj_bias -> sem_seg_head.interactive_transformer.encoder.cross_attention_layers.8.multihead_attn.in_proj_bias\n",
      "sem_seg_head.predictor.transformer_cross_attention_layers.8.multihead_attn.out_proj.weight -> sem_seg_head.interactive_transformer.encoder.cross_attention_layers.8.multihead_attn.out_proj.weight\n",
      "sem_seg_head.predictor.transformer_cross_attention_layers.8.multihead_attn.out_proj.bias -> sem_seg_head.interactive_transformer.encoder.cross_attention_layers.8.multihead_attn.out_proj.bias\n",
      "sem_seg_head.predictor.transformer_cross_attention_layers.8.norm.weight -> sem_seg_head.interactive_transformer.encoder.cross_attention_layers.8.norm.weight\n",
      "sem_seg_head.predictor.transformer_cross_attention_layers.8.norm.bias -> sem_seg_head.interactive_transformer.encoder.cross_attention_layers.8.norm.bias\n",
      "sem_seg_head.predictor.transformer_ffn_layers.0.linear1.weight -> sem_seg_head.interactive_transformer.encoder.ffn_layers.0.linear1.weight\n",
      "sem_seg_head.predictor.transformer_ffn_layers.0.linear1.bias -> sem_seg_head.interactive_transformer.encoder.ffn_layers.0.linear1.bias\n",
      "sem_seg_head.predictor.transformer_ffn_layers.0.linear2.weight -> sem_seg_head.interactive_transformer.encoder.ffn_layers.0.linear2.weight\n",
      "sem_seg_head.predictor.transformer_ffn_layers.0.linear2.bias -> sem_seg_head.interactive_transformer.encoder.ffn_layers.0.linear2.bias\n",
      "sem_seg_head.predictor.transformer_ffn_layers.0.norm.weight -> sem_seg_head.interactive_transformer.encoder.ffn_layers.0.norm.weight\n",
      "sem_seg_head.predictor.transformer_ffn_layers.0.norm.bias -> sem_seg_head.interactive_transformer.encoder.ffn_layers.0.norm.bias\n",
      "sem_seg_head.predictor.transformer_ffn_layers.1.linear1.weight -> sem_seg_head.interactive_transformer.encoder.ffn_layers.1.linear1.weight\n",
      "sem_seg_head.predictor.transformer_ffn_layers.1.linear1.bias -> sem_seg_head.interactive_transformer.encoder.ffn_layers.1.linear1.bias\n",
      "sem_seg_head.predictor.transformer_ffn_layers.1.linear2.weight -> sem_seg_head.interactive_transformer.encoder.ffn_layers.1.linear2.weight\n",
      "sem_seg_head.predictor.transformer_ffn_layers.1.linear2.bias -> sem_seg_head.interactive_transformer.encoder.ffn_layers.1.linear2.bias\n",
      "sem_seg_head.predictor.transformer_ffn_layers.1.norm.weight -> sem_seg_head.interactive_transformer.encoder.ffn_layers.1.norm.weight\n",
      "sem_seg_head.predictor.transformer_ffn_layers.1.norm.bias -> sem_seg_head.interactive_transformer.encoder.ffn_layers.1.norm.bias\n",
      "sem_seg_head.predictor.transformer_ffn_layers.2.linear1.weight -> sem_seg_head.interactive_transformer.encoder.ffn_layers.2.linear1.weight\n",
      "sem_seg_head.predictor.transformer_ffn_layers.2.linear1.bias -> sem_seg_head.interactive_transformer.encoder.ffn_layers.2.linear1.bias\n",
      "sem_seg_head.predictor.transformer_ffn_layers.2.linear2.weight -> sem_seg_head.interactive_transformer.encoder.ffn_layers.2.linear2.weight\n",
      "sem_seg_head.predictor.transformer_ffn_layers.2.linear2.bias -> sem_seg_head.interactive_transformer.encoder.ffn_layers.2.linear2.bias\n",
      "sem_seg_head.predictor.transformer_ffn_layers.2.norm.weight -> sem_seg_head.interactive_transformer.encoder.ffn_layers.2.norm.weight\n",
      "sem_seg_head.predictor.transformer_ffn_layers.2.norm.bias -> sem_seg_head.interactive_transformer.encoder.ffn_layers.2.norm.bias\n",
      "sem_seg_head.predictor.transformer_ffn_layers.3.linear1.weight -> sem_seg_head.interactive_transformer.encoder.ffn_layers.3.linear1.weight\n",
      "sem_seg_head.predictor.transformer_ffn_layers.3.linear1.bias -> sem_seg_head.interactive_transformer.encoder.ffn_layers.3.linear1.bias\n",
      "sem_seg_head.predictor.transformer_ffn_layers.3.linear2.weight -> sem_seg_head.interactive_transformer.encoder.ffn_layers.3.linear2.weight\n",
      "sem_seg_head.predictor.transformer_ffn_layers.3.linear2.bias -> sem_seg_head.interactive_transformer.encoder.ffn_layers.3.linear2.bias\n",
      "sem_seg_head.predictor.transformer_ffn_layers.3.norm.weight -> sem_seg_head.interactive_transformer.encoder.ffn_layers.3.norm.weight\n",
      "sem_seg_head.predictor.transformer_ffn_layers.3.norm.bias -> sem_seg_head.interactive_transformer.encoder.ffn_layers.3.norm.bias\n",
      "sem_seg_head.predictor.transformer_ffn_layers.4.linear1.weight -> sem_seg_head.interactive_transformer.encoder.ffn_layers.4.linear1.weight\n",
      "sem_seg_head.predictor.transformer_ffn_layers.4.linear1.bias -> sem_seg_head.interactive_transformer.encoder.ffn_layers.4.linear1.bias\n",
      "sem_seg_head.predictor.transformer_ffn_layers.4.linear2.weight -> sem_seg_head.interactive_transformer.encoder.ffn_layers.4.linear2.weight\n",
      "sem_seg_head.predictor.transformer_ffn_layers.4.linear2.bias -> sem_seg_head.interactive_transformer.encoder.ffn_layers.4.linear2.bias\n",
      "sem_seg_head.predictor.transformer_ffn_layers.4.norm.weight -> sem_seg_head.interactive_transformer.encoder.ffn_layers.4.norm.weight\n",
      "sem_seg_head.predictor.transformer_ffn_layers.4.norm.bias -> sem_seg_head.interactive_transformer.encoder.ffn_layers.4.norm.bias\n",
      "sem_seg_head.predictor.transformer_ffn_layers.5.linear1.weight -> sem_seg_head.interactive_transformer.encoder.ffn_layers.5.linear1.weight\n",
      "sem_seg_head.predictor.transformer_ffn_layers.5.linear1.bias -> sem_seg_head.interactive_transformer.encoder.ffn_layers.5.linear1.bias\n",
      "sem_seg_head.predictor.transformer_ffn_layers.5.linear2.weight -> sem_seg_head.interactive_transformer.encoder.ffn_layers.5.linear2.weight\n",
      "sem_seg_head.predictor.transformer_ffn_layers.5.linear2.bias -> sem_seg_head.interactive_transformer.encoder.ffn_layers.5.linear2.bias\n",
      "sem_seg_head.predictor.transformer_ffn_layers.5.norm.weight -> sem_seg_head.interactive_transformer.encoder.ffn_layers.5.norm.weight\n",
      "sem_seg_head.predictor.transformer_ffn_layers.5.norm.bias -> sem_seg_head.interactive_transformer.encoder.ffn_layers.5.norm.bias\n",
      "sem_seg_head.predictor.transformer_ffn_layers.6.linear1.weight -> sem_seg_head.interactive_transformer.encoder.ffn_layers.6.linear1.weight\n",
      "sem_seg_head.predictor.transformer_ffn_layers.6.linear1.bias -> sem_seg_head.interactive_transformer.encoder.ffn_layers.6.linear1.bias\n",
      "sem_seg_head.predictor.transformer_ffn_layers.6.linear2.weight -> sem_seg_head.interactive_transformer.encoder.ffn_layers.6.linear2.weight\n",
      "sem_seg_head.predictor.transformer_ffn_layers.6.linear2.bias -> sem_seg_head.interactive_transformer.encoder.ffn_layers.6.linear2.bias\n",
      "sem_seg_head.predictor.transformer_ffn_layers.6.norm.weight -> sem_seg_head.interactive_transformer.encoder.ffn_layers.6.norm.weight\n",
      "sem_seg_head.predictor.transformer_ffn_layers.6.norm.bias -> sem_seg_head.interactive_transformer.encoder.ffn_layers.6.norm.bias\n",
      "sem_seg_head.predictor.transformer_ffn_layers.7.linear1.weight -> sem_seg_head.interactive_transformer.encoder.ffn_layers.7.linear1.weight\n",
      "sem_seg_head.predictor.transformer_ffn_layers.7.linear1.bias -> sem_seg_head.interactive_transformer.encoder.ffn_layers.7.linear1.bias\n",
      "sem_seg_head.predictor.transformer_ffn_layers.7.linear2.weight -> sem_seg_head.interactive_transformer.encoder.ffn_layers.7.linear2.weight\n",
      "sem_seg_head.predictor.transformer_ffn_layers.7.linear2.bias -> sem_seg_head.interactive_transformer.encoder.ffn_layers.7.linear2.bias\n",
      "sem_seg_head.predictor.transformer_ffn_layers.7.norm.weight -> sem_seg_head.interactive_transformer.encoder.ffn_layers.7.norm.weight\n",
      "sem_seg_head.predictor.transformer_ffn_layers.7.norm.bias -> sem_seg_head.interactive_transformer.encoder.ffn_layers.7.norm.bias\n",
      "sem_seg_head.predictor.transformer_ffn_layers.8.linear1.weight -> sem_seg_head.interactive_transformer.encoder.ffn_layers.8.linear1.weight\n",
      "sem_seg_head.predictor.transformer_ffn_layers.8.linear1.bias -> sem_seg_head.interactive_transformer.encoder.ffn_layers.8.linear1.bias\n",
      "sem_seg_head.predictor.transformer_ffn_layers.8.linear2.weight -> sem_seg_head.interactive_transformer.encoder.ffn_layers.8.linear2.weight\n",
      "sem_seg_head.predictor.transformer_ffn_layers.8.linear2.bias -> sem_seg_head.interactive_transformer.encoder.ffn_layers.8.linear2.bias\n",
      "sem_seg_head.predictor.transformer_ffn_layers.8.norm.weight -> sem_seg_head.interactive_transformer.encoder.ffn_layers.8.norm.weight\n",
      "sem_seg_head.predictor.transformer_ffn_layers.8.norm.bias -> sem_seg_head.interactive_transformer.encoder.ffn_layers.8.norm.bias\n",
      "sem_seg_head.predictor.rev_cross_attn_layers.0.multihead_attn.in_proj_weight -> sem_seg_head.interactive_transformer.decoder.cross_attention_layers.0.multihead_attn.in_proj_weight\n",
      "sem_seg_head.predictor.rev_cross_attn_layers.0.multihead_attn.in_proj_bias -> sem_seg_head.interactive_transformer.decoder.cross_attention_layers.0.multihead_attn.in_proj_bias\n",
      "sem_seg_head.predictor.rev_cross_attn_layers.0.multihead_attn.out_proj.weight -> sem_seg_head.interactive_transformer.decoder.cross_attention_layers.0.multihead_attn.out_proj.weight\n",
      "sem_seg_head.predictor.rev_cross_attn_layers.0.multihead_attn.out_proj.bias -> sem_seg_head.interactive_transformer.decoder.cross_attention_layers.0.multihead_attn.out_proj.bias\n",
      "sem_seg_head.predictor.rev_cross_attn_layers.0.norm.weight -> sem_seg_head.interactive_transformer.decoder.cross_attention_layers.0.norm.weight\n",
      "sem_seg_head.predictor.rev_cross_attn_layers.0.norm.bias -> sem_seg_head.interactive_transformer.decoder.cross_attention_layers.0.norm.bias\n",
      "sem_seg_head.predictor.rev_cross_attn_layers.1.multihead_attn.in_proj_weight -> sem_seg_head.interactive_transformer.decoder.cross_attention_layers.1.multihead_attn.in_proj_weight\n",
      "sem_seg_head.predictor.rev_cross_attn_layers.1.multihead_attn.in_proj_bias -> sem_seg_head.interactive_transformer.decoder.cross_attention_layers.1.multihead_attn.in_proj_bias\n",
      "sem_seg_head.predictor.rev_cross_attn_layers.1.multihead_attn.out_proj.weight -> sem_seg_head.interactive_transformer.decoder.cross_attention_layers.1.multihead_attn.out_proj.weight\n",
      "sem_seg_head.predictor.rev_cross_attn_layers.1.multihead_attn.out_proj.bias -> sem_seg_head.interactive_transformer.decoder.cross_attention_layers.1.multihead_attn.out_proj.bias\n",
      "sem_seg_head.predictor.rev_cross_attn_layers.1.norm.weight -> sem_seg_head.interactive_transformer.decoder.cross_attention_layers.1.norm.weight\n",
      "sem_seg_head.predictor.rev_cross_attn_layers.1.norm.bias -> sem_seg_head.interactive_transformer.decoder.cross_attention_layers.1.norm.bias\n",
      "sem_seg_head.predictor.rev_cross_attn_layers.2.multihead_attn.in_proj_weight -> sem_seg_head.interactive_transformer.decoder.cross_attention_layers.2.multihead_attn.in_proj_weight\n",
      "sem_seg_head.predictor.rev_cross_attn_layers.2.multihead_attn.in_proj_bias -> sem_seg_head.interactive_transformer.decoder.cross_attention_layers.2.multihead_attn.in_proj_bias\n",
      "sem_seg_head.predictor.rev_cross_attn_layers.2.multihead_attn.out_proj.weight -> sem_seg_head.interactive_transformer.decoder.cross_attention_layers.2.multihead_attn.out_proj.weight\n",
      "sem_seg_head.predictor.rev_cross_attn_layers.2.multihead_attn.out_proj.bias -> sem_seg_head.interactive_transformer.decoder.cross_attention_layers.2.multihead_attn.out_proj.bias\n",
      "sem_seg_head.predictor.rev_cross_attn_layers.2.norm.weight -> sem_seg_head.interactive_transformer.decoder.cross_attention_layers.2.norm.weight\n",
      "sem_seg_head.predictor.rev_cross_attn_layers.2.norm.bias -> sem_seg_head.interactive_transformer.decoder.cross_attention_layers.2.norm.bias\n",
      "sem_seg_head.predictor.rev_cross_attn_layers.3.multihead_attn.in_proj_weight -> sem_seg_head.interactive_transformer.decoder.cross_attention_layers.3.multihead_attn.in_proj_weight\n",
      "sem_seg_head.predictor.rev_cross_attn_layers.3.multihead_attn.in_proj_bias -> sem_seg_head.interactive_transformer.decoder.cross_attention_layers.3.multihead_attn.in_proj_bias\n",
      "sem_seg_head.predictor.rev_cross_attn_layers.3.multihead_attn.out_proj.weight -> sem_seg_head.interactive_transformer.decoder.cross_attention_layers.3.multihead_attn.out_proj.weight\n",
      "sem_seg_head.predictor.rev_cross_attn_layers.3.multihead_attn.out_proj.bias -> sem_seg_head.interactive_transformer.decoder.cross_attention_layers.3.multihead_attn.out_proj.bias\n",
      "sem_seg_head.predictor.rev_cross_attn_layers.3.norm.weight -> sem_seg_head.interactive_transformer.decoder.cross_attention_layers.3.norm.weight\n",
      "sem_seg_head.predictor.rev_cross_attn_layers.3.norm.bias -> sem_seg_head.interactive_transformer.decoder.cross_attention_layers.3.norm.bias\n",
      "sem_seg_head.predictor.rev_cross_attn_layers.4.multihead_attn.in_proj_weight -> sem_seg_head.interactive_transformer.decoder.cross_attention_layers.4.multihead_attn.in_proj_weight\n",
      "sem_seg_head.predictor.rev_cross_attn_layers.4.multihead_attn.in_proj_bias -> sem_seg_head.interactive_transformer.decoder.cross_attention_layers.4.multihead_attn.in_proj_bias\n",
      "sem_seg_head.predictor.rev_cross_attn_layers.4.multihead_attn.out_proj.weight -> sem_seg_head.interactive_transformer.decoder.cross_attention_layers.4.multihead_attn.out_proj.weight\n",
      "sem_seg_head.predictor.rev_cross_attn_layers.4.multihead_attn.out_proj.bias -> sem_seg_head.interactive_transformer.decoder.cross_attention_layers.4.multihead_attn.out_proj.bias\n",
      "sem_seg_head.predictor.rev_cross_attn_layers.4.norm.weight -> sem_seg_head.interactive_transformer.decoder.cross_attention_layers.4.norm.weight\n",
      "sem_seg_head.predictor.rev_cross_attn_layers.4.norm.bias -> sem_seg_head.interactive_transformer.decoder.cross_attention_layers.4.norm.bias\n",
      "sem_seg_head.predictor.rev_cross_attn_ffn_layers.0.linear1.weight -> sem_seg_head.interactive_transformer.decoder.ffn_layers.0.linear1.weight\n",
      "sem_seg_head.predictor.rev_cross_attn_ffn_layers.0.linear1.bias -> sem_seg_head.interactive_transformer.decoder.ffn_layers.0.linear1.bias\n",
      "sem_seg_head.predictor.rev_cross_attn_ffn_layers.0.linear2.weight -> sem_seg_head.interactive_transformer.decoder.ffn_layers.0.linear2.weight\n",
      "sem_seg_head.predictor.rev_cross_attn_ffn_layers.0.linear2.bias -> sem_seg_head.interactive_transformer.decoder.ffn_layers.0.linear2.bias\n",
      "sem_seg_head.predictor.rev_cross_attn_ffn_layers.0.norm.weight -> sem_seg_head.interactive_transformer.decoder.ffn_layers.0.norm.weight\n",
      "sem_seg_head.predictor.rev_cross_attn_ffn_layers.0.norm.bias -> sem_seg_head.interactive_transformer.decoder.ffn_layers.0.norm.bias\n",
      "sem_seg_head.predictor.rev_cross_attn_ffn_layers.1.linear1.weight -> sem_seg_head.interactive_transformer.decoder.ffn_layers.1.linear1.weight\n",
      "sem_seg_head.predictor.rev_cross_attn_ffn_layers.1.linear1.bias -> sem_seg_head.interactive_transformer.decoder.ffn_layers.1.linear1.bias\n",
      "sem_seg_head.predictor.rev_cross_attn_ffn_layers.1.linear2.weight -> sem_seg_head.interactive_transformer.decoder.ffn_layers.1.linear2.weight\n",
      "sem_seg_head.predictor.rev_cross_attn_ffn_layers.1.linear2.bias -> sem_seg_head.interactive_transformer.decoder.ffn_layers.1.linear2.bias\n",
      "sem_seg_head.predictor.rev_cross_attn_ffn_layers.1.norm.weight -> sem_seg_head.interactive_transformer.decoder.ffn_layers.1.norm.weight\n",
      "sem_seg_head.predictor.rev_cross_attn_ffn_layers.1.norm.bias -> sem_seg_head.interactive_transformer.decoder.ffn_layers.1.norm.bias\n",
      "sem_seg_head.predictor.rev_cross_attn_ffn_layers.2.linear1.weight -> sem_seg_head.interactive_transformer.decoder.ffn_layers.2.linear1.weight\n",
      "sem_seg_head.predictor.rev_cross_attn_ffn_layers.2.linear1.bias -> sem_seg_head.interactive_transformer.decoder.ffn_layers.2.linear1.bias\n",
      "sem_seg_head.predictor.rev_cross_attn_ffn_layers.2.linear2.weight -> sem_seg_head.interactive_transformer.decoder.ffn_layers.2.linear2.weight\n",
      "sem_seg_head.predictor.rev_cross_attn_ffn_layers.2.linear2.bias -> sem_seg_head.interactive_transformer.decoder.ffn_layers.2.linear2.bias\n",
      "sem_seg_head.predictor.rev_cross_attn_ffn_layers.2.norm.weight -> sem_seg_head.interactive_transformer.decoder.ffn_layers.2.norm.weight\n",
      "sem_seg_head.predictor.rev_cross_attn_ffn_layers.2.norm.bias -> sem_seg_head.interactive_transformer.decoder.ffn_layers.2.norm.bias\n",
      "sem_seg_head.predictor.rev_cross_attn_ffn_layers.3.linear1.weight -> sem_seg_head.interactive_transformer.decoder.ffn_layers.3.linear1.weight\n",
      "sem_seg_head.predictor.rev_cross_attn_ffn_layers.3.linear1.bias -> sem_seg_head.interactive_transformer.decoder.ffn_layers.3.linear1.bias\n",
      "sem_seg_head.predictor.rev_cross_attn_ffn_layers.3.linear2.weight -> sem_seg_head.interactive_transformer.decoder.ffn_layers.3.linear2.weight\n",
      "sem_seg_head.predictor.rev_cross_attn_ffn_layers.3.linear2.bias -> sem_seg_head.interactive_transformer.decoder.ffn_layers.3.linear2.bias\n",
      "sem_seg_head.predictor.rev_cross_attn_ffn_layers.3.norm.weight -> sem_seg_head.interactive_transformer.decoder.ffn_layers.3.norm.weight\n",
      "sem_seg_head.predictor.rev_cross_attn_ffn_layers.3.norm.bias -> sem_seg_head.interactive_transformer.decoder.ffn_layers.3.norm.bias\n",
      "sem_seg_head.predictor.rev_cross_attn_ffn_layers.4.linear1.weight -> sem_seg_head.interactive_transformer.decoder.ffn_layers.4.linear1.weight\n",
      "sem_seg_head.predictor.rev_cross_attn_ffn_layers.4.linear1.bias -> sem_seg_head.interactive_transformer.decoder.ffn_layers.4.linear1.bias\n",
      "sem_seg_head.predictor.rev_cross_attn_ffn_layers.4.linear2.weight -> sem_seg_head.interactive_transformer.decoder.ffn_layers.4.linear2.weight\n",
      "sem_seg_head.predictor.rev_cross_attn_ffn_layers.4.linear2.bias -> sem_seg_head.interactive_transformer.decoder.ffn_layers.4.linear2.bias\n",
      "sem_seg_head.predictor.rev_cross_attn_ffn_layers.4.norm.weight -> sem_seg_head.interactive_transformer.decoder.ffn_layers.4.norm.weight\n",
      "sem_seg_head.predictor.rev_cross_attn_ffn_layers.4.norm.bias -> sem_seg_head.interactive_transformer.decoder.ffn_layers.4.norm.bias\n",
      "sem_seg_head.predictor.decoder_norm.weight -> sem_seg_head.interactive_transformer.layer_norm.weight\n",
      "sem_seg_head.predictor.decoder_norm.bias -> sem_seg_head.interactive_transformer.layer_norm.bias\n",
      "sem_seg_head.predictor.queries_nonlinear_projection.0.weight -> sem_seg_head.interactive_transformer.queries_nonlinear_projection.0.weight\n",
      "sem_seg_head.predictor.queries_nonlinear_projection.0.bias -> sem_seg_head.interactive_transformer.queries_nonlinear_projection.0.bias\n",
      "sem_seg_head.predictor.queries_nonlinear_projection.2.weight -> sem_seg_head.interactive_transformer.queries_nonlinear_projection.2.weight\n",
      "sem_seg_head.predictor.queries_nonlinear_projection.2.bias -> sem_seg_head.interactive_transformer.queries_nonlinear_projection.2.bias\n",
      "sem_seg_head.predictor.ca_qpos_sine_proj.weight -> sem_seg_head.interactive_transformer.ca_qpos_sine_proj.weight\n",
      "sem_seg_head.predictor.ca_qpos_sine_proj.bias -> sem_seg_head.interactive_transformer.ca_qpos_sine_proj.bias\n",
      "sem_seg_head.predictor.level_embed.weight -> sem_seg_head.interactive_transformer.level_embed.weight\n",
      "sem_seg_head.predictor.mask_embed.layers.0.weight -> sem_seg_head.interactive_transformer.mask_embed.layers.0.weight\n",
      "sem_seg_head.predictor.mask_embed.layers.0.bias -> sem_seg_head.interactive_transformer.mask_embed.layers.0.bias\n",
      "sem_seg_head.predictor.mask_embed.layers.1.weight -> sem_seg_head.interactive_transformer.mask_embed.layers.1.weight\n",
      "sem_seg_head.predictor.mask_embed.layers.1.bias -> sem_seg_head.interactive_transformer.mask_embed.layers.1.bias\n",
      "sem_seg_head.predictor.mask_embed.layers.2.weight -> sem_seg_head.interactive_transformer.mask_embed.layers.2.weight\n",
      "sem_seg_head.predictor.mask_embed.layers.2.bias -> sem_seg_head.interactive_transformer.mask_embed.layers.2.bias\n"
     ]
    }
   ],
   "source": [
    "obj = torch.load(\"output/mq_swin_large_fusion_pf_stuff_concat_xyt_mlp_bs32_ep100/model_final.pth\", map_location=\"cpu\")\n",
    "\n",
    "del obj['model']['criterion.empty_weight']\n",
    "\n",
    "newobj = {}\n",
    "newmodel = {}\n",
    "for key in obj.keys():\n",
    "    if key == \"model\":\n",
    "        for k in list(obj['model'].keys()):\n",
    "            old_k = k\n",
    "            if \"predictor\" in k:\n",
    "                k = k.replace(\"predictor\", \"interactive_transformer\")\n",
    "                if \"transformer_self_attention_layers\" in k:\n",
    "                    k = k.replace(\"transformer_self_attention_layers\", \"encoder.self_attention_layers\")\n",
    "                if \"transformer_cross_attention_layers\" in k:\n",
    "                    k = k.replace(\"transformer_cross_attention_layers\", \"encoder.cross_attention_layers\")\n",
    "                if \"transformer_ffn_layers\" in k:\n",
    "                    k = k.replace(\"transformer_ffn_layers\", \"encoder.ffn_layers\")\n",
    "                if \"rev_cross_attn_layers\" in k:\n",
    "                    k = k.replace(\"rev_cross_attn_layers\", \"decoder.cross_attention_layers\")\n",
    "                if \"rev_cross_attn_ffn_layers\" in k:\n",
    "                    k = k.replace(\"rev_cross_attn_ffn_layers\", \"decoder.ffn_layers\")\n",
    "                if \"pe_mask_features\" in k:\n",
    "                    k = k.replace(\"pe_mask_features\", \"decoder.pe_mask_features\")\n",
    "                if \"decoder_norm\" in k:\n",
    "                    k = k.replace(\"decoder_norm\", \"layer_norm\")\n",
    "            if old_k != k:\n",
    "                print(old_k, \"->\", k)\n",
    "            newmodel[k] = obj['model'].pop(old_k).detach()\n",
    "        newobj['model'] = newmodel\n",
    "    else:\n",
    "        newobj[key] = obj[key]\n",
    "    \n",
    "\n",
    "# res = {\"model\": newmodel, \"__author__\": \"torchvision\", \"matching_heuristics\": True}\n",
    "# import pickle as pkl\n",
    "# with open(\"convereted_swin_large_final.pth\", \"wb\") as f:\n",
    "#     pkl.dump(obj, f)\n",
    "torch.save(newobj, \"convereted_swin_large_final.pth\")"
   ]
  },
  {
   "cell_type": "code",
   "execution_count": 114,
   "metadata": {},
   "outputs": [
    {
     "name": "stdout",
     "output_type": "stream",
     "text": [
      "0.3433503404869388\n",
      "0.679400968035765\n",
      "0.039312044731126594\n",
      "0.02832006852528457\n",
      "0.8472388052647847\n"
     ]
    }
   ],
   "source": [
    "np.random.seed(234556587)\n",
    "np.random.get_state()[1][0]\n",
    "for _ in range(5):\n",
    "    print(np.random.random())"
   ]
  },
  {
   "cell_type": "code",
   "execution_count": 94,
   "metadata": {},
   "outputs": [
    {
     "data": {
      "image/png": "[encoded data removed]",
      "text/plain": [
       "<Figure size 432x288 with 1 Axes>"
      ]
     },
     "metadata": {
      "needs_background": "light"
     },
     "output_type": "display_data"
    }
   ],
   "source": [
    "import matplotlib\n",
    "import matplotlib.pyplot as plt\n",
    "\n",
    "fig = plt.figure()\n",
    "ax = fig.add_subplot()\n",
    "# fig.subplots_adjust(top=0.85)\n",
    "\n",
    "# Set titles for the figure and the subplot respectively\n",
    "# fig.suptitle('bold figure suptitle', fontsize=14, fontweight='bold')\n",
    "# ax.set_title('axes title')\n",
    "\n",
    "ax.set_xlabel(r'$x$')\n",
    "ax.set_ylabel(r'$f(x)$')\n",
    "\n",
    "# Set both x- and y-axis limits to [0, 10] instead of default [0, 1]\n",
    "ax.axis([-4, 4, -4, 8])\n",
    "\n",
    "# ax.text(3, 8, 'boxed italics text in data coords', style='italic',\n",
    "#         bbox={'facecolor': 'red', 'alpha': 0.5, 'pad': 10})\n",
    "\n",
    "# ax.text(2, 6, r'an equation: $E=mc^2$', fontsize=15)\n",
    "\n",
    "# ax.text(3, 2, 'Unicode: Institut für Festkörperphysik')\n",
    "\n",
    "# ax.text(0.95, 0.01, 'colored text in axes coords',\n",
    "#         verticalalignment='bottom', horizontalalignment='right',\n",
    "#         transform=ax.transAxes,\n",
    "        # color='green', fontsize=15)\n",
    "x = np.arange(-4,4,0.1)\n",
    "y = (x**2)/2\n",
    "ax.plot(x,y, '--', x,x,'-')\n",
    "# ax.annotate('annotate', xy=(2, 1), xytext=(3, 4),\n",
    "#             arrowprops=dict(facecolor='black', shrink=0.05))\n",
    "\n",
    "plt.show()"
   ]
  },
  {
   "cell_type": "code",
   "execution_count": 63,
   "metadata": {},
   "outputs": [
    {
     "name": "stdout",
     "output_type": "stream",
     "text": [
      "tensor([[ 0.0757, -0.7272, -1.3130,  0.0838,  0.7196],\n",
      "        [-0.2034, -1.1972,  0.3110,  0.3514,  1.0811],\n",
      "        [ 0.0807, -0.9097,  1.3514, -0.5874,  0.4642]], requires_grad=True)\n",
      "tensor([3, 2, 3])\n",
      "tensor(1.9118, grad_fn=<NllLossBackward>)\n"
     ]
    }
   ],
   "source": [
    "import torch\n",
    "import torch.nn as nn\n",
    "torch.seed()\n",
    "loss = nn.CrossEntropyLoss()\n",
    "input = torch.randn(3, 5, requires_grad=True)\n",
    "print(input)\n",
    "target = torch.empty(3, dtype=torch.long).random_(5)\n",
    "print(target)\n",
    "output = loss(input, target)\n",
    "print(output)\n",
    "output.backward()"
   ]
  },
  {
   "cell_type": "code",
   "execution_count": 64,
   "metadata": {},
   "outputs": [
    {
     "data": {
      "text/plain": [
       "tensor([[0.2169, 0.0972, 0.0541, 0.2187, 0.4130],\n",
       "        [0.1191, 0.0441, 0.1992, 0.2074, 0.4302],\n",
       "        [0.1446, 0.0537, 0.5153, 0.0741, 0.2122]], grad_fn=<SoftmaxBackward>)"
      ]
     },
     "execution_count": 64,
     "metadata": {},
     "output_type": "execute_result"
    }
   ],
   "source": [
    "s = torch.softmax(input,dim=-1)\n",
    "s"
   ]
  },
  {
   "cell_type": "code",
   "execution_count": 69,
   "metadata": {},
   "outputs": [
    {
     "data": {
      "text/plain": [
       "tensor(1.9118, grad_fn=<DivBackward0>)"
      ]
     },
     "execution_count": 69,
     "metadata": {},
     "output_type": "execute_result"
    }
   ],
   "source": [
    "sum =0 \n",
    "for i,j in enumerate(target):\n",
    "    sum+= torch.log(s[i][j])\n",
    "-sum/3"
   ]
  },
  {
   "cell_type": "code",
   "execution_count": 55,
   "metadata": {},
   "outputs": [],
   "source": [
    "import yaml\n",
    "import io\n",
    "\n",
    "with open(\"./output/config.yaml\", 'r') as stream:\n",
    "    data_loaded = yaml.safe_load(stream)"
   ]
  },
  {
   "cell_type": "code",
   "execution_count": 56,
   "metadata": {},
   "outputs": [],
   "source": [
    "data_loaded['DATASETS']['TEST'] = ['Berkeley']"
   ]
  },
  {
   "cell_type": "code",
   "execution_count": 57,
   "metadata": {},
   "outputs": [],
   "source": [
    "with io.open('./output/config1.yaml', 'w', encoding='utf8') as outfile:\n",
    "    yaml.dump(data_loaded, outfile, default_flow_style=False, allow_unicode=True)"
   ]
  },
  {
   "cell_type": "code",
   "execution_count": 27,
   "metadata": {},
   "outputs": [
    {
     "data": {
      "text/plain": [
       "[(1.0, 0.0, 0.0),\n",
       " (0.8000000000000007, 0.0, 1.0),\n",
       " (0.7999999999999998, 1.0, 0.0),\n",
       " (0.0, 0.40000000000000036, 1.0),\n",
       " (0.0, 1.0, 0.40000000000000036)]"
      ]
     },
     "execution_count": 27,
     "metadata": {},
     "output_type": "execute_result"
    }
   ],
   "source": [
    "import colorsys\n",
    "def random_colors(N, bright=True):\n",
    "    \"\"\"\n",
    "    Generate random colors.\n",
    "    \"\"\"\n",
    "    brightness = 1.0 if bright else 0.7\n",
    "    hsv = [(i / N, 1, brightness) for i in range(N)]\n",
    "    colors = list(map(lambda c: colorsys.hsv_to_rgb(*c), hsv))\n",
    "    random.shuffle(colors)\n",
    "    return colors\n",
    "random_colors(5)"
   ]
  },
  {
   "cell_type": "code",
   "execution_count": 23,
   "metadata": {},
   "outputs": [
    {
     "data": {
      "text/plain": [
       "0.0"
      ]
     },
     "execution_count": 23,
     "metadata": {},
     "output_type": "execute_result"
    }
   ],
   "source": [
    "np.ceil(0)"
   ]
  },
  {
   "cell_type": "code",
   "execution_count": 653,
   "metadata": {},
   "outputs": [
    {
     "data": {
      "text/plain": [
       "False"
      ]
     },
     "execution_count": 653,
     "metadata": {},
     "output_type": "execute_result"
    }
   ],
   "source": [
    "cont_clicks_per_obj = [3,4,4,5,2]\n",
    "ious = [0.80, 0.81, 0,0, 0.89]\n",
    "max_cont_clicks = 5\n",
    "iou_threshold = 0.8\n",
    "all((iou>=iou_threshold or c >= max_cont_clicks) for iou,c in zip(ious,cont_clicks_per_obj))"
   ]
  },
  {
   "cell_type": "code",
   "execution_count": 668,
   "metadata": {},
   "outputs": [
    {
     "data": {
      "text/plain": [
       "0.4624"
      ]
     },
     "execution_count": 668,
     "metadata": {},
     "output_type": "execute_result"
    }
   ],
   "source": [
    "round(0.4623729789492,4)"
   ]
  },
  {
   "cell_type": "code",
   "execution_count": 421,
   "metadata": {},
   "outputs": [
    {
     "data": {
      "text/plain": [
       "1"
      ]
     },
     "execution_count": 421,
     "metadata": {},
     "output_type": "execute_result"
    }
   ],
   "source": [
    "random.randint(0,1)"
   ]
  },
  {
   "cell_type": "code",
   "execution_count": 431,
   "metadata": {},
   "outputs": [
    {
     "data": {
      "text/plain": [
       "array([[ True,  True,  True,  True,  True],\n",
       "       [ True,  True,  True,  True,  True],\n",
       "       [ True,  True,  True,  True,  True],\n",
       "       [ True,  True,  True,  True,  True],\n",
       "       [ True,  True,  True,  True,  True]])"
      ]
     },
     "execution_count": 431,
     "metadata": {},
     "output_type": "execute_result"
    }
   ],
   "source": [
    "x = np.ones((5,5))\n",
    "y = np.zeros((5,5))\n",
    "z = x!=y\n",
    "z"
   ]
  },
  {
   "cell_type": "code",
   "execution_count": 425,
   "metadata": {},
   "outputs": [
    {
     "name": "stdout",
     "output_type": "stream",
     "text": [
      "0\n",
      "[7, 3, 1, 9, 6, 5, 8, 2, 0, 4]\n",
      "[5, 1, 0, 8, 6, 7, 4, 2, 9, 3]\n",
      "[1, 2, 9, 7, 4, 6, 8, 3, 0, 5]\n",
      "1\n",
      "[2, 9, 0, 1, 8, 7, 4, 5, 3, 6]\n",
      "[3, 6, 2, 1, 9, 5, 4, 7, 0, 8]\n",
      "[4, 9, 2, 8, 0, 6, 7, 5, 3, 1]\n",
      "2\n",
      "[5, 1, 7, 9, 0, 6, 3, 4, 2, 8]\n",
      "[8, 4, 2, 6, 7, 1, 9, 3, 5, 0]\n",
      "[7, 0, 5, 3, 8, 6, 9, 1, 4, 2]\n"
     ]
    }
   ],
   "source": [
    "x = list(range(10))\n",
    "for i in range(3):\n",
    "    print(i)\n",
    "    random.seed(123456+i)\n",
    "    random.shuffle(x)\n",
    "    print(x)\n",
    "    random.shuffle(x)\n",
    "    print(x)\n",
    "    random.shuffle(x)\n",
    "    print(x)"
   ]
  },
  {
   "cell_type": "code",
   "execution_count": 67,
   "metadata": {},
   "outputs": [],
   "source": [
    "masks = torch.zeros((0, 10, 10), dtype=torch.uint8)\n",
    "mask_areas = torch.sum(masks, (1,2))"
   ]
  },
  {
   "cell_type": "code",
   "execution_count": 69,
   "metadata": {},
   "outputs": [],
   "source": [
    "gt_masks =  masks[sorted(range(len(mask_areas)),key=mask_areas.__getitem__,reverse=True)]"
   ]
  },
  {
   "cell_type": "code",
   "execution_count": 79,
   "metadata": {},
   "outputs": [],
   "source": [
    "gt_masks = torch.zeros((0, 10, 10), dtype=torch.uint8)\n",
    "mask_areas = torch.sum(gt_masks, (1,2))\n",
    "gt_masks = gt_masks.to(dtype=torch.uint8)\n",
    "gt_masks =  gt_masks[sorted(range(len(mask_areas)),key=mask_areas.__getitem__,reverse=True)]\n",
    "\n",
    "instance_map = torch.zeros((gt_masks.shape[-2:]), dtype=torch.int16)\n",
    "num_objects = gt_masks.shape[0]\n",
    "instances_ids = np.arange(1, num_objects + 1)\n",
    "\n",
    "for _id, _m in enumerate(gt_masks):\n",
    "    instance_map[_m == 1] = _id+1\n",
    "    assert (_m != 0).sum() > 0\n",
    "\n",
    "new_gt_masks = []\n",
    "for _id in instances_ids:\n",
    "    _m = (instance_map == _id).to(dtype=torch.uint8)\n",
    "    if _m.sum() > 0:\n",
    "        new_gt_masks.append(_m)"
   ]
  },
  {
   "cell_type": "code",
   "execution_count": 83,
   "metadata": {},
   "outputs": [
    {
     "name": "stdout",
     "output_type": "stream",
     "text": [
      "0\n"
     ]
    }
   ],
   "source": [
    "if not len(new_gt_masks):\n",
    "    print(\"0\")"
   ]
  },
  {
   "cell_type": "code",
   "execution_count": 19,
   "metadata": {},
   "outputs": [],
   "source": [
    "coco_mval_images = os.listdir(\"datasets/COCO_MVal/img\")\n",
    "coco_mval_ids = [img_id.split(\"_\")[-1] for img_id in coco_mval_images]"
   ]
  },
  {
   "cell_type": "code",
   "execution_count": 20,
   "metadata": {},
   "outputs": [
    {
     "data": {
      "text/plain": [
       "['cow08_000000061171.jpg',\n",
       " 'stop sign07_000000000724.jpg',\n",
       " 'apple08_000000113589.jpg',\n",
       " 'pizza00_000000197022.jpg',\n",
       " 'train04_000000546659.jpg',\n",
       " 'giraffe02_000000301981.jpg',\n",
       " 'microwave05_000000498463.jpg',\n",
       " 'cat03_000000115885.jpg',\n",
       " 'hot dog00_000000322574.jpg',\n",
       " 'broccoli07_000000296634.jpg']"
      ]
     },
     "execution_count": 20,
     "metadata": {},
     "output_type": "execute_result"
    }
   ],
   "source": [
    "coco_mval_images[:10]"
   ]
  },
  {
   "cell_type": "code",
   "execution_count": 21,
   "metadata": {},
   "outputs": [
    {
     "data": {
      "text/plain": [
       "['000000061171.jpg',\n",
       " '000000000724.jpg',\n",
       " '000000113589.jpg',\n",
       " '000000197022.jpg',\n",
       " '000000546659.jpg',\n",
       " '000000301981.jpg',\n",
       " '000000498463.jpg',\n",
       " '000000115885.jpg',\n",
       " '000000322574.jpg',\n",
       " '000000296634.jpg']"
      ]
     },
     "execution_count": 21,
     "metadata": {},
     "output_type": "execute_result"
    }
   ],
   "source": [
    "coco_mval_ids[:10]"
   ]
  },
  {
   "cell_type": "code",
   "execution_count": 29,
   "metadata": {},
   "outputs": [],
   "source": [
    "cocoval17 = os.listdir(\"datasets/coco/val2017\")"
   ]
  },
  {
   "cell_type": "code",
   "execution_count": 33,
   "metadata": {},
   "outputs": [],
   "source": [
    "d = DatasetCatalog.get(\"coco_2017_val\")"
   ]
  },
  {
   "cell_type": "code",
   "execution_count": 37,
   "metadata": {},
   "outputs": [],
   "source": [
    "val_ids = []\n",
    "for i in range(len(d)): \n",
    "    val_ids.append(str(d[i][\"file_name\"]).split(\"/\")[-1])"
   ]
  },
  {
   "cell_type": "code",
   "execution_count": 30,
   "metadata": {},
   "outputs": [
    {
     "data": {
      "text/plain": [
       "['000000217219.jpg',\n",
       " '000000405972.jpg',\n",
       " '000000047010.jpg',\n",
       " '000000085823.jpg',\n",
       " '000000225184.jpg',\n",
       " '000000578871.jpg',\n",
       " '000000129113.jpg',\n",
       " '000000344100.jpg',\n",
       " '000000409475.jpg',\n",
       " '000000534605.jpg']"
      ]
     },
     "execution_count": 30,
     "metadata": {},
     "output_type": "execute_result"
    }
   ],
   "source": [
    "cocoval17[:10]"
   ]
  },
  {
   "cell_type": "code",
   "execution_count": 41,
   "metadata": {},
   "outputs": [
    {
     "data": {
      "text/plain": [
       "800"
      ]
     },
     "execution_count": 41,
     "metadata": {},
     "output_type": "execute_result"
    }
   ],
   "source": [
    "c = 0\n",
    "out = []\n",
    "for id in coco_mval_ids :\n",
    "    out.append(val_ids.index(id))\n",
    "    c+=1\n",
    "c"
   ]
  },
  {
   "cell_type": "code",
   "execution_count": 118,
   "metadata": {},
   "outputs": [
    {
     "data": {
      "text/plain": [
       "[0, 1, 2, 3, 4]"
      ]
     },
     "execution_count": 118,
     "metadata": {},
     "output_type": "execute_result"
    }
   ],
   "source": []
  },
  {
   "cell_type": "code",
   "execution_count": 119,
   "metadata": {},
   "outputs": [
    {
     "data": {
      "text/plain": [
       "[0, 1, 2, 3, 7, 4]"
      ]
     },
     "execution_count": 119,
     "metadata": {},
     "output_type": "execute_result"
    }
   ],
   "source": [
    "random_indexes.insert(4,7)\n",
    "random_indexes"
   ]
  },
  {
   "cell_type": "code",
   "execution_count": 102,
   "metadata": {},
   "outputs": [
    {
     "data": {
      "text/plain": [
       "[0, 3, 4, 2, 1]"
      ]
     },
     "execution_count": 102,
     "metadata": {},
     "output_type": "execute_result"
    }
   ],
   "source": [
    "random_indexes = list(range(5))\n",
    "random.shuffle(random_indexes)\n",
    "random_indexes"
   ]
  },
  {
   "cell_type": "code",
   "execution_count": 103,
   "metadata": {},
   "outputs": [
    {
     "data": {
      "text/plain": [
       "[1, 3, 2, 4, 0]"
      ]
     },
     "execution_count": 103,
     "metadata": {},
     "output_type": "execute_result"
    }
   ],
   "source": [
    "random.shuffle(random_indexes)\n",
    "random_indexes"
   ]
  },
  {
   "cell_type": "code",
   "execution_count": 56,
   "metadata": {},
   "outputs": [],
   "source": [
    "k=5\n",
    "assert k==5, \"K should be 5\""
   ]
  },
  {
   "cell_type": "code",
   "execution_count": 611,
   "metadata": {},
   "outputs": [],
   "source": [
    "import torch\n",
    "import torchvision.models as models\n",
    "from torch.profiler import profile, record_function, ProfilerActivity\n",
    "model = models.resnet18().cuda()\n",
    "inputs = torch.randn(5, 3, 224, 224).cuda()"
   ]
  },
  {
   "cell_type": "code",
   "execution_count": 616,
   "metadata": {},
   "outputs": [],
   "source": [
    "with profile(activities=[ProfilerActivity.CPU, ProfilerActivity.CUDA], profile_memory=True, record_shapes=True) as prof:\n",
    "    with record_function(\"model_inference\"):\n",
    "        for i in range(5):\n",
    "           x = model(inputs)"
   ]
  },
  {
   "cell_type": "code",
   "execution_count": 619,
   "metadata": {},
   "outputs": [],
   "source": [
    "prof.export_chrome_trace(\"trace.json\")"
   ]
  },
  {
   "cell_type": "code",
   "execution_count": 620,
   "metadata": {},
   "outputs": [],
   "source": [
    "with open(\"trace.json\") as f:\n",
    "    p = json.load(f)"
   ]
  },
  {
   "cell_type": "code",
   "execution_count": 625,
   "metadata": {},
   "outputs": [
    {
     "data": {
      "text/plain": [
       "dict_keys(['schemaVersion', 'deviceProperties', 'traceEvents'])"
      ]
     },
     "execution_count": 625,
     "metadata": {},
     "output_type": "execute_result"
    }
   ],
   "source": [
    "p.keys()"
   ]
  },
  {
   "cell_type": "code",
   "execution_count": null,
   "metadata": {},
   "outputs": [],
   "source": [
    "print(prof.key_averages().table(sort_by=\"cuda_time_total\", row_limit=1))"
   ]
  },
  {
   "cell_type": "markdown",
   "metadata": {},
   "source": [
    "# Multi-instance tau v/s mean IOU\n"
   ]
  },
  {
   "cell_type": "code",
   "execution_count": 5,
   "metadata": {},
   "outputs": [],
   "source": [
    "def get_mean_IOU(summary_stats):\n",
    "    ious_objects_per_interaction = summary_stats[\"ious_objects_per_interaction\"]\n",
    "    # Avg_IOU = 0.0\n",
    "    total_images = len(list(ious_objects_per_interaction.keys()))\n",
    "    # total_num_instances = 0\n",
    "    iou_per_tau = np.zeros(20)\n",
    "    for _image_id in ious_objects_per_interaction.keys():\n",
    "        n = len(ious_objects_per_interaction[_image_id][0])\n",
    "        i=0\n",
    "        j=0\n",
    "        while(i<len(ious_objects_per_interaction[_image_id])):\n",
    "            final_ious = ious_objects_per_interaction[_image_id][i]\n",
    "            # print(final_ious)\n",
    "            Avg_IOU = sum(final_ious)/len(final_ious)\n",
    "            iou_per_tau[j] += Avg_IOU\n",
    "            i+=n\n",
    "            j+=1\n",
    "    # Avg_IOU/=total_images\n",
    "    print(total_images)\n",
    "    iou_per_tau/=total_images\n",
    "    return iou_per_tau"
   ]
  },
  {
   "cell_type": "code",
   "execution_count": 6,
   "metadata": {},
   "outputs": [],
   "source": [
    "_root_dir = os.path.join(os.getcwd(), \"output/evaluation/final/summary/davis_2017_val/tau\")"
   ]
  },
  {
   "cell_type": "code",
   "execution_count": 7,
   "metadata": {},
   "outputs": [
    {
     "name": "stdout",
     "output_type": "stream",
     "text": [
      "mq_mit_b0_fusion_pf_uni_time_pe_bs128_ep50_random_seed_1_20.pickle\n",
      "1999\n",
      "[0.90125141 0.90125141 0.90125141 0.90125141 0.90125141 0.90125141\n",
      " 0.90125141 0.90125141 0.90125141 0.90125141 0.90125141 0.90125141\n",
      " 0.90125141 0.90125141 0.90125141 0.90125141 0.90125141 0.90125141\n",
      " 0.90125141 0.90125141]\n",
      "mq_mit_b0_fusion_pf_uni_time_pe_bs128_ep50_random_seed_2_20.pickle\n",
      "1999\n",
      "[0.90091243 0.90091243 0.90091243 0.90091243 0.90091243 0.90091243\n",
      " 0.90091243 0.90091243 0.90091243 0.90091243 0.90091243 0.90091243\n",
      " 0.90091243 0.90091243 0.90091243 0.90091243 0.90091243 0.90091243\n",
      " 0.90091243 0.90091243]\n",
      "mq_swin_tiny_fusion_pf_uni_time_pe_bs128_ep50_random_seed_2_20.pickle\n",
      "1999\n",
      "[0.90304692 0.90304692 0.90304692 0.90304692 0.90304692 0.90304692\n",
      " 0.90304692 0.90304692 0.90304692 0.90304692 0.90304692 0.90304692\n",
      " 0.90304692 0.90304692 0.90304692 0.90304692 0.90304692 0.90304692\n",
      " 0.90304692 0.90304692]\n"
     ]
    }
   ],
   "source": [
    "model_names = []\n",
    "iou_list_per_model = []\n",
    "min_iou = 1.0\n",
    "max_iou= -1.0\n",
    "for f in os.listdir(_root_dir):\n",
    "    # print(model)\n",
    "    # pkl_files_path = os.path.join(_root_dir,f)\n",
    "    # pkl_files = os.listdir(pkl_files_path)\n",
    "    # model_names.append(model)\n",
    "    print(f)\n",
    "    # iou_per_tau = []\n",
    "    # for (i,f) in enumerate(pkl_files):\n",
    "    #     if i>=7:\n",
    "    #         continue\n",
    "    pickle_path = os.path.join(_root_dir, f)\n",
    "    with open(pickle_path, 'rb') as handle:\n",
    "        summary_stats= pickle.load(handle)\n",
    "    iou_per_tau= get_mean_IOU(summary_stats)\n",
    "    print(iou_per_tau)\n",
    "    # iou_per_tau.append(iou)\n",
    "    min_iou = min(min(iou_per_tau),min_iou)\n",
    "    max_iou = max(max(iou_per_tau),max_iou)\n",
    "    iou_list_per_model.append(iou_per_tau)"
   ]
  },
  {
   "cell_type": "code",
   "execution_count": 646,
   "metadata": {},
   "outputs": [],
   "source": [
    "model_names = [\"Swin-T\", \"Segformer-B0\"]\n",
    "colors = [\"red\", \"blue\", \"green\", \"orange\"]\n"
   ]
  },
  {
   "cell_type": "code",
   "execution_count": null,
   "metadata": {},
   "outputs": [],
   "source": [
    "plt.figure(figsize=(15,10)) \n",
    "n = min(20,len(iou_list_per_model[0]))\n",
    "for i in range(len(model_names)):\n",
    "    # if i==4 or i==5 or i==1:\n",
    "    plt.plot(range(1,n+1), iou_list_per_model[i][:n], colors[i],label=model_names[i], linewidth=3) #linestyle='dashed')\n",
    "plt.title(\"DAVIS\")\n",
    "plt.xlabel(\"Tau\")\n",
    "plt.ylabel(\"mean IOU\")\n",
    "plt.legend()\n",
    "plt.xlim(0,n+1)\n",
    "plt.yticks(np.arange(round(min_iou.item(),2), max_iou+0.01, 0.01))\n",
    "plt.xticks(np.arange(1,n+1,1))\n",
    "# plt.ylim(min(iou_per_click)-0.01, max(iou_per_click)+0.01)\n",
    "plt.grid(True)\n",
    "plt.savefig(\"tau_iou.jpg\")\n",
    "plt.show()"
   ]
  },
  {
   "cell_type": "code",
   "execution_count": 697,
   "metadata": {},
   "outputs": [
    {
     "name": "stdout",
     "output_type": "stream",
     "text": [
      "mq_swin_tiny_fusion_pf_uni_time_pe_bs128_ep50_random_seed_1_20.pickle\n"
     ]
    },
    {
     "ename": "NotADirectoryError",
     "evalue": "[Errno 20] Not a directory: '/home/rana/Thesis/DynaMITe/output/evaluation/final/summary/sbd_multi_insts/tau/mq_swin_tiny_fusion_pf_uni_time_pe_bs128_ep50_random_seed_1_20.pickle'",
     "output_type": "error",
     "traceback": [
      "\u001b[0;31m---------------------------------------------------------------------------\u001b[0m",
      "\u001b[0;31mNotADirectoryError\u001b[0m                        Traceback (most recent call last)",
      "\u001b[1;32m/home/rana/Thesis/DynaMITe/visual_results.ipynb Cell 33'\u001b[0m in \u001b[0;36m<cell line: 5>\u001b[0;34m()\u001b[0m\n\u001b[1;32m      <a href='vscode-notebook-cell:/home/rana/Thesis/DynaMITe/visual_results.ipynb#ch0000221?line=5'>6</a>\u001b[0m \u001b[39mprint\u001b[39m(model)\n\u001b[1;32m      <a href='vscode-notebook-cell:/home/rana/Thesis/DynaMITe/visual_results.ipynb#ch0000221?line=6'>7</a>\u001b[0m pkl_files_path \u001b[39m=\u001b[39m os\u001b[39m.\u001b[39mpath\u001b[39m.\u001b[39mjoin(_root_dir,model)\n\u001b[0;32m----> <a href='vscode-notebook-cell:/home/rana/Thesis/DynaMITe/visual_results.ipynb#ch0000221?line=7'>8</a>\u001b[0m pkl_files \u001b[39m=\u001b[39m os\u001b[39m.\u001b[39;49mlistdir(pkl_files_path)\n\u001b[1;32m      <a href='vscode-notebook-cell:/home/rana/Thesis/DynaMITe/visual_results.ipynb#ch0000221?line=8'>9</a>\u001b[0m model_names\u001b[39m.\u001b[39mappend(model)\n\u001b[1;32m     <a href='vscode-notebook-cell:/home/rana/Thesis/DynaMITe/visual_results.ipynb#ch0000221?line=9'>10</a>\u001b[0m \u001b[39mprint\u001b[39m(pkl_files)\n",
      "\u001b[0;31mNotADirectoryError\u001b[0m: [Errno 20] Not a directory: '/home/rana/Thesis/DynaMITe/output/evaluation/final/summary/sbd_multi_insts/tau/mq_swin_tiny_fusion_pf_uni_time_pe_bs128_ep50_random_seed_1_20.pickle'"
     ]
    }
   ],
   "source": [
    "model_names = []\n",
    "iou_list_per_model = []\n",
    "min_iou = 1.0\n",
    "max_iou= -1.0\n",
    "for model in os.listdir(_root_dir):\n",
    "    print(model)\n",
    "    pkl_files_path = os.path.join(_root_dir,model)\n",
    "    pkl_files = os.listdir(pkl_files_path)\n",
    "    model_names.append(model)\n",
    "    print(pkl_files)\n",
    "    iou_per_tau = []\n",
    "    for (i,f) in enumerate(pkl_files):\n",
    "        if i>=7:\n",
    "            continue\n",
    "        pickle_path = os.path.join(pkl_files_path, f)\n",
    "        with open(pickle_path, 'rb') as handle:\n",
    "            summary_stats= pickle.load(handle)\n",
    "        iou= get_mean_IOU(summary_stats)\n",
    "        iou_per_tau.append(iou)\n",
    "        min_iou = min(iou,min_iou)\n",
    "        max_iou = max(iou,max_iou)\n",
    "    iou_list_per_model.append(iou_per_tau)"
   ]
  },
  {
   "cell_type": "markdown",
   "metadata": {},
   "source": [
    "# Summarising single-instance evaluation"
   ]
  },
  {
   "cell_type": "code",
   "execution_count": 2,
   "metadata": {},
   "outputs": [],
   "source": [
    "import json\n"
   ]
  },
  {
   "cell_type": "code",
   "execution_count": 7,
   "metadata": {},
   "outputs": [],
   "source": [
    "_root_dir = os.path.join(os.getcwd(), \"output/evaluation/iccv_final/final/summary\")\n",
    "datasets = [\"GrabCut\", \"Berkeley\", \"davis_single_inst\",\"coco_Mval\",\"sbd_single_inst\"]\n",
    "focal_dir = \"/home/mahadevan/vision/external_algorithms/ClickSEG/experiments/iccv/segformer_multi\"\n",
    "f_datasets = [\"GrabCut\", \"Berkeley\", \"DAVIS\",\"COCO_MVal\",\"SBD\"]"
   ]
  },
  {
   "cell_type": "code",
   "execution_count": 8,
   "metadata": {},
   "outputs": [
    {
     "name": "stdout",
     "output_type": "stream",
     "text": [
      "GrabCut\n",
      "mq_R50_fusion_pf_stuff_concat_xyt_bs32_ep50_final_S1_V1_20.pickle\n",
      "mq_swin_tiny_fusion_pf_stuff_concat_xyt_bs32_ep50_final_S1_V1_20.pickle\n",
      "mq_mit_b0_fusion_pf_stuff_concat_xyt_bs32_ep50_final_S1_V1_20.pickle\n",
      "mq_hrnet32_fusion_pf_stuff_concat_xyt_bs32_ep50_final_S1_V1_20.pickle\n",
      "\n",
      "\n"
     ]
    },
    {
     "data": {
      "image/png": "[encoded data removed]",
      "text/plain": [
       "<Figure size 1080x720 with 1 Axes>"
      ]
     },
     "metadata": {
      "needs_background": "light"
     },
     "output_type": "display_data"
    },
    {
     "name": "stdout",
     "output_type": "stream",
     "text": [
      "Berkeley\n",
      "mq_R50_fusion_pf_stuff_concat_xyt_bs32_ep50_final_S1_V1_20.pickle\n",
      "mq_swin_tiny_fusion_pf_stuff_concat_xyt_bs32_ep50_final_S1_V1_20.pickle\n",
      "mq_mit_b0_fusion_pf_stuff_concat_xyt_bs32_ep50_final_S1_V1_20.pickle\n",
      "mq_hrnet32_fusion_pf_stuff_concat_xyt_bs32_ep50_final_S1_V1_20.pickle\n",
      "\n",
      "\n"
     ]
    },
    {
     "data": {
      "image/png": "[encoded data removed]",
      "text/plain": [
       "<Figure size 1080x720 with 1 Axes>"
      ]
     },
     "metadata": {
      "needs_background": "light"
     },
     "output_type": "display_data"
    },
    {
     "name": "stdout",
     "output_type": "stream",
     "text": [
      "davis_single_inst\n",
      "mq_R50_fusion_pf_stuff_concat_xyt_bs32_ep50_final_S1_V1_20.pickle\n",
      "mq_swin_tiny_fusion_pf_stuff_concat_xyt_bs32_ep50_final_S1_V1_20.pickle\n",
      "mq_mit_b0_fusion_pf_stuff_concat_xyt_bs32_ep50_final_S1_V1_20.pickle\n",
      "mq_hrnet32_fusion_pf_stuff_concat_xyt_bs32_ep50_final_S1_V1_20.pickle\n",
      "\n",
      "\n"
     ]
    },
    {
     "data": {
      "image/png": "[encoded data removed]",
      "text/plain": [
       "<Figure size 1080x720 with 1 Axes>"
      ]
     },
     "metadata": {
      "needs_background": "light"
     },
     "output_type": "display_data"
    },
    {
     "name": "stdout",
     "output_type": "stream",
     "text": [
      "coco_Mval\n",
      "mq_R50_fusion_pf_stuff_concat_xyt_bs32_ep50_final_S1_V1_20.pickle\n",
      "mq_swin_tiny_fusion_pf_stuff_concat_xyt_bs32_ep50_final_S1_V1_20.pickle\n",
      "mq_mit_b0_fusion_pf_stuff_concat_xyt_bs32_ep50_final_S1_V1_20.pickle\n",
      "mq_hrnet32_fusion_pf_stuff_concat_xyt_bs32_ep50_final_S1_V1_20.pickle\n",
      "\n",
      "\n"
     ]
    },
    {
     "data": {
      "image/png": "[encoded data removed]",
      "text/plain": [
       "<Figure size 1080x720 with 1 Axes>"
      ]
     },
     "metadata": {
      "needs_background": "light"
     },
     "output_type": "display_data"
    },
    {
     "name": "stdout",
     "output_type": "stream",
     "text": [
      "sbd_single_inst\n",
      "mq_R50_fusion_pf_stuff_concat_xyt_bs32_ep50_final_S1_V1_20.pickle\n",
      "mq_swin_tiny_fusion_pf_stuff_concat_xyt_bs32_ep50_final_S1_V1_20.pickle\n",
      "mq_mit_b0_fusion_pf_stuff_concat_xyt_bs32_ep50_final_S1_V1_20.pickle\n",
      "mq_hrnet32_fusion_pf_stuff_concat_xyt_bs32_ep50_final_S1_V1_20.pickle\n",
      "\n",
      "\n"
     ]
    },
    {
     "data": {
      "image/png": "[encoded data removed]",
      "text/plain": [
       "<Figure size 1080x720 with 1 Axes>"
      ]
     },
     "metadata": {
      "needs_background": "light"
     },
     "output_type": "display_data"
    }
   ],
   "source": [
    "import tikzplotlib\n",
    "model_names = [ \"Resnet-50\", \"Swin-T\", \"Segformer-B0\", \"hrnet32\"]\n",
    "colors = [\"b\", \"y\", \"g\", \"r\", \"black\", \"orange\"]\n",
    "for j,d in enumerate(datasets):\n",
    "    print(d)\n",
    "    folder_path = os.path.join(_root_dir,d)\n",
    "    pkl_files = os.listdir(folder_path)\n",
    "    iou_list_per_model = []\n",
    "    min_iou = 1.0\n",
    "    max_iou = -1.0 \n",
    "    for f in pkl_files:\n",
    "        if \"json\" in f or \"_100\" in f:\n",
    "            continue\n",
    "        print(f)\n",
    "        pickle_path = os.path.join(folder_path, f)\n",
    "        with open(pickle_path, 'rb') as handle:\n",
    "            summary_stats= pickle.load(handle)\n",
    "        total_images = len(summary_stats.keys())\n",
    "        iou_per_click = np.zeros(20)\n",
    "        for _image_id in summary_stats.keys():\n",
    "            iou_per_click+=summary_stats[_image_id]\n",
    "        iou_per_click/=total_images\n",
    "        min_iou = min(min_iou,min(iou_per_click))\n",
    "        max_iou = max(max_iou, max(iou_per_click))\n",
    "        iou_list_per_model.append(iou_per_click)\n",
    "    \n",
    "    # json_path = os.path.join(focal_dir, f_datasets[j], \"others/segformer_b0\")\n",
    "    # files_others = os.listdir(json_path)\n",
    "    # for f in files_others:\n",
    "    #     if \".json\" in f:\n",
    "    #         print(f)\n",
    "    #         json_file = os.path.join(json_path,f)\n",
    "    #         break\n",
    "    # with open(json_file) as f:\n",
    "    #     focalclick = json.load(f)\n",
    "    # f_ious = list(focalclick['per_click_iou'].values())\n",
    "    # iou_list_per_model.append(f_ious)\n",
    "    # min_iou = min(min_iou, min(f_ious))\n",
    "    # max_iou = max(max_iou, max(f_ious))\n",
    "    \n",
    "    print(\"\\n\")\n",
    "    plt.figure(figsize=(15,10)) \n",
    "    n=20\n",
    "    for i in range(len(model_names)):\n",
    "        # if i==4 or i==5 or i==1:\n",
    "        plt.plot(range(1,n+1), iou_list_per_model[i][:n], colors[i],label=model_names[i], linewidth=3) #linestyle='dashed')\n",
    "    plt.title(f\"{f_datasets[j]}\",fontweight=\"bold\")\n",
    "    plt.xlabel(\"Number of clicks\")\n",
    "    plt.ylabel(\"mean IOU\")\n",
    "    plt.legend(loc=\"lower right\")\n",
    "    plt.xlim(0,21)\n",
    "    plt.yticks(np.arange(round(min_iou,2), max_iou+0.01, 0.01))\n",
    "    plt.xticks(np.arange(1,n+1,1))\n",
    "    # plt.ylim(min(iou_per_click)-0.01, max(iou_per_click)+0.01)\n",
    "    plt.grid(True)\n",
    "    tikzplotlib.save(f\"noc_iou_{f_datasets[j]}.tex\")\n",
    "    plt.savefig(f\"noc_iou_{f_datasets[j]}.jpg\")\n",
    "    plt.show()\n",
    "\n"
   ]
  },
  {
   "cell_type": "code",
   "execution_count": 655,
   "metadata": {},
   "outputs": [],
   "source": [
    "_root_dir = os.path.join(os.getcwd(), \"output/evaluation/final/summary/davis_single_inst\")\n",
    "pkl_file = \"mq_swin_tiny_fusion_pf_uni_time_pe_bs128_ep50_final_S1_argmax_100.pickle\"\n",
    "json_file = \"DAVIS_cvpr_FocalClick_20_single_instance_raw.json\""
   ]
  },
  {
   "cell_type": "code",
   "execution_count": 656,
   "metadata": {},
   "outputs": [],
   "source": [
    "with open(os.path.join(_root_dir, json_file)) as f:\n",
    "    focalclick = json.load(f)\n",
    "    "
   ]
  },
  {
   "cell_type": "code",
   "execution_count": 657,
   "metadata": {},
   "outputs": [],
   "source": [
    "f_ious = list(focalclick['per_click_iou'].values())"
   ]
  },
  {
   "cell_type": "code",
   "execution_count": 659,
   "metadata": {},
   "outputs": [
    {
     "name": "stdout",
     "output_type": "stream",
     "text": [
      "['mq_swin_tiny_fusion_pf_uni_time_pe_bs128_ep50_final_S1_argmax_100.pickle', 'mq_mit_b0_fusion_pf_uni_time_pe_bs128_ep50_final_S1_argmax_100.pickle', 'mq_R50_fusion_pf_uni_time_pe_bs128_ep50_final_S1_argmax_100.pickle', 'mq_hrnet32_fusion_pf_uni_time_pe_bs128_ep50_final_S1_argmax_100.pickle', 'mq_mit_b3_fusion_pf_uni_time_pe_bs128_ep50_final_S1_argmax_100.pickle', 'DAVIS_cvpr_FocalClick_20_single_instance_raw.json', 'mq_swin_large_fusion_pf_uni_time_pe_bs32_ep100_0269999_S1_argmax_20.pickle', 'mq_swin_tiny_fusion_pf_uni_time_pe_bs128_ep50_final_S1_argmax_20.pickle', 'mq_R50_fusion_pf_uni_time_pe_bs128_ep50_final_S1_argmax_20.pickle', 'mq_mit_b0_fusion_pf_uni_time_pe_bs128_ep50_final_S1_argmax_20.pickle']\n"
     ]
    }
   ],
   "source": [
    "pkl_files = os.listdir(_root_dir)\n",
    "print(pkl_files)\n",
    "iou_list_per_model = []\n",
    "min_iou = 1.0\n",
    "max_iou = -1.0 \n",
    "for f in pkl_files:\n",
    "    if \"json\" in f or \"_20\" in f:\n",
    "        continue\n",
    "    pickle_path = os.path.join(_root_dir, f)\n",
    "    with open(pickle_path, 'rb') as handle:\n",
    "        summary_stats= pickle.load(handle)\n",
    "    total_images = len(summary_stats.keys())\n",
    "    iou_per_click = np.zeros(100)\n",
    "    for _image_id in summary_stats.keys():\n",
    "        iou_per_click+=summary_stats[_image_id]\n",
    "    iou_per_click/=total_images\n",
    "    min_iou = min(min_iou,min(iou_per_click))\n",
    "    max_iou = max(max_iou, max(iou_per_click))\n",
    "    iou_list_per_model.append(iou_per_click)"
   ]
  },
  {
   "cell_type": "code",
   "execution_count": 660,
   "metadata": {},
   "outputs": [],
   "source": [
    "model_names = [\"swin-tiny\", \"mit-b0\", \"R50\", \"hrnet32\", \"mit-b3\",\"fclick-b0\"]"
   ]
  },
  {
   "cell_type": "code",
   "execution_count": 661,
   "metadata": {},
   "outputs": [],
   "source": [
    "colors = [\"b\", \"r\", \"g\", \"y\", \"black\", \"orange\"]"
   ]
  },
  {
   "cell_type": "code",
   "execution_count": 436,
   "metadata": {},
   "outputs": [],
   "source": [
    "pickle_path = os.path.join(_root_dir, pkl_file)\n",
    "with open(pickle_path, 'rb') as handle:\n",
    "    summary_stats= pickle.load(handle)"
   ]
  },
  {
   "cell_type": "code",
   "execution_count": 492,
   "metadata": {},
   "outputs": [],
   "source": [
    "len(summary_stats['272_0'])\n",
    "total_images = len(summary_stats.keys())\n",
    "iou_per_click = np.zeros(100)\n",
    "for _image_id in summary_stats.keys():\n",
    "    iou_per_click+=summary_stats[_image_id]\n",
    "iou_per_click/=total_images"
   ]
  },
  {
   "cell_type": "code",
   "execution_count": 662,
   "metadata": {},
   "outputs": [],
   "source": [
    "# iou_per_click = np.round(iou_per_click,decimals=2)\n",
    "iou_list_per_model.append(f_ious)"
   ]
  },
  {
   "cell_type": "code",
   "execution_count": 663,
   "metadata": {},
   "outputs": [],
   "source": [
    "min_iou = min(min_iou, min(f_ious))"
   ]
  },
  {
   "cell_type": "code",
   "execution_count": null,
   "metadata": {},
   "outputs": [],
   "source": [
    "plt.figure(figsize=(15,10)) \n",
    "n=20\n",
    "for i in range(len(model_names)):\n",
    "    # if i==4 or i==5 or i==1:\n",
    "    plt.plot(range(1,n+1), iou_list_per_model[i][:n], colors[i],label=model_names[i], linewidth=3) #linestyle='dashed')\n",
    "plt.title(\"DAVIS\")\n",
    "plt.xlabel(\"Number of clicks\")\n",
    "plt.ylabel(\"mean IOU\")\n",
    "plt.legend()\n",
    "plt.xlim(0,21)\n",
    "plt.yticks(np.arange(round(min_iou,2), max_iou+0.01, 0.01))\n",
    "plt.xticks(np.arange(1,n+1,1))\n",
    "# plt.ylim(min(iou_per_click)-0.01, max(iou_per_click)+0.01)\n",
    "plt.grid(True)\n",
    "plt.savefig(\"noc_iou.jpg\")\n",
    "plt.show()"
   ]
  },
  {
   "attachments": {},
   "cell_type": "markdown",
   "metadata": {},
   "source": [
    "# Summarising multi-instance evaluation"
   ]
  },
  {
   "cell_type": "code",
   "execution_count": 30,
   "metadata": {},
   "outputs": [],
   "source": [
    "_root_dir = os.path.join(os.getcwd(), \"output/evaluation/iccv_final/final/summary/sbd_multi_insts\")\n",
    "pkl_file = \"mq_swin_tiny_fusion_pf_stuff_concat_xyt_bs32_ep50_random_V1_seed_0_10.pickle\""
   ]
  },
  {
   "cell_type": "code",
   "execution_count": 31,
   "metadata": {},
   "outputs": [],
   "source": [
    "pickle_path = os.path.join(_root_dir, pkl_file)\n",
    "with open(pickle_path, 'rb') as handle:\n",
    "    summary_stats= pickle.load(handle)"
   ]
  },
  {
   "cell_type": "code",
   "execution_count": 32,
   "metadata": {},
   "outputs": [],
   "source": [
    "ious_objects_per_interaction = summary_stats[\"ious_objects_per_interaction\"]\n",
    "object_areas_per_image = summary_stats['object_areas_per_image']\n",
    "iou_threshold = summary_stats[\"iou_threshold\"]"
   ]
  },
  {
   "cell_type": "code",
   "execution_count": 33,
   "metadata": {},
   "outputs": [],
   "source": [
    "failed_area_bins = [0]*1001\n",
    "all_area_bins = [0]*1001\n",
    "for _image_id in ious_objects_per_interaction.keys():\n",
    "    final_ious = ious_objects_per_interaction[_image_id][-1]\n",
    "    obj_areas = object_areas_per_image[_image_id]\n",
    "    for i, iou in enumerate(final_ious):\n",
    "        indx = int(obj_areas[i]*1000)\n",
    "        if iou<iou_threshold:\n",
    "            failed_area_bins[indx] += 1\n",
    "        all_area_bins[indx]+=1\n"
   ]
  },
  {
   "cell_type": "code",
   "execution_count": null,
   "metadata": {},
   "outputs": [],
   "source": [
    "print(sum(failed_area_bins))\n",
    "failed_area_bins[-100:]"
   ]
  },
  {
   "cell_type": "code",
   "execution_count": null,
   "metadata": {},
   "outputs": [],
   "source": [
    "print(sum(all_area_bins))\n",
    "all_area_bins[:20]"
   ]
  },
  {
   "cell_type": "code",
   "execution_count": 36,
   "metadata": {},
   "outputs": [],
   "source": [
    "diff_area_bins = np.asarray(all_area_bins) - np.asarray(failed_area_bins)"
   ]
  },
  {
   "cell_type": "code",
   "execution_count": 37,
   "metadata": {},
   "outputs": [],
   "source": [
    "x = []\n",
    "y = []\n",
    "d = 1\n",
    "i=0\n",
    "while(i<100):\n",
    "    x.append(sum(failed_area_bins[i:i+d]))\n",
    "    y.append(sum(diff_area_bins[i:i+d]))\n",
    "    i+=d"
   ]
  },
  {
   "cell_type": "code",
   "execution_count": 38,
   "metadata": {},
   "outputs": [],
   "source": [
    "x.append(sum(failed_area_bins[i:]))\n",
    "y.append(sum(diff_area_bins[i:]))"
   ]
  },
  {
   "cell_type": "code",
   "execution_count": 39,
   "metadata": {},
   "outputs": [
    {
     "data": {
      "text/plain": [
       "101"
      ]
     },
     "execution_count": 39,
     "metadata": {},
     "output_type": "execute_result"
    }
   ],
   "source": [
    "len(x)"
   ]
  },
  {
   "cell_type": "code",
   "execution_count": 40,
   "metadata": {},
   "outputs": [
    {
     "data": {
      "text/plain": [
       "526"
      ]
     },
     "execution_count": 40,
     "metadata": {},
     "output_type": "execute_result"
    }
   ],
   "source": [
    "sum(failed_area_bins)"
   ]
  },
  {
   "cell_type": "code",
   "execution_count": 374,
   "metadata": {},
   "outputs": [
    {
     "data": {
      "text/plain": [
       "[0, 1, 2, 3, 4, 5, 6, 7, 8, 9, 10, 11, 12, 13, 14, 15, 16, 17, 18, 19]"
      ]
     },
     "execution_count": 374,
     "metadata": {},
     "output_type": "execute_result"
    }
   ],
   "source": [
    "list(range(0,20,d))"
   ]
  },
  {
   "cell_type": "code",
   "execution_count": 41,
   "metadata": {},
   "outputs": [
    {
     "data": {
      "text/plain": [
       "22"
      ]
     },
     "execution_count": 41,
     "metadata": {},
     "output_type": "execute_result"
    }
   ],
   "source": [
    "x[-1]"
   ]
  },
  {
   "cell_type": "code",
   "execution_count": 42,
   "metadata": {},
   "outputs": [
    {
     "data": {
      "text/plain": [
       "2582"
      ]
     },
     "execution_count": 42,
     "metadata": {},
     "output_type": "execute_result"
    }
   ],
   "source": [
    "y[-1]"
   ]
  },
  {
   "cell_type": "code",
   "execution_count": 51,
   "metadata": {},
   "outputs": [
    {
     "data": {
      "image/png": "[encoded data removed]",
      "text/plain": [
       "<Figure size 864x432 with 1 Axes>"
      ]
     },
     "metadata": {
      "needs_background": "light"
     },
     "output_type": "display_data"
    }
   ],
   "source": [
    "N = len(x)\n",
    " \n",
    "# boys = (20, 35, 30, 35, 27)\n",
    "# girls = (25, 32, 34, 20, 25)\n",
    "# boyStd = (2, 3, 4, 1, 2)\n",
    "# girlStd = (3, 5, 2, 3, 3)\n",
    "ind = np.arange(N)  \n",
    "width =1.0\n",
    "# ticks = (f\"{(i+1)*d/10}\" for i in list(range(0,N)) \n",
    "fig = plt.subplots(figsize =(12, 6))\n",
    "p1 = plt.bar(ind, x, width,edgecolor='black',align='edge')\n",
    "p2 = plt.bar(ind, y, width,align='edge',\n",
    "             bottom = x,edgecolor='black')\n",
    "\n",
    "for (rect1, rect2) in zip(p1,p2):\n",
    "    height = rect1.get_height() + rect2.get_height()\n",
    "    perc =  round((rect2.get_height()/height)*100,ndigits=2)\n",
    "    # plt.text(rect1.get_x() + rect1.get_width() / 2.0, height, f'{height:.0f}', ha='center', va='bottom')\n",
    "\n",
    "plt.ylabel('#Objects ')\n",
    "# plt.title('Failed object areas visualization')\n",
    "plt.xlabel(\"Area covered by object [%]\")\n",
    "plt.xticks(range(0,101,10), ('0.0', '1.0', '2.0', '3.0', '4.0', '5.0', '6.0', '7.0', '8.0', '9.0', '>10'))\n",
    "# plt.xticks(range(N), ticks)\n",
    "# plt.yticks(np.arange(0, 1000,100))\n",
    "plt.ylim(0,185)\n",
    "plt.xlim(0,101)\n",
    "plt.legend((p1[0], p2[0]), ('Failed objects', 'Segmented objects'))\n",
    "import tikzplotlib\n",
    "\n",
    "tikzplotlib.save(\"test.tex\")\n",
    "plt.savefig(\"a.jpg\")\n",
    "plt.show()"
   ]
  },
  {
   "cell_type": "code",
   "execution_count": null,
   "metadata": {},
   "outputs": [],
   "source": [
    "\n",
    "plt.rcParams.update({'font.size': 16})\n",
    "# Bring some raw data.\n",
    "frequencies = x\n",
    "# In my original code I create a series and run on that,\n",
    "# so for consistency I create a series from the list.\n",
    "freq_series = pd.Series(frequencies)\n",
    "\n",
    "x_labels = [f\"{i+1}\" for i in range(len(x)-1)]\n",
    "x_labels.append(\">25\")\n",
    "\n",
    "# Plot the figure.\n",
    "plt.figure(figsize=(10, 5))\n",
    "ax = freq_series.plot(kind=\"bar\")\n",
    "# ax.set_title(\"Failed Object Areas Distribution\")\n",
    "\n",
    "ax.set_xlabel(\"% of Image Covered by Object\")\n",
    "ax.set_ylabel(\"#Failed Objects\")\n",
    "ax.set_xticklabels(x_labels)\n",
    "ax.set_ylim(0,825)\n",
    "ax.set_xlim(-1,26)\n",
    "rects = ax.patches\n",
    "\n",
    "# Make some labels.\n",
    "labels = [f\"{x[i]}\" for i in range(len(rects))]\n",
    "\n",
    "for rect, label in zip(rects, labels):\n",
    "    height = rect.get_height()\n",
    "    ax.text(\n",
    "        rect.get_x() + rect.get_width() / 2, height + 5, label, ha=\"center\", va=\"bottom\"\n",
    "    )\n",
    "plt.savefig(\"a.jpg\")\n",
    "plt.tight_layout()\n",
    "plt.show()"
   ]
  },
  {
   "cell_type": "code",
   "execution_count": 96,
   "metadata": {},
   "outputs": [
    {
     "data": {
      "text/plain": [
       "dict_keys(['ious_objects_per_interaction', 'model', 'dataset', 'iou_threshold'])"
      ]
     },
     "execution_count": 96,
     "metadata": {},
     "output_type": "execute_result"
    }
   ],
   "source": [
    "b.keys()"
   ]
  },
  {
   "cell_type": "code",
   "execution_count": null,
   "metadata": {},
   "outputs": [],
   "source": [
    "b['ious_objects_per_interaction']"
   ]
  },
  {
   "cell_type": "code",
   "execution_count": 17,
   "metadata": {},
   "outputs": [
    {
     "name": "stdout",
     "output_type": "stream",
     "text": [
      "dataset: sbd_multi_insts\n",
      "iou_threshold: 0.85\n",
      "NOC: 6.02\n",
      "NCI: 4.056120028223635\n",
      "NFO: 1747\n",
      "failed_images_counts: 847\n"
     ]
    }
   ],
   "source": [
    "print(f\"dataset: {b['dataset']}\")\n",
    "print(f\"iou_threshold: {b['iou_threshold']}\")\n",
    "print(f\"NOC: {b['Avg_NOC']}\")\n",
    "print(f\"NCI: {b['avg_over_total_images']}\")\n",
    "print(f\"NFO: {b['num_failed_objects']}\")\n",
    "print(f\"failed_images_counts: {b['failed_images_counts']}\")"
   ]
  },
  {
   "cell_type": "code",
   "execution_count": 20,
   "metadata": {},
   "outputs": [
    {
     "data": {
      "text/plain": [
       "['2008_000003_0',\n",
       " '2008_000007_1',\n",
       " '2008_000009_2',\n",
       " '2008_000027_3',\n",
       " '2008_000043_4',\n",
       " '2008_000051_5',\n",
       " '2008_000059_6',\n",
       " '2008_000067_7',\n",
       " '2008_000073_8',\n",
       " '2008_000075_9']"
      ]
     },
     "execution_count": 20,
     "metadata": {},
     "output_type": "execute_result"
    }
   ],
   "source": [
    "ids = list(b[\"ious_objects_per_interaction\"].keys())\n",
    "ids[:10]"
   ]
  },
  {
   "cell_type": "code",
   "execution_count": 28,
   "metadata": {},
   "outputs": [
    {
     "data": {
      "text/plain": [
       "[[tensor(0.8549), tensor(0.9158)],\n",
       " [tensor(0.8549), tensor(0.9158)],\n",
       " [tensor(0.8549), tensor(0.9158)],\n",
       " [tensor(0.8549), tensor(0.9158)],\n",
       " [tensor(0.8549), tensor(0.9158)]]"
      ]
     },
     "execution_count": 28,
     "metadata": {},
     "output_type": "execute_result"
    }
   ],
   "source": [
    "b[\"ious_objects_per_interaction\"]['2008_000067_7']"
   ]
  },
  {
   "cell_type": "code",
   "execution_count": 29,
   "metadata": {},
   "outputs": [
    {
     "data": {
      "text/plain": [
       "[[True, True, True],\n",
       " [True, False, False],\n",
       " [False, False, True],\n",
       " [True, False, False],\n",
       " [False, False, True]]"
      ]
     },
     "execution_count": 29,
     "metadata": {},
     "output_type": "execute_result"
    }
   ],
   "source": [
    "b[\"clicked_objects_per_interaction\"]['2008_000067_7']"
   ]
  },
  {
   "cell_type": "code",
   "execution_count": 2,
   "metadata": {},
   "outputs": [],
   "source": [
    "ious = [torch.tensor(0.8549), torch.tensor(0.9158)]"
   ]
  },
  {
   "cell_type": "code",
   "execution_count": 4,
   "metadata": {},
   "outputs": [],
   "source": [
    "num_times_point_smapled_false = 0\n",
    "while True:\n",
    "    if all(iou >= 0.85 for iou in ious) or num_times_point_smapled_false >= 2:\n",
    "        break\n",
    "    print(1)"
   ]
  },
  {
   "cell_type": "code",
   "execution_count": 18,
   "metadata": {},
   "outputs": [],
   "source": [
    "ids = list(b[\"ious_objects_per_interaction\"].keys())\n",
    "total_iou_change = 0\n",
    "count = 0\n",
    "bins = 101\n",
    "neg_iou_change = [0]*bins\n",
    "pos_iou_change = [0]*bins\n",
    "\n",
    "neg_iou_change_bg = [0]*bins\n",
    "pos_iou_change_bg = [0]*bins\n",
    "bg_clicks = 0\n",
    "fg_clicks = 0\n",
    "for key in ids:\n",
    "    ious = np.asarray(b[\"ious_objects_per_interaction\"][key])\n",
    "    clicked = b[\"clicked_objects_per_interaction\"][key]\n",
    "    indices = [sum(i)>=1 for i in clicked]\n",
    "    clicked = np.asarray(clicked)[indices] \n",
    "    if len(indices)<len(ious):\n",
    "        indices.append(False)\n",
    "    \n",
    "    ious = ious[indices]\n",
    "    assert len(ious) == len(clicked)\n",
    "    \n",
    "    for i in range(1,len(clicked)):\n",
    "        if len(ious[i])==1:\n",
    "            continue\n",
    "        diff = (ious[i]-ious[i-1])*100\n",
    "        t = np.where(clicked[i]==True)[0][0]\n",
    "        if t== len(clicked[i])-1: #bg_click\n",
    "            bg_clicks+=1\n",
    "            for d in diff:\n",
    "                if d>0:\n",
    "                   pos_iou_change_bg[int(abs(d))]+=1\n",
    "                elif d<0:\n",
    "                   neg_iou_change_bg[int(abs(d))]+=1 \n",
    "        else:\n",
    "            # diff[t] = 0\n",
    "            fg_clicks+=1\n",
    "            for (i, d) in enumerate(diff):\n",
    "                if i!=t:\n",
    "                    if d>0:\n",
    "                        pos_iou_change[int(abs(d))]+=1\n",
    "                    elif d<0:\n",
    "                        neg_iou_change[int(abs(d))]+=1 \n",
    "\n",
    "        # # print(diff)\n",
    "        # total_iou_change += (sum(diff)*100/(len(diff)-1))\n",
    "        # count+=1    "
   ]
  },
  {
   "cell_type": "code",
   "execution_count": 19,
   "metadata": {},
   "outputs": [
    {
     "name": "stdout",
     "output_type": "stream",
     "text": [
      "fg_clicks: 26738\n",
      "\n",
      "negative iou change(>=3%) : 0\n",
      "\n",
      "positive iou change(>=3%) : 0\n",
      "\n",
      "bg_clicks: 5659\n",
      "\n",
      "negative iou change bg(>=3%) : 0\n",
      "\n",
      "positive iou change bg(>=3%) : 0\n"
     ]
    }
   ],
   "source": [
    "print(f'fg_clicks: {fg_clicks}\\n')\n",
    "print(f'negative iou change(>=3%) : {sum(neg_iou_change[3:])}\\n')\n",
    "print(f'positive iou change(>=3%) : {sum(pos_iou_change[3:])}\\n')\n",
    "\n",
    "print(f'bg_clicks: {bg_clicks}\\n')\n",
    "print(f'negative iou change bg(>=3%) : {sum(neg_iou_change_bg[3:])}\\n')\n",
    "print(f'positive iou change bg(>=3%) : {sum(pos_iou_change_bg[3:])}')\n"
   ]
  },
  {
   "cell_type": "code",
   "execution_count": 13,
   "metadata": {},
   "outputs": [
    {
     "name": "stdout",
     "output_type": "stream",
     "text": [
      "[0, 0, 0, 0, 0, 0, 0, 0, 0, 0, 0, 0, 0, 0, 0, 0, 0, 0, 0, 0, 0, 0, 0, 0, 0, 0, 0, 0, 0, 0, 0, 0, 0, 0, 0, 0, 0, 0, 0, 0, 0, 0, 0, 0, 0, 0, 0, 0, 0, 0, 0, 0, 0, 0, 0, 0, 0, 0, 0, 0, 0, 0, 0, 0, 0, 0, 0, 0, 0, 0, 0, 0, 0, 0, 0, 0, 0, 0, 0, 0, 0, 0, 0, 0, 0, 0, 0, 0, 0, 0, 0, 0, 0, 0, 0, 0, 0, 0, 0, 0, 0]\n"
     ]
    },
    {
     "data": {
      "text/plain": [
       "0"
      ]
     },
     "execution_count": 13,
     "metadata": {},
     "output_type": "execute_result"
    }
   ],
   "source": [
    "print(neg_iou_change)\n",
    "sum(neg_iou_change[3:])"
   ]
  },
  {
   "cell_type": "code",
   "execution_count": 2,
   "metadata": {},
   "outputs": [],
   "source": [
    "def g(x):\n",
    "    print(\"x_g\",x)\n",
    "    x+=1\n",
    "    print(\"x_g_\",x)\n",
    "\n",
    "def f(x):\n",
    "\n",
    "    for i in range(5):\n",
    "        g(x)\n",
    "        x+=1"
   ]
  },
  {
   "cell_type": "code",
   "execution_count": 3,
   "metadata": {},
   "outputs": [
    {
     "name": "stdout",
     "output_type": "stream",
     "text": [
      "x_g 0\n",
      "x_g_ 1\n",
      "x_g 1\n",
      "x_g_ 2\n",
      "x_g 2\n",
      "x_g_ 3\n",
      "x_g 3\n",
      "x_g_ 4\n",
      "x_g 4\n",
      "x_g_ 5\n"
     ]
    }
   ],
   "source": [
    "f(0)"
   ]
  },
  {
   "cell_type": "code",
   "execution_count": 8,
   "metadata": {},
   "outputs": [],
   "source": [
    "model = torch.load(\"weights/segformer/mit_b0_trans.pth\")"
   ]
  },
  {
   "cell_type": "code",
   "execution_count": null,
   "metadata": {},
   "outputs": [],
   "source": [
    "model.keys()"
   ]
  },
  {
   "cell_type": "code",
   "execution_count": 5,
   "metadata": {},
   "outputs": [
    {
     "data": {
      "text/plain": [
       "20"
      ]
     },
     "execution_count": 5,
     "metadata": {},
     "output_type": "execute_result"
    }
   ],
   "source": [
    "price = [5,3,2,10]\n",
    "# max_from_last= [0]*len(price)\n",
    "# max_from_last[-1] = price[-1]\n",
    "_max = price[-1]\n",
    "profit = 0\n",
    "for i in range(len(price)-2,-1,-1):\n",
    "    _max= max(price[i], _max)\n",
    "    profit += (_max-price[i])\n",
    "profit\n"
   ]
  },
  {
   "cell_type": "code",
   "execution_count": 2,
   "metadata": {},
   "outputs": [],
   "source": [
    "a = \" backbone.bottom_up.patch_embed1.proj.{bias, weight}\""
   ]
  },
  {
   "cell_type": "code",
   "execution_count": 3,
   "metadata": {},
   "outputs": [
    {
     "data": {
      "text/plain": [
       "'backbone.patch_embed1.proj.{bias, weight}'"
      ]
     },
     "execution_count": 3,
     "metadata": {},
     "output_type": "execute_result"
    }
   ],
   "source": [
    "a.lstrip(' ').replace(\".bottom_up\", \"\")"
   ]
  },
  {
   "cell_type": "code",
   "execution_count": 75,
   "metadata": {},
   "outputs": [
    {
     "data": {
      "text/plain": [
       "64"
      ]
     },
     "execution_count": 75,
     "metadata": {},
     "output_type": "execute_result"
    }
   ],
   "source": [
    "import sys\n",
    "a = torch.ones((1024,1024)).to(dtype=torch.float)\n",
    "sys.getsizeof(a)"
   ]
  },
  {
   "cell_type": "code",
   "execution_count": 73,
   "metadata": {},
   "outputs": [
    {
     "data": {
      "text/plain": [
       "torch.Size([1024, 1024])"
      ]
     },
     "execution_count": 73,
     "metadata": {},
     "output_type": "execute_result"
    }
   ],
   "source": [
    "a.shape"
   ]
  },
  {
   "cell_type": "code",
   "execution_count": 153,
   "metadata": {},
   "outputs": [],
   "source": [
    "from detectron2.projects.point_rend.point_features import (\n",
    "    get_uncertain_point_coords_with_randomness,\n",
    "    point_sample,\n",
    ")\n"
   ]
  },
  {
   "cell_type": "code",
   "execution_count": 7,
   "metadata": {},
   "outputs": [
    {
     "data": {
      "text/plain": [
       "tensor([[1., 1., 1., 0., 0., 0., 0., 0., 0., 0.],\n",
       "        [1., 1., 1., 0., 0., 0., 0., 0., 0., 0.],\n",
       "        [1., 1., 1., 0., 0., 0., 0., 0., 0., 0.],\n",
       "        [1., 1., 1., 0., 0., 0., 0., 0., 0., 0.],\n",
       "        [1., 1., 1., 0., 1., 1., 1., 0., 0., 0.],\n",
       "        [1., 1., 1., 0., 1., 1., 1., 0., 0., 0.],\n",
       "        [0., 0., 0., 0., 1., 1., 1., 0., 0., 0.],\n",
       "        [0., 0., 0., 0., 0., 0., 0., 0., 0., 0.],\n",
       "        [0., 0., 0., 0., 0., 0., 0., 0., 0., 0.],\n",
       "        [0., 0., 0., 0., 0., 0., 0., 0., 0., 0.]])"
      ]
     },
     "execution_count": 7,
     "metadata": {},
     "output_type": "execute_result"
    }
   ],
   "source": [
    "import torch.nn.functional as F\n",
    "a = torch.zeros((10,10))\n",
    "a[0:6,0:3] = 1\n",
    "a[4:7,4:7] = 1\n",
    "# a[0:5, 7:] =1\n",
    "a"
   ]
  },
  {
   "cell_type": "code",
   "execution_count": 8,
   "metadata": {},
   "outputs": [
    {
     "data": {
      "text/plain": [
       "tensor([[0., 0.],\n",
       "        [0., 1.],\n",
       "        [0., 2.],\n",
       "        [1., 0.],\n",
       "        [1., 1.],\n",
       "        [1., 2.],\n",
       "        [2., 0.],\n",
       "        [2., 1.],\n",
       "        [2., 2.],\n",
       "        [3., 0.],\n",
       "        [3., 1.],\n",
       "        [3., 2.],\n",
       "        [4., 0.],\n",
       "        [4., 1.],\n",
       "        [4., 2.],\n",
       "        [4., 4.],\n",
       "        [4., 5.],\n",
       "        [4., 6.],\n",
       "        [5., 0.],\n",
       "        [5., 1.],\n",
       "        [5., 2.],\n",
       "        [5., 4.],\n",
       "        [5., 5.],\n",
       "        [5., 6.],\n",
       "        [6., 4.],\n",
       "        [6., 5.],\n",
       "        [6., 6.]])"
      ]
     },
     "execution_count": 8,
     "metadata": {},
     "output_type": "execute_result"
    }
   ],
   "source": [
    "p = torch.stack(torch.where(a), dim=1).to(torch.float)\n",
    "p"
   ]
  },
  {
   "cell_type": "code",
   "execution_count": 187,
   "metadata": {},
   "outputs": [],
   "source": [
    "p = torch.stack(torch.where(a), dim=1).to(torch.float)\n",
    "p[:,0]/=float(1024)\n",
    "p[:,1]/=float(1024)\n"
   ]
  },
  {
   "cell_type": "code",
   "execution_count": 10,
   "metadata": {},
   "outputs": [
    {
     "data": {
      "text/plain": [
       "torch.Size([1, 5])"
      ]
     },
     "execution_count": 10,
     "metadata": {},
     "output_type": "execute_result"
    }
   ],
   "source": [
    "x = torch.ones((1,5,3))\n",
    "x.mean(2).shape"
   ]
  },
  {
   "cell_type": "code",
   "execution_count": 190,
   "metadata": {},
   "outputs": [
    {
     "name": "stderr",
     "output_type": "stream",
     "text": [
      "/home/rana/anaconda3/envs/m2f/lib/python3.8/site-packages/torch/nn/functional.py:3981: UserWarning: Default grid_sample and affine_grid behavior has changed to align_corners=False since 1.3.0. Please specify align_corners=True if the old behavior is desired. See the documentation of grid_sample for details.\n",
      "  warnings.warn(\n"
     ]
    }
   ],
   "source": [
    "y = point_sample(x, p.unsqueeze(0))"
   ]
  },
  {
   "cell_type": "code",
   "execution_count": 201,
   "metadata": {},
   "outputs": [
    {
     "data": {
      "text/plain": [
       "[[[1, 2, 0], [1, 2, 0], [1, 2, 0]],\n",
       " [[4, 5, 0], [4, 5, 0], [4, 5, 0], [4, 5, 0]],\n",
       " [[6, 6, 1], [6, 6, 1], [6, 6, 1], [6, 6, 1], [6, 6, 1]]]"
      ]
     },
     "execution_count": 201,
     "metadata": {},
     "output_type": "execute_result"
    }
   ],
   "source": [
    "a = [[[1,2,0]]*3, [[4,5,0]]*4, [[6,6,1]]*5]\n",
    "a"
   ]
  },
  {
   "cell_type": "code",
   "execution_count": 202,
   "metadata": {},
   "outputs": [
    {
     "data": {
      "text/plain": [
       "[[1, 2, 0],\n",
       " [1, 2, 0],\n",
       " [1, 2, 0],\n",
       " [4, 5, 0],\n",
       " [4, 5, 0],\n",
       " [4, 5, 0],\n",
       " [4, 5, 0],\n",
       " [6, 6, 1],\n",
       " [6, 6, 1],\n",
       " [6, 6, 1],\n",
       " [6, 6, 1],\n",
       " [6, 6, 1]]"
      ]
     },
     "execution_count": 202,
     "metadata": {},
     "output_type": "execute_result"
    }
   ],
   "source": [
    "y = copy.deepcopy(a[0])\n",
    "for t in a[1:]:\n",
    "    y.extend(t)\n",
    "y"
   ]
  },
  {
   "cell_type": "code",
   "execution_count": 208,
   "metadata": {},
   "outputs": [],
   "source": [
    "t = torch.tensor(y)[:,:2]"
   ]
  },
  {
   "cell_type": "code",
   "execution_count": 209,
   "metadata": {},
   "outputs": [
    {
     "data": {
      "text/plain": [
       "tensor([[1, 2],\n",
       "        [1, 2],\n",
       "        [1, 2],\n",
       "        [4, 5],\n",
       "        [4, 5],\n",
       "        [4, 5],\n",
       "        [4, 5],\n",
       "        [6, 6],\n",
       "        [6, 6],\n",
       "        [6, 6],\n",
       "        [6, 6],\n",
       "        [6, 6]])"
      ]
     },
     "execution_count": 209,
     "metadata": {},
     "output_type": "execute_result"
    }
   ],
   "source": [
    "t.per"
   ]
  },
  {
   "cell_type": "code",
   "execution_count": 204,
   "metadata": {},
   "outputs": [
    {
     "data": {
      "text/plain": [
       "[[[1, 2, 0], [1, 2, 0], [1, 2, 0]],\n",
       " [[4, 5, 0], [4, 5, 0], [4, 5, 0], [4, 5, 0]],\n",
       " [[6, 6, 1], [6, 6, 1], [6, 6, 1], [6, 6, 1], [6, 6, 1]]]"
      ]
     },
     "execution_count": 204,
     "metadata": {},
     "output_type": "execute_result"
    }
   ],
   "source": [
    "a"
   ]
  },
  {
   "cell_type": "code",
   "execution_count": 175,
   "metadata": {},
   "outputs": [
    {
     "data": {
      "text/plain": [
       "torch.Size([41, 2])"
      ]
     },
     "execution_count": 175,
     "metadata": {},
     "output_type": "execute_result"
    }
   ],
   "source": [
    "p = torch.zeros((len(torch.where(a)[0]),2))\n",
    "p.shape"
   ]
  },
  {
   "cell_type": "code",
   "execution_count": 179,
   "metadata": {},
   "outputs": [],
   "source": []
  },
  {
   "cell_type": "code",
   "execution_count": 101,
   "metadata": {},
   "outputs": [
    {
     "data": {
      "text/plain": [
       "tensor([[[[1., 0., 0.,  ..., 0., 0., 0.],\n",
       "          [0., 1., 1.,  ..., 0., 0., 0.],\n",
       "          [0., 1., 1.,  ..., 0., 0., 0.],\n",
       "          ...,\n",
       "          [0., 0., 0.,  ..., 0., 0., 0.],\n",
       "          [0., 0., 0.,  ..., 0., 0., 0.],\n",
       "          [0., 0., 0.,  ..., 0., 0., 0.]]]])"
      ]
     },
     "execution_count": 101,
     "metadata": {},
     "output_type": "execute_result"
    }
   ],
   "source": [
    "x = F.interpolate(a.unsqueeze(0).unsqueeze(0), size=(128,128), mode=\"bilinear\", align_corners=True)\n",
    "x"
   ]
  },
  {
   "cell_type": "code",
   "execution_count": 145,
   "metadata": {},
   "outputs": [
    {
     "data": {
      "text/plain": [
       "array([[ 0.,  1.,  2.,  3.],\n",
       "       [ 4.,  5.,  6.,  7.],\n",
       "       [ 8.,  9., 10., 11.],\n",
       "       [12., 13., 14., 15.]])"
      ]
     },
     "execution_count": 145,
     "metadata": {},
     "output_type": "execute_result"
    }
   ],
   "source": [
    "from scipy import ndimage\n",
    "import numpy as np\n",
    "a = np.arange(16.).reshape((4, 4))\n",
    "a"
   ]
  },
  {
   "cell_type": "code",
   "execution_count": 140,
   "metadata": {},
   "outputs": [
    {
     "data": {
      "text/plain": [
       "array([[ 0.,  4.,  8., 12.],\n",
       "       [ 1.,  5.,  9., 13.],\n",
       "       [ 2.,  6., 10., 14.],\n",
       "       [ 3.,  7., 11., 15.]])"
      ]
     },
     "execution_count": 140,
     "metadata": {},
     "output_type": "execute_result"
    }
   ],
   "source": [
    "a.T"
   ]
  },
  {
   "cell_type": "code",
   "execution_count": 146,
   "metadata": {},
   "outputs": [
    {
     "data": {
      "text/plain": [
       "array([4.5, 5. ])"
      ]
     },
     "execution_count": 146,
     "metadata": {},
     "output_type": "execute_result"
    }
   ],
   "source": [
    "ndimage.map_coordinates(a, [[1], [0.5, 1]], order=1, mode='nearest')"
   ]
  },
  {
   "cell_type": "code",
   "execution_count": 143,
   "metadata": {},
   "outputs": [
    {
     "name": "stderr",
     "output_type": "stream",
     "text": [
      "/tmp/ipykernel_17552/3095995108.py:1: DeprecationWarning: Please use `map_coordinates` from the `scipy.ndimage` namespace, the `scipy.ndimage.interpolation` namespace is deprecated.\n",
      "  from scipy.ndimage.interpolation import map_coordinates\n"
     ]
    },
    {
     "data": {
      "text/plain": [
       "(2, 2)"
      ]
     },
     "execution_count": 143,
     "metadata": {},
     "output_type": "execute_result"
    }
   ],
   "source": [
    "from scipy.ndimage.interpolation import map_coordinates\n",
    "# from mpl_toolkits.basemap import interp\n",
    "import numpy\n",
    "\n",
    "in_data = numpy.array([[ 25.89125824,  25.88840675],[ 25.90930748,  25.90640068]], dtype=numpy.float32)\n",
    "\n",
    "in_data.shape\n",
    "\n"
   ]
  },
  {
   "cell_type": "code",
   "execution_count": 150,
   "metadata": {},
   "outputs": [
    {
     "data": {
      "text/plain": [
       "array([7.8, 7.5])"
      ]
     },
     "execution_count": 150,
     "metadata": {},
     "output_type": "execute_result"
    }
   ],
   "source": [
    "map_coordinates(a, [[1.7,1.5], [1,1.5]], order=1, mode='nearest')"
   ]
  },
  {
   "cell_type": "code",
   "execution_count": 40,
   "metadata": {},
   "outputs": [],
   "source": [
    "import cv2\n",
    "num_labels, labels_im = cv2.connectedComponents(a.astype(np.uint8))"
   ]
  },
  {
   "cell_type": "code",
   "execution_count": 47,
   "metadata": {},
   "outputs": [
    {
     "data": {
      "text/plain": [
       "array([[1, 1, 1, 0, 0, 0, 0, 2, 2, 2],\n",
       "       [1, 1, 1, 0, 0, 0, 0, 2, 2, 2],\n",
       "       [1, 1, 1, 0, 0, 0, 0, 2, 2, 2],\n",
       "       [0, 0, 0, 0, 0, 0, 0, 2, 2, 2],\n",
       "       [0, 0, 0, 0, 3, 3, 0, 2, 2, 2],\n",
       "       [0, 0, 0, 0, 3, 3, 0, 0, 0, 0],\n",
       "       [0, 0, 0, 0, 0, 0, 0, 0, 0, 0],\n",
       "       [0, 0, 0, 0, 0, 0, 0, 0, 0, 0],\n",
       "       [0, 0, 0, 0, 0, 0, 0, 0, 0, 0],\n",
       "       [0, 0, 0, 0, 0, 0, 0, 0, 0, 0]], dtype=int32)"
      ]
     },
     "execution_count": 47,
     "metadata": {},
     "output_type": "execute_result"
    }
   ],
   "source": [
    "labels_im"
   ]
  },
  {
   "cell_type": "code",
   "execution_count": 45,
   "metadata": {},
   "outputs": [
    {
     "data": {
      "text/plain": [
       "array([72,  9, 15,  4])"
      ]
     },
     "execution_count": 45,
     "metadata": {},
     "output_type": "execute_result"
    }
   ],
   "source": [
    "np.bincount(labels_im.flat)"
   ]
  },
  {
   "cell_type": "code",
   "execution_count": null,
   "metadata": {},
   "outputs": [],
   "source": [
    "labels_im == np.argmax(np.bincount(labels_im.flat)[1:]) + 1"
   ]
  },
  {
   "cell_type": "code",
   "execution_count": null,
   "metadata": {},
   "outputs": [],
   "source": [
    "from mask2former.data.dataset_mappers.eval.davis17_sbd_mq_evaluation_clicks_mapper import DAVIS17SBDEvalMQClicksDatasetMapper"
   ]
  },
  {
   "cell_type": "code",
   "execution_count": 6,
   "metadata": {},
   "outputs": [],
   "source": [
    "from mask2former.data.datasets.register_coco_lvis import *\n",
    "from detectron2.data import DatasetCatalog, MetadataCatalog\n",
    "\n",
    "_root = os.getcwd()\n",
    "_root = os.path.join(_root, \"datasets/\")\n",
    "# _root = os.getenv(\"DETECTRON2_DATASETS\", \"datasets\")\n",
    "# print(_root)\n",
    "# register_all_coco_lvis_2017(_root)"
   ]
  },
  {
   "cell_type": "code",
   "execution_count": null,
   "metadata": {},
   "outputs": [],
   "source": [
    "d = DatasetCatalog.get(\"coco_lvis_2017_train\")"
   ]
  },
  {
   "cell_type": "code",
   "execution_count": 10,
   "metadata": {},
   "outputs": [],
   "source": [
    "ious = np.array([.76,.78,.80,.82,.85,.87,.90])"
   ]
  },
  {
   "cell_type": "code",
   "execution_count": 11,
   "metadata": {},
   "outputs": [
    {
     "data": {
      "text/plain": [
       "array([False, False,  True,  True,  True,  True,  True])"
      ]
     },
     "execution_count": 11,
     "metadata": {},
     "output_type": "execute_result"
    }
   ],
   "source": [
    "vals = ious>=.80\n",
    "vals"
   ]
  },
  {
   "cell_type": "code",
   "execution_count": 12,
   "metadata": {},
   "outputs": [
    {
     "data": {
      "text/plain": [
       "2"
      ]
     },
     "execution_count": 12,
     "metadata": {},
     "output_type": "execute_result"
    }
   ],
   "source": [
    "np.argmax(vals)"
   ]
  },
  {
   "cell_type": "code",
   "execution_count": 5,
   "metadata": {},
   "outputs": [
    {
     "name": "stdout",
     "output_type": "stream",
     "text": [
      "now = 2023-02-08 10:36:37.880132\n",
      "date and time = 08_02_2023_10_36_37s\n"
     ]
    }
   ],
   "source": [
    "from datetime import datetime\n",
    "\n",
    "# datetime object containing current date and time\n",
    "now = datetime.now()\n",
    " \n",
    "print(\"now =\", now)\n",
    "\n",
    "# dd/mm/YY H:M:S\n",
    "dt_string = now.strftime(\"%d_%m_%Y_%H_%M_%S\")\n",
    "print(\"date and time =\", dt_string +\"s\")"
   ]
  },
  {
   "cell_type": "code",
   "execution_count": 3,
   "metadata": {},
   "outputs": [
    {
     "data": {
      "text/plain": [
       "[5, 4, 3, 2, 1, 0]"
      ]
     },
     "execution_count": 3,
     "metadata": {},
     "output_type": "execute_result"
    }
   ],
   "source": [
    "list(range(5,-1,-1))"
   ]
  },
  {
   "cell_type": "code",
   "execution_count": 7,
   "metadata": {},
   "outputs": [
    {
     "data": {
      "text/plain": [
       "False"
      ]
     },
     "execution_count": 7,
     "metadata": {},
     "output_type": "execute_result"
    }
   ],
   "source": [
    "a = [1,2,3]\n",
    "10 in a"
   ]
  },
  {
   "cell_type": "code",
   "execution_count": 81,
   "metadata": {},
   "outputs": [
    {
     "data": {
      "text/plain": [
       "tensor([[0, 1, 0, 1, 1],\n",
       "        [0, 0, 0, 1, 1],\n",
       "        [1, 1, 1, 0, 1],\n",
       "        [1, 0, 1, 0, 0],\n",
       "        [1, 0, 1, 1, 0]])"
      ]
     },
     "execution_count": 81,
     "metadata": {},
     "output_type": "execute_result"
    }
   ],
   "source": [
    "x = torch.randn((2,5,5))\n",
    "torch.argmax(x,0)"
   ]
  },
  {
   "cell_type": "code",
   "execution_count": 65,
   "metadata": {},
   "outputs": [
    {
     "name": "stdout",
     "output_type": "stream",
     "text": [
      "tensor([-0.2960,  0.8196, -1.1057, -0.7486,  0.0711, -1.1511, -0.5144, -0.5536,\n",
      "         1.3287, -0.3221], requires_grad=True)\n"
     ]
    }
   ],
   "source": [
    "x = torch.randn(10, dtype=torch.float32, requires_grad=True)\n",
    "print(x)\n",
    "y = x.repeat(5, 1)\n",
    "z = (y**2).sum()\n",
    "# z.backward()\n",
    "torch.autograd.backward([z], inputs=[x])"
   ]
  },
  {
   "cell_type": "code",
   "execution_count": null,
   "metadata": {},
   "outputs": [],
   "source": [
    "optim = torch.optim.SGD([x], lr=0.01)\n",
    "print(x)        # tensor([1., 2.], requires_grad=True)\n",
    "optim.step()\n",
    "print(x)  "
   ]
  },
  {
   "cell_type": "code",
   "execution_count": null,
   "metadata": {},
   "outputs": [],
   "source": [
    "y"
   ]
  },
  {
   "cell_type": "code",
   "execution_count": 49,
   "metadata": {},
   "outputs": [
    {
     "name": "stdout",
     "output_type": "stream",
     "text": [
      "tensor([[-0.0929,  1.6599,  0.0832,  0.5620],\n",
      "        [-0.3079,  2.0893, -1.9158,  1.1371],\n",
      "        [-0.5511, -0.2064,  0.6665,  0.4380]], requires_grad=True)\n"
     ]
    }
   ],
   "source": [
    "x = torch.randn(3, 4, requires_grad=True)\n",
    "print(x)\n",
    "# def test_repeat(x):\n",
    "y = x.repeat(2, 2, 2, 2)\n",
    "out = y.sum()\n",
    "out.backward()\n",
    "\n",
    "# test_repeat(x)"
   ]
  },
  {
   "cell_type": "code",
   "execution_count": 50,
   "metadata": {},
   "outputs": [
    {
     "name": "stdout",
     "output_type": "stream",
     "text": [
      "tensor([[-0.0929,  1.6599,  0.0832,  0.5620],\n",
      "        [-0.3079,  2.0893, -1.9158,  1.1371],\n",
      "        [-0.5511, -0.2064,  0.6665,  0.4380]], requires_grad=True)\n",
      "tensor([[-0.1089,  1.6439,  0.0672,  0.5460],\n",
      "        [-0.3239,  2.0733, -1.9318,  1.1211],\n",
      "        [-0.5671, -0.2224,  0.6505,  0.4220]], requires_grad=True)\n"
     ]
    }
   ],
   "source": [
    "optim = torch.optim.SGD([x], lr=0.001)\n",
    "print(x)        # tensor([1., 2.], requires_grad=True)\n",
    "optim.step()\n",
    "print(x)  "
   ]
  },
  {
   "cell_type": "code",
   "execution_count": 20,
   "metadata": {},
   "outputs": [
    {
     "data": {
      "text/plain": [
       "array([[ True,  True,  True,  True,  True],\n",
       "       [ True,  True,  True,  True,  True],\n",
       "       [ True,  True,  True,  True,  True],\n",
       "       [ True,  True,  True,  True,  True],\n",
       "       [ True,  True,  True,  True,  True]])"
      ]
     },
     "execution_count": 20,
     "metadata": {},
     "output_type": "execute_result"
    }
   ],
   "source": [
    "x = np.ones((5,5),dtype=np.bool_)\n",
    "x"
   ]
  },
  {
   "cell_type": "code",
   "execution_count": 16,
   "metadata": {},
   "outputs": [
    {
     "data": {
      "text/plain": [
       "array([[1., 1., 1., 1., 1.],\n",
       "       [1., 1., 1., 1., 1.],\n",
       "       [1., 0., 0., 0., 1.],\n",
       "       [1., 0., 0., 0., 1.],\n",
       "       [1., 1., 1., 1., 1.]])"
      ]
     },
     "execution_count": 16,
     "metadata": {},
     "output_type": "execute_result"
    }
   ],
   "source": [
    "y = np.ones((5,5))\n",
    "y[2:4,1:4] =0\n",
    "y"
   ]
  },
  {
   "cell_type": "code",
   "execution_count": 17,
   "metadata": {},
   "outputs": [],
   "source": [
    "s = np.argwhere(y)"
   ]
  },
  {
   "cell_type": "code",
   "execution_count": 18,
   "metadata": {},
   "outputs": [],
   "source": [
    "import random\n",
    "indices = random.sample(range(s.shape[0]),5)"
   ]
  },
  {
   "cell_type": "code",
   "execution_count": 19,
   "metadata": {},
   "outputs": [
    {
     "data": {
      "text/plain": [
       "[9, 3, 16, 8, 10]"
      ]
     },
     "execution_count": 19,
     "metadata": {},
     "output_type": "execute_result"
    }
   ],
   "source": [
    "indices"
   ]
  },
  {
   "cell_type": "code",
   "execution_count": 20,
   "metadata": {},
   "outputs": [],
   "source": [
    "from functools import lru_cache\n",
    "@lru_cache(maxsize=None)\n",
    "def generate_probs(max_num_points, gamma):\n",
    "    probs = []\n",
    "    last_value = 1\n",
    "    for i in range(max_num_points):\n",
    "        probs.append(last_value)\n",
    "        last_value *= gamma\n",
    "\n",
    "    probs = np.array(probs)\n",
    "    probs /= probs.sum()\n",
    "\n",
    "    return probs"
   ]
  },
  {
   "cell_type": "code",
   "execution_count": 21,
   "metadata": {},
   "outputs": [
    {
     "data": {
      "text/plain": [
       "array([0.36060726, 0.25242508, 0.17669756, 0.12368829, 0.0865818 ])"
      ]
     },
     "execution_count": 21,
     "metadata": {},
     "output_type": "execute_result"
    }
   ],
   "source": [
    "pos_probs = generate_probs(5,gamma=0.7)\n",
    "pos_probs"
   ]
  },
  {
   "cell_type": "code",
   "execution_count": 78,
   "metadata": {},
   "outputs": [
    {
     "data": {
      "text/plain": [
       "[None]"
      ]
     },
     "execution_count": 78,
     "metadata": {},
     "output_type": "execute_result"
    }
   ],
   "source": [
    "x = [[1,2,0], [2,3]]\n",
    "y = []\n",
    "y.append(x[1].append(0))\n",
    "y\n"
   ]
  },
  {
   "cell_type": "code",
   "execution_count": 79,
   "metadata": {},
   "outputs": [],
   "source": [
    "import math\n",
    "use_timestamp=False\n",
    "def gen_sineembed_for_position(pos_tensor):\n",
    "    # n_query, bs, _ = pos_tensor.size()\n",
    "    # sineembed_tensor = torch.zeros(n_query, bs, 256)\n",
    "    import math\n",
    "    scale = 2 * math.pi\n",
    "    dim_t = torch.arange(128, dtype=torch.float32, device=pos_tensor.device)\n",
    "    dim_t = 10000 ** (2 * torch.div(dim_t, 2, rounding_mode='floor') / 128)\n",
    "    x_embed = pos_tensor[:, :, 0] * scale\n",
    "    y_embed = pos_tensor[:, :, 1] * scale\n",
    "    if use_timestamp:\n",
    "        t_embed = pos_tensor[:, :, 2] * scale\n",
    "        y_embed += t_embed\n",
    "        x_embed += x_embed\n",
    "    pos_x = x_embed[:, :, None] / dim_t\n",
    "    pos_y = y_embed[:, :, None] / dim_t\n",
    "    pos_x[:, :, 0::2][torch.where(pos_x[:, :, 0::2] < 0)] = 0.0\n",
    "    pos_x[:, :, 1::2][torch.where(pos_x[:, :, 1::2] < 0)] = (0.5 * math.pi)\n",
    "    pos_y[:, :, 0::2][torch.where(pos_y[:, :, 0::2] < 0)] = 0.0\n",
    "    pos_y[:, :, 1::2][torch.where(pos_y[:, :, 1::2] < 0)] = (0.5 * math.pi)\n",
    "    pos_x = torch.stack((pos_x[:, :, 0::2].sin(), pos_x[:, :, 1::2].cos()), dim=3).flatten(2)\n",
    "    pos_y = torch.stack((pos_y[:, :, 0::2].sin(), pos_y[:, :, 1::2].cos()), dim=3).flatten(2)\n",
    "    pos = torch.cat((pos_y, pos_x), dim=2)\n",
    "    return pos"
   ]
  },
  {
   "cell_type": "code",
   "execution_count": 80,
   "metadata": {},
   "outputs": [],
   "source": [
    "def get_pos_tensor_coords(batched_fg_coords_list, batched_bg_coords_list, num_queries, height, width, device):\n",
    "\n",
    "    #batched_fg_coords_list: batch x (list of list of fg coords) [y,x,t]\n",
    "\n",
    "    # return\n",
    "    # points: Bs x num_queries x 3 \n",
    "    B = len(batched_fg_coords_list)\n",
    "    \n",
    "    pos_tensor = []\n",
    "    \n",
    "    for i, fg_coords_per_image in enumerate(batched_fg_coords_list):\n",
    "        coords_per_image  = []\n",
    "        for fg_coords_per_mask in fg_coords_per_image:\n",
    "            for coords in fg_coords_per_mask:\n",
    "                coords_per_image.append([coords[0]/width, coords[1]/height, coords[2]])\n",
    "        if batched_bg_coords_list[i] is not None:\n",
    "            for coords in batched_bg_coords_list[i]:\n",
    "                coords_per_image.append([coords[0]/width, coords[1]/height, coords[2]])\n",
    "        coords_per_image.extend([[-1.0,-1.0,-1.0]] * (num_queries-len(coords_per_image)))\n",
    "        pos_tensor.append(torch.tensor(coords_per_image,device=device))\n",
    "    # pos_tensor = torch.tensor(pos_tensor,device=device)\n",
    "    pos_tensor = torch.stack(pos_tensor)\n",
    "    return pos_tensor"
   ]
  },
  {
   "cell_type": "code",
   "execution_count": 81,
   "metadata": {},
   "outputs": [],
   "source": [
    "# [y,x,t]\n",
    "batched_fg_coords_list = [[[[2,3,0],[3,5,0]], [[5,6,0], [6,7,0]]], [[[2,3,0],[3,5,0]], [[5,6,0], [6,7,0]]]]\n",
    "batched_bg_coords_list = [[[6,7,0]],None]\n",
    "num_queries = 11\n",
    "height = width = 50\n",
    "device = 'cpu'\n",
    "\n",
    "pos_tensor = get_pos_tensor_coords(batched_fg_coords_list, batched_bg_coords_list, num_queries, height, width, device)\n"
   ]
  },
  {
   "cell_type": "code",
   "execution_count": 82,
   "metadata": {},
   "outputs": [
    {
     "data": {
      "text/plain": [
       "torch.Size([2, 11, 3])"
      ]
     },
     "execution_count": 82,
     "metadata": {},
     "output_type": "execute_result"
    }
   ],
   "source": [
    "pos_tensor.shape"
   ]
  },
  {
   "cell_type": "code",
   "execution_count": 83,
   "metadata": {},
   "outputs": [
    {
     "data": {
      "text/plain": [
       "tensor([[[ 0.0400,  0.0600,  0.0000],\n",
       "         [ 0.0600,  0.1000,  0.0000],\n",
       "         [ 0.1000,  0.1200,  0.0000],\n",
       "         [ 0.1200,  0.1400,  0.0000],\n",
       "         [ 0.1200,  0.1400,  0.0000],\n",
       "         [-1.0000, -1.0000, -1.0000],\n",
       "         [-1.0000, -1.0000, -1.0000],\n",
       "         [-1.0000, -1.0000, -1.0000],\n",
       "         [-1.0000, -1.0000, -1.0000],\n",
       "         [-1.0000, -1.0000, -1.0000],\n",
       "         [-1.0000, -1.0000, -1.0000]],\n",
       "\n",
       "        [[ 0.0400,  0.0600,  0.0000],\n",
       "         [ 0.0600,  0.1000,  0.0000],\n",
       "         [ 0.1000,  0.1200,  0.0000],\n",
       "         [ 0.1200,  0.1400,  0.0000],\n",
       "         [-1.0000, -1.0000, -1.0000],\n",
       "         [-1.0000, -1.0000, -1.0000],\n",
       "         [-1.0000, -1.0000, -1.0000],\n",
       "         [-1.0000, -1.0000, -1.0000],\n",
       "         [-1.0000, -1.0000, -1.0000],\n",
       "         [-1.0000, -1.0000, -1.0000],\n",
       "         [-1.0000, -1.0000, -1.0000]]])"
      ]
     },
     "execution_count": 83,
     "metadata": {},
     "output_type": "execute_result"
    }
   ],
   "source": [
    "pos_tensor"
   ]
  },
  {
   "cell_type": "code",
   "execution_count": 86,
   "metadata": {},
   "outputs": [],
   "source": [
    "scale = 2 * math.pi\n",
    "dim_t = torch.arange(128, dtype=torch.float32, device=pos_tensor.device)\n",
    "dim_t = 10000 ** (2 * torch.div(dim_t, 2, rounding_mode='floor') / 128)\n",
    "x_embed = pos_tensor[:, :, 0] * scale\n",
    "y_embed = pos_tensor[:, :, 1] * scale\n",
    "# if use_timestamp:\n",
    "#     t_embed = pos_tensor[:, :, 2] * scale\n",
    "#     y_embed += t_embed\n",
    "#     x_embed += x_embed\n",
    "pos_x = x_embed[:, :, None] / dim_t\n",
    "pos_y = y_embed[:, :, None] / dim_t\n",
    "pos_x = torch.stack((pos_x[:, :, 0::2].sin(), pos_x[:, :, 1::2].cos()), dim=3).flatten(2)\n",
    "pos_y = torch.stack((pos_y[:, :, 0::2].sin(), pos_y[:, :, 1::2].cos()), dim=3).flatten(2)\n",
    "pos = torch.cat((pos_y, pos_x), dim=2)\n"
   ]
  },
  {
   "cell_type": "code",
   "execution_count": 87,
   "metadata": {},
   "outputs": [
    {
     "data": {
      "text/plain": [
       "torch.Size([2, 11, 128])"
      ]
     },
     "execution_count": 87,
     "metadata": {},
     "output_type": "execute_result"
    }
   ],
   "source": [
    "pos_x = x_embed[:, :, None] / dim_t\n",
    "pos_x.shape"
   ]
  },
  {
   "cell_type": "code",
   "execution_count": 88,
   "metadata": {},
   "outputs": [],
   "source": [
    "pos_x[:, :, 0::2][torch.where(pos_x[:, :, 0::2] < 0)] = 0.0\n",
    "pos_x[:, :, 1::2][torch.where(pos_x[:, :, 1::2] < 0)] = math.pi * 0.5"
   ]
  },
  {
   "cell_type": "code",
   "execution_count": 90,
   "metadata": {},
   "outputs": [
    {
     "data": {
      "text/plain": [
       "tensor([[[ 9.6858e-01,  9.7641e-01,  9.8229e-01,  ...,  1.0000e+00,\n",
       "           1.0000e+00,  1.0000e+00],\n",
       "         [ 9.2978e-01,  9.4718e-01,  9.6030e-01,  ...,  1.0000e+00,\n",
       "           1.0000e+00,  1.0000e+00],\n",
       "         [ 8.0902e-01,  8.5559e-01,  8.9104e-01,  ...,  1.0000e+00,\n",
       "           1.0000e+00,  1.0000e+00],\n",
       "         ...,\n",
       "         [-4.3711e-08, -4.3711e-08, -4.3711e-08,  ..., -4.3711e-08,\n",
       "          -4.3711e-08, -4.3711e-08],\n",
       "         [-4.3711e-08, -4.3711e-08, -4.3711e-08,  ..., -4.3711e-08,\n",
       "          -4.3711e-08, -4.3711e-08],\n",
       "         [-4.3711e-08, -4.3711e-08, -4.3711e-08,  ..., -4.3711e-08,\n",
       "          -4.3711e-08, -4.3711e-08]],\n",
       "\n",
       "        [[ 9.6858e-01,  9.7641e-01,  9.8229e-01,  ...,  1.0000e+00,\n",
       "           1.0000e+00,  1.0000e+00],\n",
       "         [ 9.2978e-01,  9.4718e-01,  9.6030e-01,  ...,  1.0000e+00,\n",
       "           1.0000e+00,  1.0000e+00],\n",
       "         [ 8.0902e-01,  8.5559e-01,  8.9104e-01,  ...,  1.0000e+00,\n",
       "           1.0000e+00,  1.0000e+00],\n",
       "         ...,\n",
       "         [-4.3711e-08, -4.3711e-08, -4.3711e-08,  ..., -4.3711e-08,\n",
       "          -4.3711e-08, -4.3711e-08],\n",
       "         [-4.3711e-08, -4.3711e-08, -4.3711e-08,  ..., -4.3711e-08,\n",
       "          -4.3711e-08, -4.3711e-08],\n",
       "         [-4.3711e-08, -4.3711e-08, -4.3711e-08,  ..., -4.3711e-08,\n",
       "          -4.3711e-08, -4.3711e-08]]])"
      ]
     },
     "execution_count": 90,
     "metadata": {},
     "output_type": "execute_result"
    }
   ],
   "source": [
    "pos_x[:, :, 1::2].cos()"
   ]
  },
  {
   "cell_type": "code",
   "execution_count": 84,
   "metadata": {},
   "outputs": [],
   "source": [
    "p_t = gen_sineembed_for_position(pos_tensor)"
   ]
  },
  {
   "cell_type": "code",
   "execution_count": 85,
   "metadata": {},
   "outputs": [
    {
     "data": {
      "text/plain": [
       "tensor([[[ 3.6812e-01,  9.2978e-01,  3.2069e-01,  ...,  1.0000e+00,\n",
       "           2.9023e-05,  1.0000e+00],\n",
       "         [ 5.8779e-01,  8.0902e-01,  5.1765e-01,  ...,  1.0000e+00,\n",
       "           4.3534e-05,  1.0000e+00],\n",
       "         [ 6.8455e-01,  7.2897e-01,  6.0751e-01,  ...,  1.0000e+00,\n",
       "           7.2557e-05,  1.0000e+00],\n",
       "         ...,\n",
       "         [ 0.0000e+00, -4.3711e-08,  0.0000e+00,  ..., -4.3711e-08,\n",
       "           0.0000e+00, -4.3711e-08],\n",
       "         [ 0.0000e+00, -4.3711e-08,  0.0000e+00,  ..., -4.3711e-08,\n",
       "           0.0000e+00, -4.3711e-08],\n",
       "         [ 0.0000e+00, -4.3711e-08,  0.0000e+00,  ..., -4.3711e-08,\n",
       "           0.0000e+00, -4.3711e-08]],\n",
       "\n",
       "        [[ 3.6812e-01,  9.2978e-01,  3.2069e-01,  ...,  1.0000e+00,\n",
       "           2.9023e-05,  1.0000e+00],\n",
       "         [ 5.8779e-01,  8.0902e-01,  5.1765e-01,  ...,  1.0000e+00,\n",
       "           4.3534e-05,  1.0000e+00],\n",
       "         [ 6.8455e-01,  7.2897e-01,  6.0751e-01,  ...,  1.0000e+00,\n",
       "           7.2557e-05,  1.0000e+00],\n",
       "         ...,\n",
       "         [ 0.0000e+00, -4.3711e-08,  0.0000e+00,  ..., -4.3711e-08,\n",
       "           0.0000e+00, -4.3711e-08],\n",
       "         [ 0.0000e+00, -4.3711e-08,  0.0000e+00,  ..., -4.3711e-08,\n",
       "           0.0000e+00, -4.3711e-08],\n",
       "         [ 0.0000e+00, -4.3711e-08,  0.0000e+00,  ..., -4.3711e-08,\n",
       "           0.0000e+00, -4.3711e-08]]])"
      ]
     },
     "execution_count": 85,
     "metadata": {},
     "output_type": "execute_result"
    }
   ],
   "source": [
    "p_t"
   ]
  },
  {
   "cell_type": "code",
   "execution_count": 94,
   "metadata": {},
   "outputs": [
    {
     "data": {
      "text/plain": [
       "6.123233995736766e-17"
      ]
     },
     "execution_count": 94,
     "metadata": {},
     "output_type": "execute_result"
    }
   ],
   "source": [
    "math.cos(math.pi/2)"
   ]
  },
  {
   "cell_type": "code",
   "execution_count": 52,
   "metadata": {},
   "outputs": [
    {
     "data": {
      "text/plain": [
       "torch.Size([2, 5, 3])"
      ]
     },
     "execution_count": 52,
     "metadata": {},
     "output_type": "execute_result"
    }
   ],
   "source": [
    "x = [[0,0,0]]*5\n",
    "x = torch.tensor(x)\n",
    "torch.stack((x,x)).shape"
   ]
  },
  {
   "cell_type": "code",
   "execution_count": null,
   "metadata": {},
   "outputs": [],
   "source": [
    "import torchvision.transforms.functional as F\n",
    "def visualization(batched_inputs, prev_output, batched_fg_coords_list,batched_bg_coords_list,\n",
    "                  alpha_blend=0.6, num_iter = 0):\n",
    "    image = np.asarray(batched_inputs[0]['image'].permute(1,2,0))\n",
    "\n",
    "    visualizer = Visualizer(image, metadata=None)\n",
    "    if prev_output is not None:\n",
    "        pred_masks = F.resize(prev_output.pred_masks.to(dtype=torch.uint8), image.shape[:2])\n",
    "    else:\n",
    "        pred_masks = batched_inputs[0]['instances'].gt_masks\n",
    "    c = []\n",
    "    for i in range(pred_masks.shape[0]):\n",
    "        # c.append(color_map[2*(i)+2]/255.0)\n",
    "        c.append(color_map[i]/255.0)\n",
    "    # pred_masks = np.asarray(pred_masks).astype(np.bool_)\n",
    "    vis = visualizer.overlay_instances(masks = pred_masks, assigned_colors=c, alpha=alpha_blend)\n",
    "    # [Optional] prepare labels\n",
    "\n",
    "    image = vis.get_image()\n",
    "    # # Laminate your image!\n",
    "    total_colors = len(color_map)-1\n",
    "    \n",
    "    h,w = image.shape[:2]\n",
    "    for fg_coords_per_mask in batched_fg_coords_list[0]:\n",
    "        for i, coords in enumerate(fg_coords_per_mask):\n",
    "            color = np.array(color_map[total_colors-5*i-4], dtype=np.uint8)\n",
    "            if i==0:\n",
    "                image = cv2.circle(image, (int(coords[1]), int(coords[0])), 8, color, -1)\n",
    "            else:\n",
    "                image = cv2.circle(image, (int(coords[1]), int(coords[0])), 3, color, -1)\n",
    "    \n",
    "    if batched_bg_coords_list[0]:\n",
    "         for i, coords in enumerate(batched_bg_coords_list[0]):\n",
    "            color = np.array([255,0,0], dtype=np.uint8)\n",
    "            image = cv2.circle(image, (int(coords[1]), int(coords[0])), 3, color, -1)\n",
    "\n",
    "    image = cv2.cvtColor(image, cv2.COLOR_RGB2BGR)\n",
    "    # image = cv2.resize(image, (inputs[\"width\"],inputs[\"height\"]))\n",
    "    save_dir = os.path.join(\"./train_vis/\", str(batched_inputs[0]['image_id']))\n",
    "    os.makedirs(save_dir, exist_ok=True)\n",
    "    cv2.imwrite(os.path.join(save_dir, f\"iter_{num_iter}.jpg\"), image)"
   ]
  },
  {
   "cell_type": "code",
   "execution_count": 4,
   "metadata": {},
   "outputs": [
    {
     "data": {
      "text/plain": [
       "tensor([[True, True, True, True, True],\n",
       "        [True, True, True, True, True],\n",
       "        [True, True, True, True, True],\n",
       "        [True, True, True, True, True],\n",
       "        [True, True, True, True, True]])"
      ]
     },
     "execution_count": 4,
     "metadata": {},
     "output_type": "execute_result"
    }
   ],
   "source": [
    "x = torch.ones((5,5),dtype=torch.bool)\n",
    "x"
   ]
  },
  {
   "cell_type": "code",
   "execution_count": 5,
   "metadata": {},
   "outputs": [
    {
     "data": {
      "text/plain": [
       "tensor([[1, 1, 1, 1, 1],\n",
       "        [1, 1, 1, 1, 1],\n",
       "        [1, 1, 1, 1, 1],\n",
       "        [1, 1, 1, 1, 1],\n",
       "        [1, 1, 1, 1, 1]], dtype=torch.uint8)"
      ]
     },
     "execution_count": 5,
     "metadata": {},
     "output_type": "execute_result"
    }
   ],
   "source": [
    "x = x.to(torch.uint8)\n",
    "x"
   ]
  },
  {
   "cell_type": "code",
   "execution_count": 4,
   "metadata": {},
   "outputs": [
    {
     "data": {
      "text/plain": [
       "False"
      ]
     },
     "execution_count": 4,
     "metadata": {},
     "output_type": "execute_result"
    }
   ],
   "source": []
  },
  {
   "cell_type": "code",
   "execution_count": 50,
   "metadata": {},
   "outputs": [],
   "source": [
    "import pickle\n",
    "with open(\"datasets/lvis/coco_lvis_combined_panoptic_1half.pickle\", 'rb') as f:\n",
    "    dataset_dicts = pickle.load(f)\n",
    "\n",
    "with open(\"datasets/lvis/coco_lvis_combined_panoptic_2half.pickle\", 'rb') as f:\n",
    "    dataset_dicts1 = pickle.load(f)\n",
    "\n",
    "dataset_dicts.extend(dataset_dicts1)"
   ]
  },
  {
   "cell_type": "code",
   "execution_count": 51,
   "metadata": {},
   "outputs": [],
   "source": [
    "with open(\"datasets/lvis/coco_lvis_combined_panoptic.pickle\", 'wb') as handle:\n",
    "    pickle.dump(dataset_dicts, handle, protocol=pickle.HIGHEST_PROTOCOL)"
   ]
  },
  {
   "cell_type": "code",
   "execution_count": 53,
   "metadata": {},
   "outputs": [
    {
     "data": {
      "text/plain": [
       "99354"
      ]
     },
     "execution_count": 53,
     "metadata": {},
     "output_type": "execute_result"
    }
   ],
   "source": [
    "len(dataset_dicts)"
   ]
  },
  {
   "cell_type": "code",
   "execution_count": 1,
   "metadata": {},
   "outputs": [],
   "source": [
    "import pickle\n",
    "\n",
    "with open(\"output/GrabCut_points_dict_16_02_2023_14_38_32_.pickle\", 'rb') as f:\n",
    "    pt_sampled_dict = pickle.load(f)\n",
    "\n",
    "with open(\"output/GrabCut_points_dict_16_02_2023_14_39_07_.pickle\", 'rb') as f:\n",
    "    pt_sampled_dict1 = pickle.load(f)\n",
    "\n",
    "# with open(\"output/features_dicts1_GrabCut.pickle\", 'rb') as f:\n",
    "#     features_dict1 = pickle.load(f)\n"
   ]
  },
  {
   "cell_type": "code",
   "execution_count": 2,
   "metadata": {},
   "outputs": [
    {
     "data": {
      "text/plain": [
       "50"
      ]
     },
     "execution_count": 2,
     "metadata": {},
     "output_type": "execute_result"
    }
   ],
   "source": [
    "len(pt_sampled_dict)"
   ]
  },
  {
   "cell_type": "code",
   "execution_count": null,
   "metadata": {},
   "outputs": [],
   "source": [
    "pt_sampled_dict1.items()"
   ]
  },
  {
   "cell_type": "code",
   "execution_count": 3,
   "metadata": {},
   "outputs": [
    {
     "data": {
      "text/plain": [
       "1.66"
      ]
     },
     "execution_count": 3,
     "metadata": {},
     "output_type": "execute_result"
    }
   ],
   "source": [
    "sum_p = 0\n",
    "for k,v in pt_sampled_dict.items():\n",
    "    sum_p+= len(v)\n",
    "sum_p/50"
   ]
  },
  {
   "cell_type": "code",
   "execution_count": 4,
   "metadata": {},
   "outputs": [
    {
     "data": {
      "text/plain": [
       "1.66"
      ]
     },
     "execution_count": 4,
     "metadata": {},
     "output_type": "execute_result"
    }
   ],
   "source": [
    "sum_p = 0\n",
    "for k,v in pt_sampled_dict1.items():\n",
    "    sum_p+= len(v)\n",
    "sum_p/50"
   ]
  },
  {
   "cell_type": "code",
   "execution_count": 6,
   "metadata": {},
   "outputs": [],
   "source": [
    "for k in pt_sampled_dict.keys():\n",
    "    for k1 in pt_sampled_dict1.keys():\n",
    "        if k==k1 and pt_sampled_dict[k]!=pt_sampled_dict1[k1]:\n",
    "            print(k)\n",
    "            print(pt_sampled_dict1[k1])\n",
    "            print(pt_sampled_dict[k]) "
   ]
  },
  {
   "cell_type": "code",
   "execution_count": 13,
   "metadata": {},
   "outputs": [],
   "source": [
    "with open(\"output/GrabCut_features_dict_16_02_2023_14_51_57_.pickle\", 'rb') as f:\n",
    "    features_dict = pickle.load(f)\n",
    "\n",
    "with open(\"output/GrabCut_features_dict_16_02_2023_14_53_59_.pickle\", 'rb') as f:\n",
    "    features_dict1 = pickle.load(f)"
   ]
  },
  {
   "cell_type": "code",
   "execution_count": null,
   "metadata": {},
   "outputs": [],
   "source": [
    "import torch\n",
    "for k in features_dict.keys():\n",
    "    for k1 in features_dict1.keys():\n",
    "        if (k==k1):\n",
    "            print(torch.all(features_dict[k]['first_mask_before_resize']==features_dict1[k1]['first_mask_before_resize']))\n",
    "            # print(k)"
   ]
  },
  {
   "cell_type": "code",
   "execution_count": 46,
   "metadata": {},
   "outputs": [
    {
     "data": {
      "text/plain": [
       "dict_keys(['bool', 'grave', '326038', 'banana1', 'book', 'memorial', 'banana2', 'bush', 'doll', 'person6', '86016', 'person3', 'person2', '227092', '209070', '21077', 'scissors', 'teddy', '65019', '271008', 'flower', 'person5', '189080', 'person8', 'sheep', '388016', '69020', 'person7', 'banana3', '37073', 'person1', '124080', '153077', 'music', '106024', 'cross', 'fullmoon', 'tennis', 'elefant', 'stone1', 'llama', '208001', 'stone2', '304074', '153093', 'ceramic', '24077', 'person4', '376043', '181079'])"
      ]
     },
     "execution_count": 46,
     "metadata": {},
     "output_type": "execute_result"
    }
   ],
   "source": [
    "features_dict.keys()"
   ]
  },
  {
   "cell_type": "code",
   "execution_count": 15,
   "metadata": {},
   "outputs": [
    {
     "ename": "KeyError",
     "evalue": "'sem_seg_head.predictor.query_embed'",
     "output_type": "error",
     "traceback": [
      "\u001b[0;31m---------------------------------------------------------------------------\u001b[0m",
      "\u001b[0;31mKeyError\u001b[0m                                  Traceback (most recent call last)",
      "\u001b[1;32m/home/rana/claix_work/DynaMITe/visual_results.ipynb Cell 24'\u001b[0m in \u001b[0;36m<cell line: 1>\u001b[0;34m()\u001b[0m\n\u001b[0;32m----> <a href='vscode-notebook-cell:/home/rana/claix_work/DynaMITe/visual_results.ipynb#ch0000023?line=0'>1</a>\u001b[0m features_dict[\u001b[39m'\u001b[39;49m\u001b[39mbush\u001b[39;49m\u001b[39m'\u001b[39;49m][\u001b[39m'\u001b[39;49m\u001b[39msem_seg_head.predictor.query_embed\u001b[39;49m\u001b[39m'\u001b[39;49m]\n",
      "\u001b[0;31mKeyError\u001b[0m: 'sem_seg_head.predictor.query_embed'"
     ]
    }
   ],
   "source": [
    "features_dict['bush']['sem_seg_head.predictor.query_embed']\n"
   ]
  },
  {
   "cell_type": "code",
   "execution_count": 16,
   "metadata": {},
   "outputs": [
    {
     "data": {
      "text/plain": [
       "tensor(True, device='cuda:0')"
      ]
     },
     "execution_count": 16,
     "metadata": {},
     "output_type": "execute_result"
    }
   ],
   "source": [
    "import torch\n",
    "torch.all(features_dict['bush']['sem_seg_head.predictor.query_embed']==features_dict['bool']['sem_seg_head.predictor.query_embed'])"
   ]
  },
  {
   "cell_type": "code",
   "execution_count": 13,
   "metadata": {},
   "outputs": [],
   "source": [
    "from torch import nn\n",
    "query_embed = nn.Parameter(torch.zeros(256), True)"
   ]
  },
  {
   "cell_type": "code",
   "execution_count": 14,
   "metadata": {},
   "outputs": [
    {
     "data": {
      "text/plain": [
       "Parameter containing:\n",
       "tensor([-6.4749e-01, -9.4622e-01,  9.9136e-01, -2.8006e-01, -1.1464e+00,\n",
       "         2.3682e+00, -1.9174e+00,  4.9042e-01, -1.7973e+00, -8.8009e-02,\n",
       "         2.9536e-01, -1.1632e+00,  7.8763e-01,  9.7209e-02, -4.6051e-01,\n",
       "        -1.3793e+00, -1.3135e+00, -8.6194e-01, -2.2053e+00,  1.6569e+00,\n",
       "         5.3033e-01,  2.0219e+00,  1.4238e+00, -2.7438e-01, -2.9316e-01,\n",
       "         5.7328e-01, -4.8293e-01,  4.7248e-01, -4.7783e-01, -9.5518e-01,\n",
       "         3.4036e-02,  6.3088e-01, -1.7732e-03,  3.7992e-01, -1.1083e+00,\n",
       "        -2.0908e+00, -5.4316e-01,  3.8153e-01, -2.4660e+00, -7.5894e-01,\n",
       "         1.7062e-01, -6.1475e-01,  1.0703e+00,  3.5325e-01,  2.6061e-01,\n",
       "        -3.5651e-01,  4.8227e-01,  7.7621e-01,  9.3742e-01, -1.3908e+00,\n",
       "         1.1140e+00,  7.4399e-01, -4.4368e-01,  1.0445e+00, -1.4251e+00,\n",
       "         1.7776e-01, -5.6139e-01,  1.3463e+00,  1.2909e+00,  1.0224e+00,\n",
       "         1.0126e-02, -3.6532e-01,  3.0054e-01, -1.0427e+00, -2.5550e+00,\n",
       "         1.3792e+00, -3.0180e+00, -9.9011e-01, -5.7959e-01,  1.0527e+00,\n",
       "         3.8878e-02, -1.0803e-01, -5.9967e-01,  4.4868e-02,  1.1858e+00,\n",
       "         2.9113e-01, -1.0857e+00, -2.0949e+00, -7.9009e-01,  2.5124e-01,\n",
       "         7.6897e-01, -9.9976e-01,  1.0557e+00,  3.8981e-01,  2.1673e-01,\n",
       "         9.7767e-01,  6.8974e-02,  2.2309e+00, -1.5021e+00,  7.7536e-01,\n",
       "         3.9605e-01, -4.7302e-01, -3.6076e-02,  4.3843e-01,  1.4999e+00,\n",
       "         1.2663e+00,  1.2796e+00, -1.2030e-01, -3.6931e-01,  5.8684e-01,\n",
       "         6.7701e-01, -5.1989e-01,  5.6786e-01, -1.1889e+00, -1.0553e+00,\n",
       "         3.7751e-02, -1.9447e+00, -4.7964e-02, -2.0589e+00,  2.7592e-03,\n",
       "         5.5593e-01,  1.0265e+00,  1.3137e+00, -1.1642e+00,  1.1399e+00,\n",
       "        -1.5409e-02, -7.5154e-01,  1.5284e-02,  2.7918e+00,  4.6044e-01,\n",
       "         2.9290e-01, -1.2645e+00,  6.3408e-01, -4.7565e-02,  1.4135e+00,\n",
       "         2.4492e+00, -2.5464e+00,  6.6724e-01,  6.1609e-01, -4.9666e-01,\n",
       "        -1.7132e+00, -2.5013e-01, -1.6909e+00, -1.3032e+00,  9.4466e-01,\n",
       "        -1.2466e+00, -8.8447e-01,  7.7599e-01,  5.4487e-02, -5.9656e-01,\n",
       "         2.1227e+00, -2.1781e+00,  6.3330e-01,  7.1862e-01, -1.4283e-01,\n",
       "        -3.6911e-01,  8.7073e-01, -4.0721e-01, -1.7535e+00,  4.6955e-01,\n",
       "         1.0997e-01,  7.2473e-01,  5.2788e-01, -1.3986e+00, -8.5391e-03,\n",
       "        -6.9298e-01, -4.5402e-01, -1.2027e+00,  4.8955e-01,  7.2693e-01,\n",
       "        -5.8987e-01,  2.2842e+00, -8.5941e-01, -1.8679e-01, -6.2337e-01,\n",
       "        -1.3894e+00, -5.0438e-01, -1.1180e+00, -3.8329e-01, -1.1887e+00,\n",
       "         1.4751e+00, -3.1120e-01, -1.0112e-01,  2.0425e+00, -7.3740e-01,\n",
       "         6.8982e-02, -7.7067e-01, -6.3257e-01,  2.4467e+00, -6.6894e-01,\n",
       "         2.7258e-01,  2.7284e-01,  1.0076e+00,  1.4912e-01,  8.3674e-01,\n",
       "        -7.1490e-01,  9.0045e-01,  5.7044e-01,  3.9995e-01, -5.0511e-01,\n",
       "        -7.8044e-01,  1.2110e-01,  1.0546e+00,  7.1148e-01, -3.9047e-01,\n",
       "        -3.1581e-01,  1.2579e+00,  7.5340e-01, -1.8266e+00, -1.5195e+00,\n",
       "        -1.1493e+00, -6.0186e-01,  4.5245e-01, -6.4823e-01, -8.3427e-01,\n",
       "        -1.2665e+00,  5.3608e-01,  1.7869e-01,  2.9538e-01,  1.9509e+00,\n",
       "         2.0131e-01, -1.1664e+00, -4.7805e-01, -1.2348e-01,  3.7494e-01,\n",
       "        -1.5411e-01,  1.9286e-01,  5.3970e-01,  1.0906e+00,  1.4679e+00,\n",
       "        -1.1615e+00,  1.3955e-01,  9.5172e-01, -1.7147e-01,  1.2186e+00,\n",
       "         3.3679e+00,  5.3101e-01,  2.0939e-01,  3.9060e-01, -1.9350e+00,\n",
       "         9.4561e-01, -8.3802e-01,  1.4816e+00,  4.4207e-01,  9.6252e-02,\n",
       "        -2.0045e+00, -5.4523e-01,  3.9278e-01, -1.8980e-01, -1.1358e+00,\n",
       "         1.4776e-01, -1.1891e+00, -5.2493e-01, -1.3490e+00,  1.8121e+00,\n",
       "         4.8696e-01,  1.7120e+00, -2.2816e+00,  1.9390e+00, -4.1819e-01,\n",
       "        -4.1695e-01,  3.4997e-02,  1.3171e+00, -4.9327e-01,  6.0657e-01,\n",
       "        -5.1419e-01], requires_grad=True)"
      ]
     },
     "execution_count": 14,
     "metadata": {},
     "output_type": "execute_result"
    }
   ],
   "source": [
    "nn.init.normal_(query_embed)"
   ]
  },
  {
   "cell_type": "code",
   "execution_count": 6,
   "metadata": {},
   "outputs": [],
   "source": [
    "q = features_dict1['bool']['sem_seg_head.predictor.query_embed']"
   ]
  },
  {
   "cell_type": "code",
   "execution_count": 7,
   "metadata": {},
   "outputs": [
    {
     "data": {
      "text/plain": [
       "tensor([ 5.4440e-01, -3.9581e-01,  1.4902e+00,  5.7210e-01,  1.4115e+00,\n",
       "         1.1782e+00,  1.7427e-01,  7.7683e-01,  1.3897e+00,  1.3905e-01,\n",
       "         1.0957e-01, -1.4464e-01, -1.5933e+00,  1.4587e+00, -1.1386e+00,\n",
       "         4.5302e-01,  5.3029e-01,  1.9542e-01,  1.1081e+00, -7.5916e-01,\n",
       "         9.3200e-01, -4.5756e-01, -1.4237e+00,  4.0218e-01, -9.7000e-01,\n",
       "         8.2498e-01,  4.8588e-01, -7.4774e-01, -5.4895e-01,  1.4943e+00,\n",
       "         1.6388e+00, -1.4993e+00,  9.8590e-01, -3.4655e-01, -5.1271e-01,\n",
       "         2.0943e-01, -1.9139e+00, -8.3778e-02,  6.0873e-01, -1.1971e+00,\n",
       "        -1.0011e+00,  7.8411e-01,  1.2188e+00, -6.9305e-01, -1.8274e-02,\n",
       "         7.3414e-01,  6.8789e-03,  2.3990e-02,  5.2682e-01,  7.5319e-01,\n",
       "         4.7599e-02, -4.8743e-01,  1.9112e-01, -7.5404e-01,  1.4807e+00,\n",
       "        -2.0128e+00, -1.5868e+00,  1.2303e+00,  1.5168e-01, -1.4823e+00,\n",
       "        -3.3540e-01, -5.1541e-01,  1.8677e-01, -1.3345e+00,  1.0651e+00,\n",
       "         1.5484e-01,  2.3708e-01,  9.4255e-01, -8.8311e-01,  1.4929e+00,\n",
       "         1.4355e+00, -1.2682e+00,  1.0203e+00,  1.3870e-02,  1.4823e+00,\n",
       "         7.7098e-01,  9.7230e-01,  3.8899e-01, -5.8867e-02,  2.5647e-01,\n",
       "        -4.6752e-01,  2.6700e-01,  9.0024e-01, -7.0883e-01,  3.8818e-01,\n",
       "         1.2056e+00,  1.5854e-01, -9.8617e-01,  1.7885e+00, -1.7943e+00,\n",
       "         1.2156e-01, -3.6817e-01,  2.4244e-01, -7.7437e-01,  1.3706e+00,\n",
       "        -1.4406e+00, -9.5404e-01, -2.5857e+00,  6.5134e-02, -1.3723e+00,\n",
       "        -1.3688e+00,  1.4804e+00,  2.0009e+00, -2.3979e-04,  8.2576e-01,\n",
       "         8.5650e-03,  1.3519e+00, -8.6264e-02, -7.5535e-01, -7.5569e-01,\n",
       "        -6.3938e-01,  2.5007e+00,  5.1795e-01,  3.5287e-01,  4.9800e-01,\n",
       "         5.9263e-01,  1.1400e+00, -4.4381e-01, -1.5946e+00,  6.9854e-02,\n",
       "        -4.1151e-01, -1.6355e+00, -1.3183e+00, -3.0206e+00, -1.1612e+00,\n",
       "         1.1963e+00, -7.8520e-01,  2.3013e+00, -9.0768e-01, -3.0319e-01,\n",
       "         4.7949e-01,  1.4885e+00, -3.2447e-01, -2.9942e-01, -6.9012e-02,\n",
       "        -1.1887e+00,  2.2945e+00,  2.1841e-01, -1.4820e+00, -7.2050e-01,\n",
       "        -2.5777e+00, -6.6547e-01, -8.5194e-02, -9.4252e-01, -3.3302e-01,\n",
       "         2.3797e+00, -1.2646e+00, -1.1028e+00, -1.3858e+00, -1.1228e-01,\n",
       "        -9.0071e-01,  9.3493e-01, -7.5831e-01,  4.6151e-01,  1.1208e+00,\n",
       "         6.7885e-01,  2.1138e-01,  1.3974e+00, -1.0667e+00,  1.0704e+00,\n",
       "         3.1742e-01, -7.2320e-02,  3.2800e-01,  8.7610e-01, -3.7569e-01,\n",
       "        -1.4012e+00, -1.0194e+00,  2.3109e-01,  3.9590e-01, -7.8975e-01,\n",
       "         1.9139e+00, -1.3154e-01, -5.8103e-01,  5.6205e-02, -3.2848e-01,\n",
       "        -9.1075e-01,  1.3370e+00, -6.4396e-01,  8.6809e-01, -4.7063e-01,\n",
       "        -9.4010e-01, -1.4561e-01,  9.8667e-02,  1.0744e+00,  9.5792e-01,\n",
       "         4.3059e-01,  1.8471e+00, -1.2264e+00, -2.4309e-01,  6.9404e-01,\n",
       "         3.6977e-01, -1.7577e+00, -3.3670e-02,  1.4564e-01,  1.0042e+00,\n",
       "         1.9548e-01,  7.1057e-01, -8.9447e-01, -1.0284e-01, -1.2298e+00,\n",
       "        -1.1382e-01,  1.2467e+00, -6.5633e-01,  2.1445e-01,  5.3322e-01,\n",
       "        -5.8614e-01,  1.0801e+00, -6.1095e-02, -5.6686e-01, -1.7162e+00,\n",
       "         1.6804e-01, -1.4027e-01, -4.0935e-02, -9.0276e-01,  1.1298e+00,\n",
       "         2.4249e-01, -4.4163e-03,  5.5411e-01,  4.3701e-01, -1.1128e+00,\n",
       "        -2.8587e-01,  2.6027e-01, -1.6711e+00,  3.0665e-01,  1.1804e+00,\n",
       "         3.6873e-01,  1.9183e+00,  1.3402e+00, -3.7538e-01,  1.3554e+00,\n",
       "        -1.1683e+00,  7.8752e-01,  1.3382e-01, -8.4096e-02, -1.5031e+00,\n",
       "         1.2738e-01,  1.5781e-01,  9.2643e-01,  2.8784e-01, -1.0348e+00,\n",
       "         4.0055e-01, -5.1450e-01,  1.2278e+00,  2.3003e-01, -5.0176e-01,\n",
       "        -7.2641e-01, -1.1508e+00,  2.8688e-01, -8.6050e-01, -1.0303e-01,\n",
       "         7.5071e-02, -4.6012e-01, -1.3635e-01, -8.2944e-01, -9.8331e-01,\n",
       "        -3.6355e+00], device='cuda:0')"
      ]
     },
     "execution_count": 7,
     "metadata": {},
     "output_type": "execute_result"
    }
   ],
   "source": [
    "q"
   ]
  },
  {
   "cell_type": "code",
   "execution_count": 8,
   "metadata": {},
   "outputs": [
    {
     "ename": "NameError",
     "evalue": "name 'nn' is not defined",
     "output_type": "error",
     "traceback": [
      "\u001b[0;31m---------------------------------------------------------------------------\u001b[0m",
      "\u001b[0;31mNameError\u001b[0m                                 Traceback (most recent call last)",
      "\u001b[1;32m/home/rana/claix_work/DynaMITe/visual_results.ipynb Cell 29\u001b[0m in \u001b[0;36m<cell line: 1>\u001b[0;34m()\u001b[0m\n\u001b[0;32m----> <a href='vscode-notebook-cell://ssh-remote%2Bvision-veltins/home/rana/claix_work/DynaMITe/visual_results.ipynb#X40sdnNjb2RlLXJlbW90ZQ%3D%3D?line=0'>1</a>\u001b[0m nn\u001b[39m.\u001b[39minit\u001b[39m.\u001b[39mnormal_(q)\n",
      "\u001b[0;31mNameError\u001b[0m: name 'nn' is not defined"
     ]
    }
   ],
   "source": [
    "nn.init.normal_(q)"
   ]
  },
  {
   "cell_type": "code",
   "execution_count": 32,
   "metadata": {},
   "outputs": [],
   "source": [
    "p = torch.where(features_dict['bush']['first_mask_before_resize']!=features_dict1['bush']['first_mask_before_resize'])"
   ]
  },
  {
   "cell_type": "code",
   "execution_count": 1,
   "metadata": {},
   "outputs": [
    {
     "name": "stderr",
     "output_type": "stream",
     "text": [
      "/home/rana/anaconda3/envs/m2f/lib/python3.8/site-packages/tqdm/auto.py:22: TqdmWarning: IProgress not found. Please update jupyter and ipywidgets. See https://ipywidgets.readthedocs.io/en/stable/user_install.html\n",
      "  from .autonotebook import tqdm as notebook_tqdm\n"
     ]
    }
   ],
   "source": [
    "import torch\n",
    "import torch.nn as nn\n",
    "\n",
    "class GaussianModel(nn.Module):\n",
    "\n",
    "    def __init__(self):\n",
    "        super(GaussianModel, self).__init__()\n",
    "\n",
    "        self.register_parameter('mean', nn.Parameter(torch.zeros(1),True))\n",
    "        \n",
    "        # self.pdf = torch.distributions.Normal(self.mean,\n",
    "                                            #   torch.tensor([1.0]))\n",
    "        self._reset_parameters()\n",
    "\n",
    "    def _reset_parameters(self):\n",
    "        nn.init.normal_(self.mean)\n",
    "\n",
    "    def forward(self, x):\n",
    "        pdf = torch.distributions.Normal(self.mean,\n",
    "                                              torch.tensor([1.0]))\n",
    "        return -pdf.log_prob(x)\n",
    "\n",
    "model = GaussianModel()"
   ]
  },
  {
   "cell_type": "code",
   "execution_count": 85,
   "metadata": {},
   "outputs": [
    {
     "name": "stdout",
     "output_type": "stream",
     "text": [
      "mean :  0.7252676486968994  - Negative Loglikelihood :  3.51652193069458\n",
      "mean :  0.7298170924186707  - Negative Loglikelihood :  3.5061421394348145\n",
      "mean :  0.734357476234436  - Negative Loglikelihood :  3.4958038330078125\n",
      "mean :  0.7388887405395508  - Negative Loglikelihood :  3.485507011413574\n",
      "mean :  0.7434109449386597  - Negative Loglikelihood :  3.475250720977783\n"
     ]
    }
   ],
   "source": [
    "optimizer = torch.optim.SGD(model.parameters(), lr=0.002)\n",
    "for _ in range(5):\n",
    "  optimizer.zero_grad()\n",
    "  nll = model(torch.tensor([3.0], requires_grad=True))\n",
    "  nll.backward()\n",
    "  optimizer.step()\n",
    "  print('mean : ', model.mean.item(),\n",
    "                 ' - Negative Loglikelihood : ', nll.item())"
   ]
  },
  {
   "cell_type": "code",
   "execution_count": 86,
   "metadata": {},
   "outputs": [],
   "source": [
    "# torch.save(model, 'gauss.pth')\n",
    "torch.save(model.state_dict(), 'gauss.pth')"
   ]
  },
  {
   "cell_type": "code",
   "execution_count": 91,
   "metadata": {},
   "outputs": [],
   "source": [
    "model = torch.load('gauss.pth')"
   ]
  },
  {
   "cell_type": "code",
   "execution_count": 94,
   "metadata": {},
   "outputs": [
    {
     "data": {
      "text/plain": [
       "odict_keys(['mean'])"
      ]
     },
     "execution_count": 94,
     "metadata": {},
     "output_type": "execute_result"
    }
   ],
   "source": [
    "model.keys()"
   ]
  },
  {
   "cell_type": "code",
   "execution_count": 87,
   "metadata": {},
   "outputs": [],
   "source": [
    "model = GaussianModel()"
   ]
  },
  {
   "cell_type": "code",
   "execution_count": 88,
   "metadata": {},
   "outputs": [
    {
     "data": {
      "text/plain": [
       "OrderedDict([('mean', tensor([-0.0619]))])"
      ]
     },
     "execution_count": 88,
     "metadata": {},
     "output_type": "execute_result"
    }
   ],
   "source": [
    "model.state_dict()"
   ]
  },
  {
   "cell_type": "code",
   "execution_count": 89,
   "metadata": {},
   "outputs": [
    {
     "data": {
      "text/plain": [
       "<All keys matched successfully>"
      ]
     },
     "execution_count": 89,
     "metadata": {},
     "output_type": "execute_result"
    }
   ],
   "source": [
    "model.load_state_dict(torch.load('gauss.pth'))"
   ]
  },
  {
   "cell_type": "code",
   "execution_count": 90,
   "metadata": {},
   "outputs": [
    {
     "data": {
      "text/plain": [
       "OrderedDict([('mean', tensor([0.7434]))])"
      ]
     },
     "execution_count": 90,
     "metadata": {},
     "output_type": "execute_result"
    }
   ],
   "source": [
    "model.state_dict()"
   ]
  },
  {
   "cell_type": "code",
   "execution_count": 15,
   "metadata": {},
   "outputs": [
    {
     "data": {
      "text/plain": [
       "<All keys matched successfully>"
      ]
     },
     "execution_count": 15,
     "metadata": {},
     "output_type": "execute_result"
    }
   ],
   "source": [
    "from iterative_train_net import Trainer\n",
    "from mask2former import COCOMultiInstStuffMultiQueriesClicksDatasetMapper, add_maskformer2_config, COCOLVISMultiInstMQClicksDatasetMapper\n",
    "from detectron2.config import get_cfg\n",
    "from detectron2.projects.deeplab import add_deeplab_config\n",
    "from mask2former.utils.equal_num_instances_batch import build_detection_train_loader_equal\n",
    "from detectron2.checkpoint import DetectionCheckpointer\n",
    "\n",
    "cfg = get_cfg()\n",
    "add_deeplab_config(cfg)\n",
    "add_maskformer2_config(cfg)\n",
    "# cfg.merge_from_file(\"mycfg.yaml\")\n",
    "# /home/rana/claix_work/DynaMITe/configs/coco_lvis/resnet/multi_queries_stufff_clicks_R50_bs32_ep50.yaml\n",
    "cfg.merge_from_file(\"output/mq_coco_swin_tiny_bs32_ep50/config.yaml\")\n",
    "\n",
    "model_path = \"output/single_inst_mq_per_obj_coco_swin_tiny_bs32_ep50/model_final.pth\"\n",
    "model = Trainer.build_model(cfg)\n",
    "\n",
    "# DetectionCheckpointer(model, save_dir=\"output/\").resume_or_load(\n",
    "#             model_path, resume=False\n",
    "#         )\n",
    "\n",
    "# model = model['model']\n",
    "# model.eval()\n",
    "model.load_state_dict(torch.load(cfg.MODEL.WEIGHTS)[\"model\"])\n",
    "# model = torch.load(cfg.MODEL.WEIGHTS)['model']"
   ]
  },
  {
   "cell_type": "code",
   "execution_count": null,
   "metadata": {},
   "outputs": [],
   "source": [
    "model.state_dict()"
   ]
  },
  {
   "cell_type": "code",
   "execution_count": 4,
   "metadata": {},
   "outputs": [
    {
     "data": {
      "text/plain": [
       "tensor([-0.0491,  0.1466, -0.5566, -0.8277,  0.0337, -0.4834,  0.6618, -0.2049,\n",
       "        -0.0588,  0.2471,  0.4428,  0.5744,  0.2546,  0.5237,  1.0650,  1.2559,\n",
       "        -0.5063, -0.7054, -0.5026,  0.3244,  0.3879,  0.5603, -0.3371, -0.9213,\n",
       "         1.0746,  0.7930, -0.1447, -0.2350, -0.5455, -0.3754, -0.5877,  0.8867,\n",
       "        -0.2563,  0.5760,  0.0996, -0.7674,  0.7588,  0.2343, -0.5574, -0.9866,\n",
       "        -0.7541,  0.3442,  0.3891, -0.1894,  0.2952,  0.0716, -0.2876, -0.3046,\n",
       "         0.4605, -0.6726,  0.1304, -0.2660,  0.0327,  0.4801,  0.3427,  1.3805,\n",
       "         0.5639, -0.4341,  0.7380,  0.4367, -0.4625, -0.5704, -0.1120, -0.1216,\n",
       "         0.0056, -0.2250, -0.6623, -0.0103, -0.4091,  0.3360, -0.1978,  0.8804,\n",
       "         0.1445, -0.0618,  0.5945,  0.0445, -0.9692, -0.4574, -1.4822, -0.0275,\n",
       "        -1.5009, -0.3918, -0.6106,  1.2462,  0.3436,  0.2367, -0.8787, -0.2510,\n",
       "         0.2018, -0.1357,  0.1206,  1.1781, -0.1904, -0.2060, -0.2927, -0.1783,\n",
       "        -0.8082,  0.3542, -0.7496, -0.5594, -0.5036,  0.2973,  0.9794, -0.7616,\n",
       "        -0.9670, -0.3619,  0.1316, -0.1408,  0.0124, -0.3508,  0.3076, -0.7279,\n",
       "        -0.5960, -0.0512, -0.2206,  0.0231,  0.5908,  0.0771,  0.5641,  0.0025,\n",
       "        -0.1892, -0.1062, -1.5548,  0.0180,  1.0107, -0.5504,  0.0212, -0.3012,\n",
       "        -0.2961, -0.6698,  0.1198, -0.3376,  0.0928, -0.1746, -0.3822,  0.4136,\n",
       "        -0.5350, -0.5528,  1.3145, -0.1414, -0.2508, -0.8146, -1.7619,  0.0855,\n",
       "        -1.7505, -0.5249,  0.0593,  0.2707,  0.7366, -0.3458,  0.4238, -1.0587,\n",
       "         0.8384,  0.1506,  0.1359, -0.2754, -0.3174,  0.1458,  0.9129, -0.0356,\n",
       "        -0.3392, -0.5592, -0.1120,  1.1771,  0.1355, -0.4128, -0.2637,  0.0935,\n",
       "        -0.2876, -0.1052, -0.9104, -0.0018,  0.2318, -0.2834,  0.7288,  0.1785,\n",
       "        -0.1834,  0.7977,  0.5601, -0.7843,  0.0619, -1.1479,  0.2386, -0.3135,\n",
       "        -0.2815, -0.4749,  0.4074, -0.0889, -0.5069, -0.3932, -0.3774,  0.9057,\n",
       "         0.3874, -1.1192,  0.2161, -0.1715, -1.2351,  0.3351,  0.3138,  0.6554,\n",
       "        -0.0724, -0.8190, -0.7770, -0.3699, -0.3917,  0.3799,  0.1707, -0.4845,\n",
       "         0.0495, -0.8615, -0.0571, -1.3715, -1.0206, -0.5041,  0.1699,  1.4668,\n",
       "        -0.9389, -0.1412, -0.3052,  0.5333, -0.4710, -0.6022,  0.3173,  1.1631,\n",
       "        -0.8497,  0.8452, -0.7277, -0.0048,  0.4470,  0.4975, -0.0906, -0.5240,\n",
       "         0.3093,  0.1874,  1.2814,  0.3164,  0.0683,  0.5711, -0.0165, -0.1119,\n",
       "         1.0660, -0.6707,  0.2927,  0.2574,  1.1957,  1.0638, -0.0379,  0.3329,\n",
       "        -0.0135, -0.3643, -0.7451, -0.1613,  1.0831, -0.3235,  0.1457, -0.2359],\n",
       "       device='cuda:0')"
      ]
     },
     "execution_count": 4,
     "metadata": {},
     "output_type": "execute_result"
    }
   ],
   "source": [
    "model['model'][\"sem_seg_head.predictor.query_embed\"]"
   ]
  },
  {
   "cell_type": "code",
   "execution_count": null,
   "metadata": {},
   "outputs": [
    {
     "data": {
      "text/plain": [
       "421"
      ]
     },
     "execution_count": 5,
     "metadata": {},
     "output_type": "execute_result"
    }
   ],
   "source": [
    "max_objs = 0\n",
    "num_objs = []\n",
    "for d in dataset_dicts:\n",
    "    max_objs = max(max_objs, len(d['annotations']))\n",
    "    num_objs.append(len(d['annotations']))\n",
    "# len(dataset_dicts[0]['annotations'])\n",
    "max_objs"
   ]
  },
  {
   "cell_type": "code",
   "execution_count": 7,
   "metadata": {},
   "outputs": [],
   "source": [
    "with open(\"datasets/lvis/coco_lvis_combined_panoptic.pickle\", 'wb') as handle:\n",
    "    pickle.dump(dataset_dicts, handle, protocol=pickle.HIGHEST_PROTOCOL)"
   ]
  },
  {
   "cell_type": "code",
   "execution_count": 5,
   "metadata": {},
   "outputs": [
    {
     "data": {
      "text/plain": [
       "99354"
      ]
     },
     "execution_count": 5,
     "metadata": {},
     "output_type": "execute_result"
    }
   ],
   "source": [
    "with open(\"datasets/lvis/coco_lvis_combined_panoptic.pickle\", 'rb') as f:\n",
    "    dataset_dicts = pickle.load(f)\n",
    "\n",
    "len(dataset_dicts)"
   ]
  },
  {
   "cell_type": "code",
   "execution_count": 6,
   "metadata": {},
   "outputs": [
    {
     "name": "stdout",
     "output_type": "stream",
     "text": [
      "Found pickle file:datasets/lvis/coco_lvis_combined_panoptic.pickle\n"
     ]
    }
   ],
   "source": [
    "from mask2former import COCOMultiInstStuffMultiQueriesClicksDatasetMapper, add_maskformer2_config, COCOLVISMultiInstMQClicksDatasetMapper\n",
    "from detectron2.config import get_cfg\n",
    "from detectron2.projects.deeplab import add_deeplab_config\n",
    "from mask2former.utils.equal_num_instances_batch import build_detection_train_loader_equal\n",
    "cfg = get_cfg()\n",
    "add_deeplab_config(cfg)\n",
    "add_maskformer2_config(cfg)\n",
    "# cfg.merge_from_file(\"mycfg.yaml\")\n",
    "# /home/rana/claix_work/DynaMITe/configs/coco_lvis/resnet/multi_queries_stufff_clicks_R50_bs32_ep50.yaml\n",
    "cfg.merge_from_file(\"configs/coco_lvis/resnet/multi_queries_stufff_clicks_R50_bs32_ep50.yaml\")\n",
    "\n",
    "mapper = COCOLVISMultiInstMQClicksDatasetMapper(cfg,True)\n",
    "data_loader =  build_detection_train_loader_equal(cfg, mapper=mapper)"
   ]
  },
  {
   "cell_type": "code",
   "execution_count": 9,
   "metadata": {},
   "outputs": [],
   "source": [
    "batch = next(iter(data_loader))"
   ]
  },
  {
   "cell_type": "code",
   "execution_count": 18,
   "metadata": {},
   "outputs": [],
   "source": [
    "from mask2former.utils.vis import get_visualization\n",
    "x = batch[14]\n",
    "get_visualization(x)"
   ]
  },
  {
   "cell_type": "code",
   "execution_count": 114,
   "metadata": {},
   "outputs": [
    {
     "name": "stdout",
     "output_type": "stream",
     "text": [
      "torch.Size([2, 3])\n"
     ]
    },
    {
     "data": {
      "text/plain": [
       "torch.Size([1, 3])"
      ]
     },
     "execution_count": 114,
     "metadata": {},
     "output_type": "execute_result"
    }
   ],
   "source": [
    "x = torch.tensor([True,True,False])\n",
    "x =torch.stack([x,x])\n",
    "print(x.shape)\n",
    "y = torch.tensor([0.4,-0.5,1])\n",
    "torch.stack([y],0).shape"
   ]
  },
  {
   "cell_type": "code",
   "execution_count": 47,
   "metadata": {},
   "outputs": [
    {
     "data": {
      "text/plain": [
       "Parameter containing:\n",
       "tensor([[0., 0., 0., 0., 0.],\n",
       "        [0., 0., 0., 0., 0.]], requires_grad=True)"
      ]
     },
     "execution_count": 47,
     "metadata": {},
     "output_type": "execute_result"
    }
   ],
   "source": [
    "from torch import nn\n",
    "x = nn.Parameter(torch.zeros(2,5), True)\n",
    "x"
   ]
  },
  {
   "cell_type": "code",
   "execution_count": 48,
   "metadata": {},
   "outputs": [
    {
     "data": {
      "text/plain": [
       "Parameter containing:\n",
       "tensor([[ 0.9249,  0.0939, -0.0056, -0.2211,  0.0067],\n",
       "        [-0.8090,  0.0233, -0.8762, -0.4058,  0.8678]], requires_grad=True)"
      ]
     },
     "execution_count": 48,
     "metadata": {},
     "output_type": "execute_result"
    }
   ],
   "source": [
    "nn.init.xavier_uniform_(x)"
   ]
  },
  {
   "cell_type": "code",
   "execution_count": 49,
   "metadata": {},
   "outputs": [
    {
     "data": {
      "text/plain": [
       "Parameter containing:\n",
       "tensor([[ 0.9249,  0.0939, -0.0056, -0.2211,  0.0067],\n",
       "        [-0.8090,  0.0233, -0.8762, -0.4058,  0.8678]], requires_grad=True)"
      ]
     },
     "execution_count": 49,
     "metadata": {},
     "output_type": "execute_result"
    }
   ],
   "source": [
    "x"
   ]
  },
  {
   "cell_type": "code",
   "execution_count": 86,
   "metadata": {},
   "outputs": [
    {
     "data": {
      "text/plain": [
       "array([[0., 1., 1., 1., 1.],\n",
       "       [0., 1., 1., 1., 1.],\n",
       "       [0., 1., 1., 1., 1.],\n",
       "       [0., 1., 1., 1., 1.],\n",
       "       [0., 0., 0., 0., 0.]])"
      ]
     },
     "execution_count": 86,
     "metadata": {},
     "output_type": "execute_result"
    }
   ],
   "source": [
    "mask = np.zeros((5,5))\n",
    "mask[0:4,1:5]=1\n",
    "mask"
   ]
  },
  {
   "cell_type": "code",
   "execution_count": 87,
   "metadata": {},
   "outputs": [
    {
     "name": "stdout",
     "output_type": "stream",
     "text": [
      "[[0. 1. 1. 1. 1.]\n",
      " [0. 1. 2. 2. 1.]\n",
      " [0. 1. 2. 2. 1.]\n",
      " [0. 1. 1. 1. 1.]\n",
      " [0. 0. 0. 0. 0.]]\n",
      "1 2\n"
     ]
    }
   ],
   "source": [
    "import cv2\n",
    "mask = np.pad(mask, ((1, 1), (1, 1)), 'constant')\n",
    "dt = cv2.distanceTransform(mask.astype(np.uint8), cv2.DIST_L2, 0)[1:-1, 1:-1]\n",
    "print(dt)\n",
    "max_dist = np.max(dt)\n",
    "coords_y, coords_x = np.where(dt == max_dist)\n",
    "print(coords_y[0], coords_x[0])"
   ]
  },
  {
   "cell_type": "code",
   "execution_count": 77,
   "metadata": {},
   "outputs": [
    {
     "data": {
      "text/plain": [
       "[3]"
      ]
     },
     "execution_count": 77,
     "metadata": {},
     "output_type": "execute_result"
    }
   ],
   "source": [
    "import random\n",
    "random.seed(1243456)\n",
    "indices = random.sample(range(candidates.shape[0]),1)\n",
    "indices"
   ]
  },
  {
   "cell_type": "code",
   "execution_count": null,
   "metadata": {},
   "outputs": [],
   "source": [
    "torch.where(x['padding_mask'])"
   ]
  },
  {
   "cell_type": "code",
   "execution_count": 15,
   "metadata": {},
   "outputs": [
    {
     "data": {
      "text/plain": [
       "torch.Size([2, 512, 512])"
      ]
     },
     "execution_count": 15,
     "metadata": {},
     "output_type": "execute_result"
    }
   ],
   "source": [
    "batch[0]['instances'].gt_masks.shape"
   ]
  },
  {
   "cell_type": "code",
   "execution_count": 16,
   "metadata": {},
   "outputs": [],
   "source": [
    "import cv2\n",
    "import numpy as np\n",
    "image = np.asarray(x[\"image\"].permute(1,2,0))\n",
    "cv2.imshow(\"img_window\",image)\n",
    "cv2.waitKey(0)\n",
    "cv2.destroyAllWindows()"
   ]
  },
  {
   "cell_type": "code",
   "execution_count": 17,
   "metadata": {},
   "outputs": [],
   "source": [
    "image = np.asarray(x[\"instances\"].gt_masks[0])\n",
    "cv2.imshow(\"img_window\",image)\n",
    "cv2.waitKey(0)\n",
    "cv2.destroyAllWindows()"
   ]
  },
  {
   "cell_type": "code",
   "execution_count": 13,
   "metadata": {},
   "outputs": [
    {
     "data": {
      "text/plain": [
       "tensor([[0, 0, 0,  ..., 0, 0, 0],\n",
       "        [0, 0, 0,  ..., 0, 0, 0],\n",
       "        [0, 0, 0,  ..., 0, 0, 0],\n",
       "        ...,\n",
       "        [0, 0, 0,  ..., 0, 0, 0],\n",
       "        [0, 0, 0,  ..., 0, 0, 0],\n",
       "        [0, 0, 0,  ..., 0, 0, 0]], dtype=torch.uint8)"
      ]
     },
     "execution_count": 13,
     "metadata": {},
     "output_type": "execute_result"
    }
   ],
   "source": [
    "x[\"instances\"].gt_masks[0]"
   ]
  },
  {
   "cell_type": "code",
   "execution_count": 16,
   "metadata": {},
   "outputs": [],
   "source": [
    "i=1\n",
    "x=1\n",
    "while(True):\n",
    "    if x==1:\n",
    "        break\n",
    "    i+=1\n",
    "    x+=1"
   ]
  },
  {
   "cell_type": "code",
   "execution_count": 2,
   "metadata": {},
   "outputs": [
    {
     "name": "stderr",
     "output_type": "stream",
     "text": [
      "/home/rana/anaconda3/envs/m2f/lib/python3.8/site-packages/tqdm/auto.py:22: TqdmWarning: IProgress not found. Please update jupyter and ipywidgets. See https://ipywidgets.readthedocs.io/en/stable/user_install.html\n",
      "  from .autonotebook import tqdm as notebook_tqdm\n"
     ]
    },
    {
     "data": {
      "text/plain": [
       "torch.Size([10, 20, 25])"
      ]
     },
     "execution_count": 2,
     "metadata": {},
     "output_type": "execute_result"
    }
   ],
   "source": [
    "import torch\n",
    "a = torch.zeros((10,20,20))\n",
    "b = torch.zeros((10,20,5))\n",
    "torch.cat((a,b),dim=2).shape                                                                    "
   ]
  },
  {
   "cell_type": "code",
   "execution_count": 15,
   "metadata": {},
   "outputs": [
    {
     "name": "stdout",
     "output_type": "stream",
     "text": [
      "[4, 5] [6, 6]\n"
     ]
    }
   ],
   "source": [
    "def fun(x,y):\n",
    "    x.append(5)\n",
    "    y.append(6)\n",
    "    return x,y\n",
    "a = [4]\n",
    "b = [6]\n",
    "(a,\n",
    "b) = fun(a,b)\n",
    "print(a,b)"
   ]
  },
  {
   "cell_type": "code",
   "execution_count": 9,
   "metadata": {},
   "outputs": [
    {
     "data": {
      "text/plain": [
       "2"
      ]
     },
     "execution_count": 9,
     "metadata": {},
     "output_type": "execute_result"
    }
   ],
   "source": [
    "a = np.array([1,1.0,0], dtype=np.bool_)\n",
    "a.sum()"
   ]
  },
  {
   "cell_type": "code",
   "execution_count": 7,
   "metadata": {},
   "outputs": [
    {
     "name": "stdout",
     "output_type": "stream",
     "text": [
      "tensor([0.5000, 1.0000])\n"
     ]
    },
    {
     "data": {
      "text/plain": [
       "tensor([1.0000, 1.5000])"
      ]
     },
     "execution_count": 7,
     "metadata": {},
     "output_type": "execute_result"
    }
   ],
   "source": [
    "a = torch.tensor([1.,2.], requires_grad=True)\n",
    "b = torch.tensor([2.,3.], requires_grad=True)  \n",
    "ab = torch.cat((a,b), dim=0) # ab  = tensor([1., 2., 2., 3.], grad_fn=<CatBackward>)\n",
    "z = ab**2 # z = tensor([1., 4., 4., 9.], grad_fn=<PowBackward0>)\n",
    "out = z.mean() # out = tensor(4.5000, grad_fn=<MeanBackward0>)\n",
    "out.backward()\n",
    "print(a.grad) # tensor([1.5000, 2.5000])\n",
    "b.grad # tensor([1.5000, 2.5000])"
   ]
  },
  {
   "cell_type": "code",
   "execution_count": 1,
   "metadata": {},
   "outputs": [],
   "source": [
    "from detectron2.evaluation import inference_on_dataset\n"
   ]
  },
  {
   "cell_type": "code",
   "execution_count": 42,
   "metadata": {},
   "outputs": [],
   "source": [
    "import pickle\n",
    "file_path = \"all_data/evaluations/sbd_multi_insts/dynamite_swin_tiny_1024_bs64_10_max_click_th_final_updated_time_summary.pickle\"\n",
    "\n",
    "with open(file_path, 'rb') as handle:\n",
    "    b = pickle.load(handle)\n",
    "b.keys()"
   ]
  },
  {
   "cell_type": "code",
   "execution_count": 198,
   "metadata": {},
   "outputs": [],
   "source": [
    "k = ['dataset', 'model', 'iou_threshold', 'failed_images_counts', 'avg_over_total_images', 'Avg_NOC', 'Avg_IOU', 'num_failed_objects']"
   ]
  },
  {
   "cell_type": "code",
   "execution_count": 58,
   "metadata": {},
   "outputs": [
    {
     "data": {
      "text/plain": [
       "4.48"
      ]
     },
     "execution_count": 58,
     "metadata": {},
     "output_type": "execute_result"
    }
   ],
   "source": [
    "b['Avg_NOC']"
   ]
  },
  {
   "cell_type": "code",
   "execution_count": 55,
   "metadata": {},
   "outputs": [
    {
     "data": {
      "text/plain": [
       "2.334966748337417"
      ]
     },
     "execution_count": 55,
     "metadata": {},
     "output_type": "execute_result"
    }
   ],
   "source": [
    "6671/2857"
   ]
  },
  {
   "cell_type": "code",
   "execution_count": 50,
   "metadata": {},
   "outputs": [],
   "source": [
    "times = b['time_per_image_features']"
   ]
  },
  {
   "cell_type": "code",
   "execution_count": 51,
   "metadata": {},
   "outputs": [
    {
     "data": {
      "text/plain": [
       "0.14331715965665856"
      ]
     },
     "execution_count": 51,
     "metadata": {},
     "output_type": "execute_result"
    }
   ],
   "source": [
    "sum(times)/len(times)"
   ]
  },
  {
   "cell_type": "code",
   "execution_count": 52,
   "metadata": {},
   "outputs": [
    {
     "data": {
      "text/plain": [
       "0.6641665849995062"
      ]
     },
     "execution_count": 52,
     "metadata": {},
     "output_type": "execute_result"
    }
   ],
   "source": [
    "times = b['time_per_image_annotation']\n",
    "sum(times)/len(times)"
   ]
  },
  {
   "cell_type": "code",
   "execution_count": 53,
   "metadata": {},
   "outputs": [
    {
     "data": {
      "text/plain": [
       "0.038640099109417216"
      ]
     },
     "execution_count": 53,
     "metadata": {},
     "output_type": "execute_result"
    }
   ],
   "source": [
    "times = b['time_per_intreaction_tranformer_decoder']\n",
    "sum(times)/len(times)"
   ]
  },
  {
   "cell_type": "code",
   "execution_count": 59,
   "metadata": {},
   "outputs": [
    {
     "data": {
      "text/plain": [
       "0.5366592"
      ]
     },
     "execution_count": 59,
     "metadata": {},
     "output_type": "execute_result"
    }
   ],
   "source": [
    "0.038*2.33*4.48 + 0.14\n"
   ]
  },
  {
   "cell_type": "code",
   "execution_count": 228,
   "metadata": {},
   "outputs": [],
   "source": [
    "from prettytable import PrettyTable\n",
    "x = PrettyTable()\n",
    "x.field_names = [\"num interactions\", \"NCI\", \"NOC\", \"NFO\", \"NFI\"]\n",
    "for i in range(6):\n",
    "    file_path = f\"all_data/evaluations/sbd_multi_insts/ablation_iter_{i}_10_max_click_th_final_updated_time_summary.pickle\"\n",
    "\n",
    "    with open(file_path, 'rb') as handle:\n",
    "        b = pickle.load(handle)\n",
    "    \n",
    "    x.add_row([i, np.round(b['avg_over_total_images'],2), b['Avg_NOC'], b['num_failed_objects'], b['failed_images_counts']])\n"
   ]
  },
  {
   "cell_type": "code",
   "execution_count": 229,
   "metadata": {},
   "outputs": [
    {
     "name": "stdout",
     "output_type": "stream",
     "text": [
      "+------------------+------+------+------+-----+\n",
      "| num interactions | NCI  | NOC  | NFO  | NFI |\n",
      "+------------------+------+------+------+-----+\n",
      "|        0         | 3.94 | 5.24 | 2024 | 928 |\n",
      "|        1         | 3.87 | 5.16 | 1854 | 884 |\n",
      "|        2         | 3.67 | 4.9  | 1682 | 825 |\n",
      "|        3         | 3.63 | 4.8  | 1566 | 778 |\n",
      "|        4         | 3.51 | 4.69 | 1566 | 776 |\n",
      "|        5         | 3.58 | 4.76 | 1576 | 784 |\n",
      "+------------------+------+------+------+-----+\n"
     ]
    }
   ],
   "source": [
    "print(x)"
   ]
  },
  {
   "cell_type": "code",
   "execution_count": 216,
   "metadata": {},
   "outputs": [],
   "source": [
    "def get_palette(num_cls):\n",
    "    palette = np.zeros(3 * num_cls, dtype=np.int32)\n",
    "\n",
    "    for j in range(0, num_cls):\n",
    "        lab = j\n",
    "        i = 0\n",
    "\n",
    "        while lab > 0:\n",
    "            palette[j*3 + 0] |= (((lab >> 0) & 1) << (7-i))\n",
    "            palette[j*3 + 1] |= (((lab >> 1) & 1) << (7-i))\n",
    "            palette[j*3 + 2] |= (((lab >> 2) & 1) << (7-i))\n",
    "            i = i + 1\n",
    "            lab >>= 3\n",
    "\n",
    "    return palette.reshape((-1, 3))\n",
    "c = get_palette(40)"
   ]
  },
  {
   "cell_type": "code",
   "execution_count": 7,
   "metadata": {},
   "outputs": [],
   "source": [
    "from mask2former.data.scribble.tamed_robot import TamedRobot\n",
    "t=TamedRobot()"
   ]
  },
  {
   "cell_type": "code",
   "execution_count": 210,
   "metadata": {},
   "outputs": [
    {
     "data": {
      "text/plain": [
       "[5, 10]"
      ]
     },
     "execution_count": 210,
     "metadata": {},
     "output_type": "execute_result"
    }
   ],
   "source": [
    "a= []\n",
    "a.insert(0,5)\n",
    "a.append(None)\n",
    "a[-1] = 10\n",
    "a"
   ]
  },
  {
   "cell_type": "code",
   "execution_count": null,
   "metadata": {},
   "outputs": [],
   "source": [
    "import matplotlib.pyplot as plt\n",
    "areas = b['failed_objects_areas']\n",
    "bin_size=2\n",
    "bins  = [sum(areas[i:i+bin_size]) for i in range(0,len(areas)-bin_size, bin_size)] \n",
    "print(len(areas))\n",
    "while(bins[-1] ==0):\n",
    "    bins.pop()\n",
    "# print(bins)\n",
    "# sns.distplot(np.arange(len(bins)), \n",
    "#     hist_kws={\n",
    "#         \"weights\": bins\n",
    "#     },\n",
    "# )\n",
    "\n",
    "import copy\n",
    "t = sum(bins[25:])\n",
    "bins1 = copy.deepcopy(bins[:25])\n",
    "bins1 = bins1.append(t)\n",
    "x = bins[:25]\n",
    "x.append(sum(bins[25:]))\n",
    "x"
   ]
  },
  {
   "cell_type": "code",
   "execution_count": 187,
   "metadata": {},
   "outputs": [
    {
     "data": {
      "image/png": "[encoded data removed]",
      "text/plain": [
       "<Figure size 720x360 with 1 Axes>"
      ]
     },
     "metadata": {
      "needs_background": "light"
     },
     "output_type": "display_data"
    }
   ],
   "source": [
    "import pandas as pd\n",
    "import matplotlib.pyplot as plt\n",
    "import matplotlib.pyplot as plt\n",
    "plt.rcParams.update({'font.size': 16})\n",
    "# Bring some raw data.\n",
    "frequencies = x\n",
    "# In my original code I create a series and run on that,\n",
    "# so for consistency I create a series from the list.\n",
    "freq_series = pd.Series(frequencies)\n",
    "\n",
    "x_labels = [f\"{i+1}\" for i in range(len(x)-1)]\n",
    "x_labels.append(\">25\")\n",
    "\n",
    "# Plot the figure.\n",
    "plt.figure(figsize=(10, 5))\n",
    "ax = freq_series.plot(kind=\"bar\")\n",
    "# ax.set_title(\"Failed Object Areas Distribution\")\n",
    "\n",
    "ax.set_xlabel(\"% of Image Covered by Object\")\n",
    "ax.set_ylabel(\"#Failed Objects\")\n",
    "ax.set_xticklabels(x_labels)\n",
    "ax.set_ylim(0,825)\n",
    "ax.set_xlim(-1,26)\n",
    "rects = ax.patches\n",
    "\n",
    "# Make some labels.\n",
    "labels = [f\"{x[i]}\" for i in range(len(rects))]\n",
    "\n",
    "for rect, label in zip(rects, labels):\n",
    "    height = rect.get_height()\n",
    "    ax.text(\n",
    "        rect.get_x() + rect.get_width() / 2, height + 5, label, ha=\"center\", va=\"bottom\"\n",
    "    )\n",
    "plt.savefig(\"a.jpg\")\n",
    "plt.tight_layout()\n",
    "plt.show()"
   ]
  },
  {
   "cell_type": "code",
   "execution_count": 186,
   "metadata": {},
   "outputs": [
    {
     "data": {
      "text/plain": [
       "<Figure size 432x288 with 0 Axes>"
      ]
     },
     "metadata": {},
     "output_type": "display_data"
    }
   ],
   "source": []
  },
  {
   "cell_type": "code",
   "execution_count": 3,
   "metadata": {},
   "outputs": [],
   "source": [
    "def get_labels_with_sizes(x):\n",
    "    obj_sizes = np.bincount(x.flatten())\n",
    "    labels = np.nonzero(obj_sizes)[0].tolist()\n",
    "    labels = [x for x in labels if x != 0]\n",
    "    return labels, obj_sizes[labels].tolist()\n",
    "def get_palette(num_cls):\n",
    "    palette = np.zeros(3 * num_cls, dtype=np.int32)\n",
    "\n",
    "    for j in range(0, num_cls):\n",
    "        lab = j\n",
    "        i = 0\n",
    "\n",
    "        while lab > 0:\n",
    "            palette[j*3 + 0] |= (((lab >> 0) & 1) << (7-i))\n",
    "            palette[j*3 + 1] |= (((lab >> 1) & 1) << (7-i))\n",
    "            palette[j*3 + 2] |= (((lab >> 2) & 1) << (7-i))\n",
    "            i = i + 1\n",
    "            lab >>= 3\n",
    "\n",
    "    return palette.reshape((-1, 3))\n",
    "color_map = get_palette(80)[1:]"
   ]
  },
  {
   "cell_type": "code",
   "execution_count": 8,
   "metadata": {},
   "outputs": [
    {
     "name": "stdout",
     "output_type": "stream",
     "text": [
      "(375, 500, 3)\n",
      "[0 1 2 3 4 5 6 7]\n",
      "[1, 2, 3, 4, 5, 6, 7]\n"
     ]
    },
    {
     "data": {
      "text/plain": [
       "torch.Size([7, 375, 500])"
      ]
     },
     "execution_count": 8,
     "metadata": {},
     "output_type": "execute_result"
    }
   ],
   "source": [
    "import cv2\n",
    "import os\n",
    "import torch\n",
    "import numpy as np\n",
    "from detectron2.utils.colormap import colormap\n",
    "# color_map = colormap(rgb=True, maximum=1)\n",
    "\n",
    "sbd_path = \"datasets/sbd/dataset/\"\n",
    "# print(os.path.exists(sbd_path + \"img/2008_000051.jpg\"))\n",
    "image_id = \"2008_000383\"\n",
    "image = cv2.imread(sbd_path + f\"img/{image_id}.jpg\")\n",
    "print(image.shape)\n",
    "# cv2.imshow(\"image\", image)\n",
    "# cv2.waitKey(0)\n",
    "# cv2.destroyAllWindows()\n",
    "image = cv2.cvtColor(image, cv2.COLOR_BGR2RGB)\n",
    "from scipy.io import loadmat\n",
    "instances_mask = loadmat(str(sbd_path + f\"inst/{image_id}.mat\"))['GTinst'][0][0][0].astype(np.int32)\n",
    "labels, _ = get_labels_with_sizes(instances_mask)\n",
    "print(np.unique(instances_mask))\n",
    "masks = []\n",
    "import copy\n",
    "print(labels)\n",
    "for label in labels:\n",
    "    \n",
    "    temp_masks = copy.deepcopy(instances_mask)\n",
    "    temp_masks[temp_masks != label] = 0\n",
    "    temp_masks[temp_masks > 0] = 1\n",
    "    # m = instances_mask == label\n",
    "    masks.append(np.asarray(temp_masks, dtype =np.uint8))\n",
    "masks = torch.from_numpy(np.stack(masks)).to(dtype = torch.uint8)\n",
    "masks.shape\n"
   ]
  },
  {
   "cell_type": "code",
   "execution_count": 9,
   "metadata": {},
   "outputs": [],
   "source": [
    "from detectron2.utils.visualizer import Visualizer\n",
    "image = cv2.imread(sbd_path + f\"img/{image_id}.jpg\")\n",
    "image = cv2.cvtColor(image, cv2.COLOR_BGR2RGB)\n",
    "visualizer = Visualizer(image, metadata=None)\n",
    "# pred_masks = F.resize(result_masks_for_vis.to(dtype=torch.uint8), image.shape[:2])\n",
    "c = []\n",
    "for i in range(masks.shape[0]):\n",
    "    c.append(color_map[i]/255.0)\n",
    "# pred_masks = np.asarray(pred_masks).astype(np.bool_)\n",
    "vis = visualizer.overlay_instances(masks = masks, assigned_colors=c, alpha=0.70)\n",
    "# [Optional] prepare labels\n",
    "\n",
    "image = vis.get_image()\n",
    "image = cv2.cvtColor(image, cv2.COLOR_RGB2BGR)\n",
    "cv2.imshow(\"image\", image)\n",
    "cv2.waitKey(0)\n",
    "cv2.destroyAllWindows()"
   ]
  },
  {
   "cell_type": "code",
   "execution_count": 66,
   "metadata": {},
   "outputs": [
    {
     "data": {
      "text/plain": [
       "True"
      ]
     },
     "execution_count": 66,
     "metadata": {},
     "output_type": "execute_result"
    }
   ],
   "source": [
    "filename = f\"output/visual_results/{image_id}.png\"\n",
    "# im = cv2.cvtColor(image,  cv2.COLOR_RGB2BGR)\n",
    "cv2.imwrite(filename, image)"
   ]
  },
  {
   "cell_type": "code",
   "execution_count": 3,
   "metadata": {},
   "outputs": [
    {
     "name": "stdout",
     "output_type": "stream",
     "text": [
      "(480, 854, 3)\n",
      "[0 1]\n",
      "[1]\n"
     ]
    },
    {
     "data": {
      "text/plain": [
       "torch.Size([1, 480, 854])"
      ]
     },
     "execution_count": 3,
     "metadata": {},
     "output_type": "execute_result"
    }
   ],
   "source": [
    "from PIL import Image\n",
    "davis_path = \"datasets/DAVIS/DAVIS-2017-trainval/JPEGImages/480p/\"\n",
    "ann_path = \"datasets/DAVIS/DAVIS-2017-trainval/Annotations/480p/\"\n",
    "image_id = \"flamingo/00012\"\n",
    "image = cv2.imread(davis_path + f\"{image_id}.jpg\")\n",
    "print(image.shape)\n",
    "cv2.imshow(\"image\", image)\n",
    "cv2.waitKey(0)\n",
    "cv2.destroyAllWindows()\n",
    "image = cv2.cvtColor(image, cv2.COLOR_BGR2RGB)\n",
    "# from scipy.io import loadmat\n",
    "# instances_mask = loadmat(str(sbd_path + f\"inst/{image_id}.mat\"))['GTinst'][0][0][0].astype(np.int32)\n",
    "instances_mask = np.array(Image.open(ann_path+f\"{image_id}.png\").convert(\"P\")).astype(np.uint8)\n",
    "labels, _ = get_labels_with_sizes(instances_mask)\n",
    "print(np.unique(instances_mask))\n",
    "masks = []\n",
    "import copy\n",
    "print(labels)\n",
    "for label in labels:\n",
    "    \n",
    "    temp_masks = copy.deepcopy(instances_mask)\n",
    "    temp_masks[temp_masks != label] = 0\n",
    "    temp_masks[temp_masks > 0] = 1\n",
    "    # m = instances_mask == label\n",
    "    masks.append(np.asarray(temp_masks, dtype =np.uint8))\n",
    "masks = torch.from_numpy(np.stack(masks)).to(dtype = torch.uint8)\n",
    "masks.shape"
   ]
  },
  {
   "cell_type": "code",
   "execution_count": 4,
   "metadata": {},
   "outputs": [],
   "source": [
    "from detectron2.utils.visualizer import Visualizer\n",
    "image = cv2.imread(davis_path + f\"{image_id}.jpg\")\n",
    "image = cv2.cvtColor(image, cv2.COLOR_BGR2RGB)\n",
    "visualizer = Visualizer(image, metadata=None)\n",
    "# pred_masks = F.resize(result_masks_for_vis.to(dtype=torch.uint8), image.shape[:2])\n",
    "c = []\n",
    "for i in range(masks.shape[0]):\n",
    "    c.append(color_map[2*(i)+2])\n",
    "# pred_masks = np.asarray(pred_masks).astype(np.bool_)\n",
    "vis = visualizer.overlay_instances(masks = masks, assigned_colors=c, alpha=0.65)\n",
    "# [Optional] prepare labels\n",
    "\n",
    "image = vis.get_image()\n",
    "image = cv2.cvtColor(image, cv2.COLOR_RGB2BGR)\n",
    "cv2.imshow(\"image\", image)\n",
    "cv2.waitKey(0)\n",
    "cv2.destroyAllWindows()"
   ]
  },
  {
   "cell_type": "code",
   "execution_count": 80,
   "metadata": {},
   "outputs": [
    {
     "data": {
      "text/plain": [
       "True"
      ]
     },
     "execution_count": 80,
     "metadata": {},
     "output_type": "execute_result"
    }
   ],
   "source": [
    "filename = f\"output/visual_results/lindy-hop.png\"\n",
    "# im = cv2.cvtColor(image,  cv2.COLOR_RGB2BGR)\n",
    "cv2.imwrite(filename, image)"
   ]
  },
  {
   "cell_type": "code",
   "execution_count": 138,
   "metadata": {},
   "outputs": [],
   "source": [
    "image =  cv2.imread(\"failed_v0.png\", cv2.COLOR_BGR2RGB)\n",
    "cv2.imshow(\"image\", image)\n",
    "cv2.waitKey(0)\n",
    "cv2.destroyAllWindows()"
   ]
  },
  {
   "cell_type": "code",
   "execution_count": 139,
   "metadata": {},
   "outputs": [
    {
     "name": "stdout",
     "output_type": "stream",
     "text": [
      "(501, 737, 3)\n",
      "(334, 491, 3)\n"
     ]
    }
   ],
   "source": [
    "h, w, _ = image.shape\n",
    "print(image.shape)\n",
    "h_new = int((2*h)/3)\n",
    "w_new = int((2*w)/3)\n",
    "im = cv2.resize(image,(w_new,h_new))\n",
    "print(im.shape)"
   ]
  },
  {
   "cell_type": "code",
   "execution_count": 140,
   "metadata": {},
   "outputs": [],
   "source": [
    "cv2.imshow(\"image\", im)\n",
    "cv2.waitKey(0)\n",
    "cv2.destroyAllWindows()"
   ]
  },
  {
   "cell_type": "code",
   "execution_count": 141,
   "metadata": {},
   "outputs": [
    {
     "data": {
      "text/plain": [
       "True"
      ]
     },
     "execution_count": 141,
     "metadata": {},
     "output_type": "execute_result"
    }
   ],
   "source": [
    "# im = cv2.cvtColor(im,  cv2.COLOR_RGB2BGR)\n",
    "cv2.imwrite(\"new_failed_v0.png\", im)"
   ]
  },
  {
   "cell_type": "code",
   "execution_count": null,
   "metadata": {},
   "outputs": [],
   "source": []
  }
 ],
 "metadata": {
  "interpreter": {
   "hash": "eec4856e9527ee4049f7304c395b2145937ffdaa8a3f2aebdeedd97affd38c5c"
  },
  "kernelspec": {
   "display_name": "Python 3.8.13 ('m2f')",
   "language": "python",
   "name": "python3"
  },
  "language_info": {
   "codemirror_mode": {
    "name": "ipython",
    "version": 3
   },
   "file_extension": ".py",
   "mimetype": "text/x-python",
   "name": "python",
   "nbconvert_exporter": "python",
   "pygments_lexer": "ipython3",
   "version": "3.8.13"
  },
  "orig_nbformat": 4
 },
 "nbformat": 4,
 "nbformat_minor": 2
}
