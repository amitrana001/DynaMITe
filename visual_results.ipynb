{
 "cells": [
  {
   "cell_type": "code",
   "execution_count": 18,
   "metadata": {},
   "outputs": [],
   "source": [
    "import numpy as np\n",
    "import torch,torchvision\n",
    "import copy\n",
    "from mask2former.utils.misc import is_dist_avail_and_initialized, nested_tensor_from_tensor_list\n",
    "\n",
    "c = torch.zeros((1,10,20,20), dtype=torch.uint8)\n",
    "a = torch.zeros((10,20,20))\n",
    "b = torch.ones((5,20,20))\n",
    "x = [a,b,c]\n",
    "# y, _= nested_tensor_from_tensor_list(x).decompose()"
   ]
  },
  {
   "cell_type": "code",
   "execution_count": 65,
   "metadata": {},
   "outputs": [
    {
     "name": "stdout",
     "output_type": "stream",
     "text": [
      "tensor([-0.2960,  0.8196, -1.1057, -0.7486,  0.0711, -1.1511, -0.5144, -0.5536,\n",
      "         1.3287, -0.3221], requires_grad=True)\n"
     ]
    }
   ],
   "source": [
    "x = torch.randn(10, dtype=torch.float32, requires_grad=True)\n",
    "print(x)\n",
    "y = x.repeat(5, 1)\n",
    "z = (y**2).sum()\n",
    "# z.backward()\n",
    "torch.autograd.backward([z], inputs=[x])"
   ]
  },
  {
   "cell_type": "code",
   "execution_count": 72,
   "metadata": {},
   "outputs": [
    {
     "name": "stdout",
     "output_type": "stream",
     "text": [
      "tensor([-0.1776,  0.4917, -0.6634, -0.4491,  0.0426, -0.6906, -0.3087, -0.3322,\n",
      "         0.7972, -0.1933], requires_grad=True)\n",
      "tensor([-0.1480,  0.4098, -0.5529, -0.3743,  0.0355, -0.5755, -0.2572, -0.2768,\n",
      "         0.6644, -0.1611], requires_grad=True)\n"
     ]
    }
   ],
   "source": [
    "optim = torch.optim.SGD([x], lr=0.01)\n",
    "print(x)        # tensor([1., 2.], requires_grad=True)\n",
    "optim.step()\n",
    "print(x)  "
   ]
  },
  {
   "cell_type": "code",
   "execution_count": 73,
   "metadata": {},
   "outputs": [
    {
     "data": {
      "text/plain": [
       "tensor([[-0.2960,  0.8196, -1.1057, -0.7486,  0.0711, -1.1511, -0.5144, -0.5536,\n",
       "          1.3287, -0.3221],\n",
       "        [-0.2960,  0.8196, -1.1057, -0.7486,  0.0711, -1.1511, -0.5144, -0.5536,\n",
       "          1.3287, -0.3221],\n",
       "        [-0.2960,  0.8196, -1.1057, -0.7486,  0.0711, -1.1511, -0.5144, -0.5536,\n",
       "          1.3287, -0.3221],\n",
       "        [-0.2960,  0.8196, -1.1057, -0.7486,  0.0711, -1.1511, -0.5144, -0.5536,\n",
       "          1.3287, -0.3221],\n",
       "        [-0.2960,  0.8196, -1.1057, -0.7486,  0.0711, -1.1511, -0.5144, -0.5536,\n",
       "          1.3287, -0.3221]], grad_fn=<RepeatBackward>)"
      ]
     },
     "execution_count": 73,
     "metadata": {},
     "output_type": "execute_result"
    }
   ],
   "source": [
    "y"
   ]
  },
  {
   "cell_type": "code",
   "execution_count": 49,
   "metadata": {},
   "outputs": [
    {
     "name": "stdout",
     "output_type": "stream",
     "text": [
      "tensor([[-0.0929,  1.6599,  0.0832,  0.5620],\n",
      "        [-0.3079,  2.0893, -1.9158,  1.1371],\n",
      "        [-0.5511, -0.2064,  0.6665,  0.4380]], requires_grad=True)\n"
     ]
    }
   ],
   "source": [
    "x = torch.randn(3, 4, requires_grad=True)\n",
    "print(x)\n",
    "# def test_repeat(x):\n",
    "y = x.repeat(2, 2, 2, 2)\n",
    "out = y.sum()\n",
    "out.backward()\n",
    "\n",
    "# test_repeat(x)"
   ]
  },
  {
   "cell_type": "code",
   "execution_count": 50,
   "metadata": {},
   "outputs": [
    {
     "name": "stdout",
     "output_type": "stream",
     "text": [
      "tensor([[-0.0929,  1.6599,  0.0832,  0.5620],\n",
      "        [-0.3079,  2.0893, -1.9158,  1.1371],\n",
      "        [-0.5511, -0.2064,  0.6665,  0.4380]], requires_grad=True)\n",
      "tensor([[-0.1089,  1.6439,  0.0672,  0.5460],\n",
      "        [-0.3239,  2.0733, -1.9318,  1.1211],\n",
      "        [-0.5671, -0.2224,  0.6505,  0.4220]], requires_grad=True)\n"
     ]
    }
   ],
   "source": [
    "optim = torch.optim.SGD([x], lr=0.001)\n",
    "print(x)        # tensor([1., 2.], requires_grad=True)\n",
    "optim.step()\n",
    "print(x)  "
   ]
  },
  {
   "cell_type": "code",
   "execution_count": 48,
   "metadata": {},
   "outputs": [
    {
     "name": "stdout",
     "output_type": "stream",
     "text": [
      "tensor([[[[ 0.5090,  0.8449,  0.9408,  ...,  0.8449,  0.9408, -1.8064],\n",
      "          [ 0.7442,  1.6614, -0.2069,  ...,  1.6614, -0.2069,  2.8816],\n",
      "          [-2.0300,  1.2903, -1.7441,  ...,  1.2903, -1.7441,  0.3576],\n",
      "          ...,\n",
      "          [ 0.5090,  0.8449,  0.9408,  ...,  0.8449,  0.9408, -1.8064],\n",
      "          [ 0.7442,  1.6614, -0.2069,  ...,  1.6614, -0.2069,  2.8816],\n",
      "          [-2.0300,  1.2903, -1.7441,  ...,  1.2903, -1.7441,  0.3576]],\n",
      "\n",
      "         [[ 0.5090,  0.8449,  0.9408,  ...,  0.8449,  0.9408, -1.8064],\n",
      "          [ 0.7442,  1.6614, -0.2069,  ...,  1.6614, -0.2069,  2.8816],\n",
      "          [-2.0300,  1.2903, -1.7441,  ...,  1.2903, -1.7441,  0.3576],\n",
      "          ...,\n",
      "          [ 0.5090,  0.8449,  0.9408,  ...,  0.8449,  0.9408, -1.8064],\n",
      "          [ 0.7442,  1.6614, -0.2069,  ...,  1.6614, -0.2069,  2.8816],\n",
      "          [-2.0300,  1.2903, -1.7441,  ...,  1.2903, -1.7441,  0.3576]],\n",
      "\n",
      "         [[ 0.5090,  0.8449,  0.9408,  ...,  0.8449,  0.9408, -1.8064],\n",
      "          [ 0.7442,  1.6614, -0.2069,  ...,  1.6614, -0.2069,  2.8816],\n",
      "          [-2.0300,  1.2903, -1.7441,  ...,  1.2903, -1.7441,  0.3576],\n",
      "          ...,\n",
      "          [ 0.5090,  0.8449,  0.9408,  ...,  0.8449,  0.9408, -1.8064],\n",
      "          [ 0.7442,  1.6614, -0.2069,  ...,  1.6614, -0.2069,  2.8816],\n",
      "          [-2.0300,  1.2903, -1.7441,  ...,  1.2903, -1.7441,  0.3576]],\n",
      "\n",
      "         ...,\n",
      "\n",
      "         [[ 0.5090,  0.8449,  0.9408,  ...,  0.8449,  0.9408, -1.8064],\n",
      "          [ 0.7442,  1.6614, -0.2069,  ...,  1.6614, -0.2069,  2.8816],\n",
      "          [-2.0300,  1.2903, -1.7441,  ...,  1.2903, -1.7441,  0.3576],\n",
      "          ...,\n",
      "          [ 0.5090,  0.8449,  0.9408,  ...,  0.8449,  0.9408, -1.8064],\n",
      "          [ 0.7442,  1.6614, -0.2069,  ...,  1.6614, -0.2069,  2.8816],\n",
      "          [-2.0300,  1.2903, -1.7441,  ...,  1.2903, -1.7441,  0.3576]],\n",
      "\n",
      "         [[ 0.5090,  0.8449,  0.9408,  ...,  0.8449,  0.9408, -1.8064],\n",
      "          [ 0.7442,  1.6614, -0.2069,  ...,  1.6614, -0.2069,  2.8816],\n",
      "          [-2.0300,  1.2903, -1.7441,  ...,  1.2903, -1.7441,  0.3576],\n",
      "          ...,\n",
      "          [ 0.5090,  0.8449,  0.9408,  ...,  0.8449,  0.9408, -1.8064],\n",
      "          [ 0.7442,  1.6614, -0.2069,  ...,  1.6614, -0.2069,  2.8816],\n",
      "          [-2.0300,  1.2903, -1.7441,  ...,  1.2903, -1.7441,  0.3576]],\n",
      "\n",
      "         [[ 0.5090,  0.8449,  0.9408,  ...,  0.8449,  0.9408, -1.8064],\n",
      "          [ 0.7442,  1.6614, -0.2069,  ...,  1.6614, -0.2069,  2.8816],\n",
      "          [-2.0300,  1.2903, -1.7441,  ...,  1.2903, -1.7441,  0.3576],\n",
      "          ...,\n",
      "          [ 0.5090,  0.8449,  0.9408,  ...,  0.8449,  0.9408, -1.8064],\n",
      "          [ 0.7442,  1.6614, -0.2069,  ...,  1.6614, -0.2069,  2.8816],\n",
      "          [-2.0300,  1.2903, -1.7441,  ...,  1.2903, -1.7441,  0.3576]]],\n",
      "\n",
      "\n",
      "        [[[ 0.5090,  0.8449,  0.9408,  ...,  0.8449,  0.9408, -1.8064],\n",
      "          [ 0.7442,  1.6614, -0.2069,  ...,  1.6614, -0.2069,  2.8816],\n",
      "          [-2.0300,  1.2903, -1.7441,  ...,  1.2903, -1.7441,  0.3576],\n",
      "          ...,\n",
      "          [ 0.5090,  0.8449,  0.9408,  ...,  0.8449,  0.9408, -1.8064],\n",
      "          [ 0.7442,  1.6614, -0.2069,  ...,  1.6614, -0.2069,  2.8816],\n",
      "          [-2.0300,  1.2903, -1.7441,  ...,  1.2903, -1.7441,  0.3576]],\n",
      "\n",
      "         [[ 0.5090,  0.8449,  0.9408,  ...,  0.8449,  0.9408, -1.8064],\n",
      "          [ 0.7442,  1.6614, -0.2069,  ...,  1.6614, -0.2069,  2.8816],\n",
      "          [-2.0300,  1.2903, -1.7441,  ...,  1.2903, -1.7441,  0.3576],\n",
      "          ...,\n",
      "          [ 0.5090,  0.8449,  0.9408,  ...,  0.8449,  0.9408, -1.8064],\n",
      "          [ 0.7442,  1.6614, -0.2069,  ...,  1.6614, -0.2069,  2.8816],\n",
      "          [-2.0300,  1.2903, -1.7441,  ...,  1.2903, -1.7441,  0.3576]],\n",
      "\n",
      "         [[ 0.5090,  0.8449,  0.9408,  ...,  0.8449,  0.9408, -1.8064],\n",
      "          [ 0.7442,  1.6614, -0.2069,  ...,  1.6614, -0.2069,  2.8816],\n",
      "          [-2.0300,  1.2903, -1.7441,  ...,  1.2903, -1.7441,  0.3576],\n",
      "          ...,\n",
      "          [ 0.5090,  0.8449,  0.9408,  ...,  0.8449,  0.9408, -1.8064],\n",
      "          [ 0.7442,  1.6614, -0.2069,  ...,  1.6614, -0.2069,  2.8816],\n",
      "          [-2.0300,  1.2903, -1.7441,  ...,  1.2903, -1.7441,  0.3576]],\n",
      "\n",
      "         ...,\n",
      "\n",
      "         [[ 0.5090,  0.8449,  0.9408,  ...,  0.8449,  0.9408, -1.8064],\n",
      "          [ 0.7442,  1.6614, -0.2069,  ...,  1.6614, -0.2069,  2.8816],\n",
      "          [-2.0300,  1.2903, -1.7441,  ...,  1.2903, -1.7441,  0.3576],\n",
      "          ...,\n",
      "          [ 0.5090,  0.8449,  0.9408,  ...,  0.8449,  0.9408, -1.8064],\n",
      "          [ 0.7442,  1.6614, -0.2069,  ...,  1.6614, -0.2069,  2.8816],\n",
      "          [-2.0300,  1.2903, -1.7441,  ...,  1.2903, -1.7441,  0.3576]],\n",
      "\n",
      "         [[ 0.5090,  0.8449,  0.9408,  ...,  0.8449,  0.9408, -1.8064],\n",
      "          [ 0.7442,  1.6614, -0.2069,  ...,  1.6614, -0.2069,  2.8816],\n",
      "          [-2.0300,  1.2903, -1.7441,  ...,  1.2903, -1.7441,  0.3576],\n",
      "          ...,\n",
      "          [ 0.5090,  0.8449,  0.9408,  ...,  0.8449,  0.9408, -1.8064],\n",
      "          [ 0.7442,  1.6614, -0.2069,  ...,  1.6614, -0.2069,  2.8816],\n",
      "          [-2.0300,  1.2903, -1.7441,  ...,  1.2903, -1.7441,  0.3576]],\n",
      "\n",
      "         [[ 0.5090,  0.8449,  0.9408,  ...,  0.8449,  0.9408, -1.8064],\n",
      "          [ 0.7442,  1.6614, -0.2069,  ...,  1.6614, -0.2069,  2.8816],\n",
      "          [-2.0300,  1.2903, -1.7441,  ...,  1.2903, -1.7441,  0.3576],\n",
      "          ...,\n",
      "          [ 0.5090,  0.8449,  0.9408,  ...,  0.8449,  0.9408, -1.8064],\n",
      "          [ 0.7442,  1.6614, -0.2069,  ...,  1.6614, -0.2069,  2.8816],\n",
      "          [-2.0300,  1.2903, -1.7441,  ...,  1.2903, -1.7441,  0.3576]]],\n",
      "\n",
      "\n",
      "        [[[ 0.5090,  0.8449,  0.9408,  ...,  0.8449,  0.9408, -1.8064],\n",
      "          [ 0.7442,  1.6614, -0.2069,  ...,  1.6614, -0.2069,  2.8816],\n",
      "          [-2.0300,  1.2903, -1.7441,  ...,  1.2903, -1.7441,  0.3576],\n",
      "          ...,\n",
      "          [ 0.5090,  0.8449,  0.9408,  ...,  0.8449,  0.9408, -1.8064],\n",
      "          [ 0.7442,  1.6614, -0.2069,  ...,  1.6614, -0.2069,  2.8816],\n",
      "          [-2.0300,  1.2903, -1.7441,  ...,  1.2903, -1.7441,  0.3576]],\n",
      "\n",
      "         [[ 0.5090,  0.8449,  0.9408,  ...,  0.8449,  0.9408, -1.8064],\n",
      "          [ 0.7442,  1.6614, -0.2069,  ...,  1.6614, -0.2069,  2.8816],\n",
      "          [-2.0300,  1.2903, -1.7441,  ...,  1.2903, -1.7441,  0.3576],\n",
      "          ...,\n",
      "          [ 0.5090,  0.8449,  0.9408,  ...,  0.8449,  0.9408, -1.8064],\n",
      "          [ 0.7442,  1.6614, -0.2069,  ...,  1.6614, -0.2069,  2.8816],\n",
      "          [-2.0300,  1.2903, -1.7441,  ...,  1.2903, -1.7441,  0.3576]],\n",
      "\n",
      "         [[ 0.5090,  0.8449,  0.9408,  ...,  0.8449,  0.9408, -1.8064],\n",
      "          [ 0.7442,  1.6614, -0.2069,  ...,  1.6614, -0.2069,  2.8816],\n",
      "          [-2.0300,  1.2903, -1.7441,  ...,  1.2903, -1.7441,  0.3576],\n",
      "          ...,\n",
      "          [ 0.5090,  0.8449,  0.9408,  ...,  0.8449,  0.9408, -1.8064],\n",
      "          [ 0.7442,  1.6614, -0.2069,  ...,  1.6614, -0.2069,  2.8816],\n",
      "          [-2.0300,  1.2903, -1.7441,  ...,  1.2903, -1.7441,  0.3576]],\n",
      "\n",
      "         ...,\n",
      "\n",
      "         [[ 0.5090,  0.8449,  0.9408,  ...,  0.8449,  0.9408, -1.8064],\n",
      "          [ 0.7442,  1.6614, -0.2069,  ...,  1.6614, -0.2069,  2.8816],\n",
      "          [-2.0300,  1.2903, -1.7441,  ...,  1.2903, -1.7441,  0.3576],\n",
      "          ...,\n",
      "          [ 0.5090,  0.8449,  0.9408,  ...,  0.8449,  0.9408, -1.8064],\n",
      "          [ 0.7442,  1.6614, -0.2069,  ...,  1.6614, -0.2069,  2.8816],\n",
      "          [-2.0300,  1.2903, -1.7441,  ...,  1.2903, -1.7441,  0.3576]],\n",
      "\n",
      "         [[ 0.5090,  0.8449,  0.9408,  ...,  0.8449,  0.9408, -1.8064],\n",
      "          [ 0.7442,  1.6614, -0.2069,  ...,  1.6614, -0.2069,  2.8816],\n",
      "          [-2.0300,  1.2903, -1.7441,  ...,  1.2903, -1.7441,  0.3576],\n",
      "          ...,\n",
      "          [ 0.5090,  0.8449,  0.9408,  ...,  0.8449,  0.9408, -1.8064],\n",
      "          [ 0.7442,  1.6614, -0.2069,  ...,  1.6614, -0.2069,  2.8816],\n",
      "          [-2.0300,  1.2903, -1.7441,  ...,  1.2903, -1.7441,  0.3576]],\n",
      "\n",
      "         [[ 0.5090,  0.8449,  0.9408,  ...,  0.8449,  0.9408, -1.8064],\n",
      "          [ 0.7442,  1.6614, -0.2069,  ...,  1.6614, -0.2069,  2.8816],\n",
      "          [-2.0300,  1.2903, -1.7441,  ...,  1.2903, -1.7441,  0.3576],\n",
      "          ...,\n",
      "          [ 0.5090,  0.8449,  0.9408,  ...,  0.8449,  0.9408, -1.8064],\n",
      "          [ 0.7442,  1.6614, -0.2069,  ...,  1.6614, -0.2069,  2.8816],\n",
      "          [-2.0300,  1.2903, -1.7441,  ...,  1.2903, -1.7441,  0.3576]]],\n",
      "\n",
      "\n",
      "        ...,\n",
      "\n",
      "\n",
      "        [[[ 0.5090,  0.8449,  0.9408,  ...,  0.8449,  0.9408, -1.8064],\n",
      "          [ 0.7442,  1.6614, -0.2069,  ...,  1.6614, -0.2069,  2.8816],\n",
      "          [-2.0300,  1.2903, -1.7441,  ...,  1.2903, -1.7441,  0.3576],\n",
      "          ...,\n",
      "          [ 0.5090,  0.8449,  0.9408,  ...,  0.8449,  0.9408, -1.8064],\n",
      "          [ 0.7442,  1.6614, -0.2069,  ...,  1.6614, -0.2069,  2.8816],\n",
      "          [-2.0300,  1.2903, -1.7441,  ...,  1.2903, -1.7441,  0.3576]],\n",
      "\n",
      "         [[ 0.5090,  0.8449,  0.9408,  ...,  0.8449,  0.9408, -1.8064],\n",
      "          [ 0.7442,  1.6614, -0.2069,  ...,  1.6614, -0.2069,  2.8816],\n",
      "          [-2.0300,  1.2903, -1.7441,  ...,  1.2903, -1.7441,  0.3576],\n",
      "          ...,\n",
      "          [ 0.5090,  0.8449,  0.9408,  ...,  0.8449,  0.9408, -1.8064],\n",
      "          [ 0.7442,  1.6614, -0.2069,  ...,  1.6614, -0.2069,  2.8816],\n",
      "          [-2.0300,  1.2903, -1.7441,  ...,  1.2903, -1.7441,  0.3576]],\n",
      "\n",
      "         [[ 0.5090,  0.8449,  0.9408,  ...,  0.8449,  0.9408, -1.8064],\n",
      "          [ 0.7442,  1.6614, -0.2069,  ...,  1.6614, -0.2069,  2.8816],\n",
      "          [-2.0300,  1.2903, -1.7441,  ...,  1.2903, -1.7441,  0.3576],\n",
      "          ...,\n",
      "          [ 0.5090,  0.8449,  0.9408,  ...,  0.8449,  0.9408, -1.8064],\n",
      "          [ 0.7442,  1.6614, -0.2069,  ...,  1.6614, -0.2069,  2.8816],\n",
      "          [-2.0300,  1.2903, -1.7441,  ...,  1.2903, -1.7441,  0.3576]],\n",
      "\n",
      "         ...,\n",
      "\n",
      "         [[ 0.5090,  0.8449,  0.9408,  ...,  0.8449,  0.9408, -1.8064],\n",
      "          [ 0.7442,  1.6614, -0.2069,  ...,  1.6614, -0.2069,  2.8816],\n",
      "          [-2.0300,  1.2903, -1.7441,  ...,  1.2903, -1.7441,  0.3576],\n",
      "          ...,\n",
      "          [ 0.5090,  0.8449,  0.9408,  ...,  0.8449,  0.9408, -1.8064],\n",
      "          [ 0.7442,  1.6614, -0.2069,  ...,  1.6614, -0.2069,  2.8816],\n",
      "          [-2.0300,  1.2903, -1.7441,  ...,  1.2903, -1.7441,  0.3576]],\n",
      "\n",
      "         [[ 0.5090,  0.8449,  0.9408,  ...,  0.8449,  0.9408, -1.8064],\n",
      "          [ 0.7442,  1.6614, -0.2069,  ...,  1.6614, -0.2069,  2.8816],\n",
      "          [-2.0300,  1.2903, -1.7441,  ...,  1.2903, -1.7441,  0.3576],\n",
      "          ...,\n",
      "          [ 0.5090,  0.8449,  0.9408,  ...,  0.8449,  0.9408, -1.8064],\n",
      "          [ 0.7442,  1.6614, -0.2069,  ...,  1.6614, -0.2069,  2.8816],\n",
      "          [-2.0300,  1.2903, -1.7441,  ...,  1.2903, -1.7441,  0.3576]],\n",
      "\n",
      "         [[ 0.5090,  0.8449,  0.9408,  ...,  0.8449,  0.9408, -1.8064],\n",
      "          [ 0.7442,  1.6614, -0.2069,  ...,  1.6614, -0.2069,  2.8816],\n",
      "          [-2.0300,  1.2903, -1.7441,  ...,  1.2903, -1.7441,  0.3576],\n",
      "          ...,\n",
      "          [ 0.5090,  0.8449,  0.9408,  ...,  0.8449,  0.9408, -1.8064],\n",
      "          [ 0.7442,  1.6614, -0.2069,  ...,  1.6614, -0.2069,  2.8816],\n",
      "          [-2.0300,  1.2903, -1.7441,  ...,  1.2903, -1.7441,  0.3576]]],\n",
      "\n",
      "\n",
      "        [[[ 0.5090,  0.8449,  0.9408,  ...,  0.8449,  0.9408, -1.8064],\n",
      "          [ 0.7442,  1.6614, -0.2069,  ...,  1.6614, -0.2069,  2.8816],\n",
      "          [-2.0300,  1.2903, -1.7441,  ...,  1.2903, -1.7441,  0.3576],\n",
      "          ...,\n",
      "          [ 0.5090,  0.8449,  0.9408,  ...,  0.8449,  0.9408, -1.8064],\n",
      "          [ 0.7442,  1.6614, -0.2069,  ...,  1.6614, -0.2069,  2.8816],\n",
      "          [-2.0300,  1.2903, -1.7441,  ...,  1.2903, -1.7441,  0.3576]],\n",
      "\n",
      "         [[ 0.5090,  0.8449,  0.9408,  ...,  0.8449,  0.9408, -1.8064],\n",
      "          [ 0.7442,  1.6614, -0.2069,  ...,  1.6614, -0.2069,  2.8816],\n",
      "          [-2.0300,  1.2903, -1.7441,  ...,  1.2903, -1.7441,  0.3576],\n",
      "          ...,\n",
      "          [ 0.5090,  0.8449,  0.9408,  ...,  0.8449,  0.9408, -1.8064],\n",
      "          [ 0.7442,  1.6614, -0.2069,  ...,  1.6614, -0.2069,  2.8816],\n",
      "          [-2.0300,  1.2903, -1.7441,  ...,  1.2903, -1.7441,  0.3576]],\n",
      "\n",
      "         [[ 0.5090,  0.8449,  0.9408,  ...,  0.8449,  0.9408, -1.8064],\n",
      "          [ 0.7442,  1.6614, -0.2069,  ...,  1.6614, -0.2069,  2.8816],\n",
      "          [-2.0300,  1.2903, -1.7441,  ...,  1.2903, -1.7441,  0.3576],\n",
      "          ...,\n",
      "          [ 0.5090,  0.8449,  0.9408,  ...,  0.8449,  0.9408, -1.8064],\n",
      "          [ 0.7442,  1.6614, -0.2069,  ...,  1.6614, -0.2069,  2.8816],\n",
      "          [-2.0300,  1.2903, -1.7441,  ...,  1.2903, -1.7441,  0.3576]],\n",
      "\n",
      "         ...,\n",
      "\n",
      "         [[ 0.5090,  0.8449,  0.9408,  ...,  0.8449,  0.9408, -1.8064],\n",
      "          [ 0.7442,  1.6614, -0.2069,  ...,  1.6614, -0.2069,  2.8816],\n",
      "          [-2.0300,  1.2903, -1.7441,  ...,  1.2903, -1.7441,  0.3576],\n",
      "          ...,\n",
      "          [ 0.5090,  0.8449,  0.9408,  ...,  0.8449,  0.9408, -1.8064],\n",
      "          [ 0.7442,  1.6614, -0.2069,  ...,  1.6614, -0.2069,  2.8816],\n",
      "          [-2.0300,  1.2903, -1.7441,  ...,  1.2903, -1.7441,  0.3576]],\n",
      "\n",
      "         [[ 0.5090,  0.8449,  0.9408,  ...,  0.8449,  0.9408, -1.8064],\n",
      "          [ 0.7442,  1.6614, -0.2069,  ...,  1.6614, -0.2069,  2.8816],\n",
      "          [-2.0300,  1.2903, -1.7441,  ...,  1.2903, -1.7441,  0.3576],\n",
      "          ...,\n",
      "          [ 0.5090,  0.8449,  0.9408,  ...,  0.8449,  0.9408, -1.8064],\n",
      "          [ 0.7442,  1.6614, -0.2069,  ...,  1.6614, -0.2069,  2.8816],\n",
      "          [-2.0300,  1.2903, -1.7441,  ...,  1.2903, -1.7441,  0.3576]],\n",
      "\n",
      "         [[ 0.5090,  0.8449,  0.9408,  ...,  0.8449,  0.9408, -1.8064],\n",
      "          [ 0.7442,  1.6614, -0.2069,  ...,  1.6614, -0.2069,  2.8816],\n",
      "          [-2.0300,  1.2903, -1.7441,  ...,  1.2903, -1.7441,  0.3576],\n",
      "          ...,\n",
      "          [ 0.5090,  0.8449,  0.9408,  ...,  0.8449,  0.9408, -1.8064],\n",
      "          [ 0.7442,  1.6614, -0.2069,  ...,  1.6614, -0.2069,  2.8816],\n",
      "          [-2.0300,  1.2903, -1.7441,  ...,  1.2903, -1.7441,  0.3576]]],\n",
      "\n",
      "\n",
      "        [[[ 0.5090,  0.8449,  0.9408,  ...,  0.8449,  0.9408, -1.8064],\n",
      "          [ 0.7442,  1.6614, -0.2069,  ...,  1.6614, -0.2069,  2.8816],\n",
      "          [-2.0300,  1.2903, -1.7441,  ...,  1.2903, -1.7441,  0.3576],\n",
      "          ...,\n",
      "          [ 0.5090,  0.8449,  0.9408,  ...,  0.8449,  0.9408, -1.8064],\n",
      "          [ 0.7442,  1.6614, -0.2069,  ...,  1.6614, -0.2069,  2.8816],\n",
      "          [-2.0300,  1.2903, -1.7441,  ...,  1.2903, -1.7441,  0.3576]],\n",
      "\n",
      "         [[ 0.5090,  0.8449,  0.9408,  ...,  0.8449,  0.9408, -1.8064],\n",
      "          [ 0.7442,  1.6614, -0.2069,  ...,  1.6614, -0.2069,  2.8816],\n",
      "          [-2.0300,  1.2903, -1.7441,  ...,  1.2903, -1.7441,  0.3576],\n",
      "          ...,\n",
      "          [ 0.5090,  0.8449,  0.9408,  ...,  0.8449,  0.9408, -1.8064],\n",
      "          [ 0.7442,  1.6614, -0.2069,  ...,  1.6614, -0.2069,  2.8816],\n",
      "          [-2.0300,  1.2903, -1.7441,  ...,  1.2903, -1.7441,  0.3576]],\n",
      "\n",
      "         [[ 0.5090,  0.8449,  0.9408,  ...,  0.8449,  0.9408, -1.8064],\n",
      "          [ 0.7442,  1.6614, -0.2069,  ...,  1.6614, -0.2069,  2.8816],\n",
      "          [-2.0300,  1.2903, -1.7441,  ...,  1.2903, -1.7441,  0.3576],\n",
      "          ...,\n",
      "          [ 0.5090,  0.8449,  0.9408,  ...,  0.8449,  0.9408, -1.8064],\n",
      "          [ 0.7442,  1.6614, -0.2069,  ...,  1.6614, -0.2069,  2.8816],\n",
      "          [-2.0300,  1.2903, -1.7441,  ...,  1.2903, -1.7441,  0.3576]],\n",
      "\n",
      "         ...,\n",
      "\n",
      "         [[ 0.5090,  0.8449,  0.9408,  ...,  0.8449,  0.9408, -1.8064],\n",
      "          [ 0.7442,  1.6614, -0.2069,  ...,  1.6614, -0.2069,  2.8816],\n",
      "          [-2.0300,  1.2903, -1.7441,  ...,  1.2903, -1.7441,  0.3576],\n",
      "          ...,\n",
      "          [ 0.5090,  0.8449,  0.9408,  ...,  0.8449,  0.9408, -1.8064],\n",
      "          [ 0.7442,  1.6614, -0.2069,  ...,  1.6614, -0.2069,  2.8816],\n",
      "          [-2.0300,  1.2903, -1.7441,  ...,  1.2903, -1.7441,  0.3576]],\n",
      "\n",
      "         [[ 0.5090,  0.8449,  0.9408,  ...,  0.8449,  0.9408, -1.8064],\n",
      "          [ 0.7442,  1.6614, -0.2069,  ...,  1.6614, -0.2069,  2.8816],\n",
      "          [-2.0300,  1.2903, -1.7441,  ...,  1.2903, -1.7441,  0.3576],\n",
      "          ...,\n",
      "          [ 0.5090,  0.8449,  0.9408,  ...,  0.8449,  0.9408, -1.8064],\n",
      "          [ 0.7442,  1.6614, -0.2069,  ...,  1.6614, -0.2069,  2.8816],\n",
      "          [-2.0300,  1.2903, -1.7441,  ...,  1.2903, -1.7441,  0.3576]],\n",
      "\n",
      "         [[ 0.5090,  0.8449,  0.9408,  ...,  0.8449,  0.9408, -1.8064],\n",
      "          [ 0.7442,  1.6614, -0.2069,  ...,  1.6614, -0.2069,  2.8816],\n",
      "          [-2.0300,  1.2903, -1.7441,  ...,  1.2903, -1.7441,  0.3576],\n",
      "          ...,\n",
      "          [ 0.5090,  0.8449,  0.9408,  ...,  0.8449,  0.9408, -1.8064],\n",
      "          [ 0.7442,  1.6614, -0.2069,  ...,  1.6614, -0.2069,  2.8816],\n",
      "          [-2.0300,  1.2903, -1.7441,  ...,  1.2903, -1.7441,  0.3576]]]],\n",
      "       grad_fn=<RepeatBackward>)\n"
     ]
    }
   ],
   "source": [
    "print(y)"
   ]
  },
  {
   "cell_type": "code",
   "execution_count": 6,
   "metadata": {},
   "outputs": [],
   "source": [
    "from mask2former import COCOMultiInstStuffMultiQueriesClicksDatasetMapper, add_maskformer2_config\n",
    "from detectron2.config import get_cfg\n",
    "from detectron2.projects.deeplab import add_deeplab_config\n",
    "from mask2former.utils.equal_num_instances_batch import build_detection_train_loader_equal\n",
    "cfg = get_cfg()\n",
    "add_deeplab_config(cfg)\n",
    "add_maskformer2_config(cfg)\n",
    "# cfg.merge_from_file(\"mycfg.yaml\")\n",
    "cfg.merge_from_file(\"configs/coco/iterative/new/rev_attn_rand_bg_class_agnostic_MQ_MID_stufff_clicks.yaml\")\n",
    "\n",
    "mapper = COCOMultiInstStuffMultiQueriesClicksDatasetMapper(cfg,True)\n",
    "data_loader =  build_detection_train_loader_equal(cfg, mapper=mapper)"
   ]
  },
  {
   "cell_type": "code",
   "execution_count": 7,
   "metadata": {},
   "outputs": [],
   "source": [
    "batch = next(iter(data_loader))"
   ]
  },
  {
   "cell_type": "code",
   "execution_count": 8,
   "metadata": {},
   "outputs": [
    {
     "data": {
      "text/plain": [
       "8"
      ]
     },
     "execution_count": 8,
     "metadata": {},
     "output_type": "execute_result"
    }
   ],
   "source": [
    "len(batch)"
   ]
  },
  {
   "cell_type": "code",
   "execution_count": 9,
   "metadata": {},
   "outputs": [
    {
     "data": {
      "text/plain": [
       "torch.Size([1, 512, 512])"
      ]
     },
     "execution_count": 9,
     "metadata": {},
     "output_type": "execute_result"
    }
   ],
   "source": [
    "batch[0]['instances'].gt_masks.shape"
   ]
  },
  {
   "cell_type": "code",
   "execution_count": 10,
   "metadata": {},
   "outputs": [],
   "source": [
    "import cv2\n",
    "image = np.asarray(batch[0][\"image\"].permute(1,2,0))\n",
    "cv2.imshow(\"img_window\",image)\n",
    "cv2.waitKey(0)\n",
    "cv2.destroyAllWindows()"
   ]
  },
  {
   "cell_type": "code",
   "execution_count": 11,
   "metadata": {},
   "outputs": [],
   "source": [
    "image = np.asarray(batch[0][\"instances\"].gt_masks[0])\n",
    "cv2.imshow(\"img_window\",image)\n",
    "cv2.waitKey(0)\n",
    "cv2.destroyAllWindows()"
   ]
  },
  {
   "cell_type": "code",
   "execution_count": 12,
   "metadata": {},
   "outputs": [
    {
     "data": {
      "text/plain": [
       "tensor([[0, 0, 0,  ..., 0, 0, 0],\n",
       "        [0, 0, 0,  ..., 0, 0, 0],\n",
       "        [0, 0, 0,  ..., 0, 0, 0],\n",
       "        ...,\n",
       "        [0, 0, 0,  ..., 0, 0, 0],\n",
       "        [0, 0, 0,  ..., 0, 0, 0],\n",
       "        [0, 0, 0,  ..., 0, 0, 0]], dtype=torch.uint8)"
      ]
     },
     "execution_count": 12,
     "metadata": {},
     "output_type": "execute_result"
    }
   ],
   "source": [
    "batch[0][\"instances\"].gt_masks[0]"
   ]
  },
  {
   "cell_type": "code",
   "execution_count": 16,
   "metadata": {},
   "outputs": [],
   "source": [
    "i=1\n",
    "x=1\n",
    "while(True):\n",
    "    if x==1:\n",
    "        break\n",
    "    i+=1\n",
    "    x+=1"
   ]
  },
  {
   "cell_type": "code",
   "execution_count": 2,
   "metadata": {},
   "outputs": [
    {
     "name": "stderr",
     "output_type": "stream",
     "text": [
      "/home/rana/anaconda3/envs/m2f/lib/python3.8/site-packages/tqdm/auto.py:22: TqdmWarning: IProgress not found. Please update jupyter and ipywidgets. See https://ipywidgets.readthedocs.io/en/stable/user_install.html\n",
      "  from .autonotebook import tqdm as notebook_tqdm\n"
     ]
    },
    {
     "data": {
      "text/plain": [
       "torch.Size([10, 20, 25])"
      ]
     },
     "execution_count": 2,
     "metadata": {},
     "output_type": "execute_result"
    }
   ],
   "source": [
    "import torch\n",
    "a = torch.zeros((10,20,20))\n",
    "b = torch.zeros((10,20,5))\n",
    "torch.cat((a,b),dim=2).shape                                                                    "
   ]
  },
  {
   "cell_type": "code",
   "execution_count": 15,
   "metadata": {},
   "outputs": [
    {
     "name": "stdout",
     "output_type": "stream",
     "text": [
      "[4, 5] [6, 6]\n"
     ]
    }
   ],
   "source": [
    "def fun(x,y):\n",
    "    x.append(5)\n",
    "    y.append(6)\n",
    "    return x,y\n",
    "a = [4]\n",
    "b = [6]\n",
    "(a,\n",
    "b) = fun(a,b)\n",
    "print(a,b)"
   ]
  },
  {
   "cell_type": "code",
   "execution_count": 9,
   "metadata": {},
   "outputs": [
    {
     "data": {
      "text/plain": [
       "2"
      ]
     },
     "execution_count": 9,
     "metadata": {},
     "output_type": "execute_result"
    }
   ],
   "source": [
    "a = np.array([1,1.0,0], dtype=np.bool_)\n",
    "a.sum()"
   ]
  },
  {
   "cell_type": "code",
   "execution_count": 7,
   "metadata": {},
   "outputs": [
    {
     "name": "stdout",
     "output_type": "stream",
     "text": [
      "tensor([0.5000, 1.0000])\n"
     ]
    },
    {
     "data": {
      "text/plain": [
       "tensor([1.0000, 1.5000])"
      ]
     },
     "execution_count": 7,
     "metadata": {},
     "output_type": "execute_result"
    }
   ],
   "source": [
    "a = torch.tensor([1.,2.], requires_grad=True)\n",
    "b = torch.tensor([2.,3.], requires_grad=True)  \n",
    "ab = torch.cat((a,b), dim=0) # ab  = tensor([1., 2., 2., 3.], grad_fn=<CatBackward>)\n",
    "z = ab**2 # z = tensor([1., 4., 4., 9.], grad_fn=<PowBackward0>)\n",
    "out = z.mean() # out = tensor(4.5000, grad_fn=<MeanBackward0>)\n",
    "out.backward()\n",
    "print(a.grad) # tensor([1.5000, 2.5000])\n",
    "b.grad # tensor([1.5000, 2.5000])"
   ]
  },
  {
   "cell_type": "code",
   "execution_count": 1,
   "metadata": {},
   "outputs": [],
   "source": [
    "from detectron2.evaluation import inference_on_dataset\n"
   ]
  },
  {
   "cell_type": "code",
   "execution_count": 42,
   "metadata": {},
   "outputs": [],
   "source": [
    "import pickle\n",
    "file_path = \"all_data/evaluations/sbd_multi_insts/dynamite_swin_tiny_1024_bs64_10_max_click_th_final_updated_time_summary.pickle\"\n",
    "\n",
    "with open(file_path, 'rb') as handle:\n",
    "    b = pickle.load(handle)\n",
    "b.keys()"
   ]
  },
  {
   "cell_type": "code",
   "execution_count": 198,
   "metadata": {},
   "outputs": [],
   "source": [
    "k = ['dataset', 'model', 'iou_threshold', 'failed_images_counts', 'avg_over_total_images', 'Avg_NOC', 'Avg_IOU', 'num_failed_objects']"
   ]
  },
  {
   "cell_type": "code",
   "execution_count": 58,
   "metadata": {},
   "outputs": [
    {
     "data": {
      "text/plain": [
       "4.48"
      ]
     },
     "execution_count": 58,
     "metadata": {},
     "output_type": "execute_result"
    }
   ],
   "source": [
    "b['Avg_NOC']"
   ]
  },
  {
   "cell_type": "code",
   "execution_count": 55,
   "metadata": {},
   "outputs": [
    {
     "data": {
      "text/plain": [
       "2.334966748337417"
      ]
     },
     "execution_count": 55,
     "metadata": {},
     "output_type": "execute_result"
    }
   ],
   "source": [
    "6671/2857"
   ]
  },
  {
   "cell_type": "code",
   "execution_count": 50,
   "metadata": {},
   "outputs": [],
   "source": [
    "times = b['time_per_image_features']"
   ]
  },
  {
   "cell_type": "code",
   "execution_count": 51,
   "metadata": {},
   "outputs": [
    {
     "data": {
      "text/plain": [
       "0.14331715965665856"
      ]
     },
     "execution_count": 51,
     "metadata": {},
     "output_type": "execute_result"
    }
   ],
   "source": [
    "sum(times)/len(times)"
   ]
  },
  {
   "cell_type": "code",
   "execution_count": 52,
   "metadata": {},
   "outputs": [
    {
     "data": {
      "text/plain": [
       "0.6641665849995062"
      ]
     },
     "execution_count": 52,
     "metadata": {},
     "output_type": "execute_result"
    }
   ],
   "source": [
    "times = b['time_per_image_annotation']\n",
    "sum(times)/len(times)"
   ]
  },
  {
   "cell_type": "code",
   "execution_count": 53,
   "metadata": {},
   "outputs": [
    {
     "data": {
      "text/plain": [
       "0.038640099109417216"
      ]
     },
     "execution_count": 53,
     "metadata": {},
     "output_type": "execute_result"
    }
   ],
   "source": [
    "times = b['time_per_intreaction_tranformer_decoder']\n",
    "sum(times)/len(times)"
   ]
  },
  {
   "cell_type": "code",
   "execution_count": 59,
   "metadata": {},
   "outputs": [
    {
     "data": {
      "text/plain": [
       "0.5366592"
      ]
     },
     "execution_count": 59,
     "metadata": {},
     "output_type": "execute_result"
    }
   ],
   "source": [
    "0.038*2.33*4.48 + 0.14\n"
   ]
  },
  {
   "cell_type": "code",
   "execution_count": 228,
   "metadata": {},
   "outputs": [],
   "source": [
    "from prettytable import PrettyTable\n",
    "x = PrettyTable()\n",
    "x.field_names = [\"num interactions\", \"NCI\", \"NOC\", \"NFO\", \"NFI\"]\n",
    "for i in range(6):\n",
    "    file_path = f\"all_data/evaluations/sbd_multi_insts/ablation_iter_{i}_10_max_click_th_final_updated_time_summary.pickle\"\n",
    "\n",
    "    with open(file_path, 'rb') as handle:\n",
    "        b = pickle.load(handle)\n",
    "    \n",
    "    x.add_row([i, np.round(b['avg_over_total_images'],2), b['Avg_NOC'], b['num_failed_objects'], b['failed_images_counts']])\n"
   ]
  },
  {
   "cell_type": "code",
   "execution_count": 229,
   "metadata": {},
   "outputs": [
    {
     "name": "stdout",
     "output_type": "stream",
     "text": [
      "+------------------+------+------+------+-----+\n",
      "| num interactions | NCI  | NOC  | NFO  | NFI |\n",
      "+------------------+------+------+------+-----+\n",
      "|        0         | 3.94 | 5.24 | 2024 | 928 |\n",
      "|        1         | 3.87 | 5.16 | 1854 | 884 |\n",
      "|        2         | 3.67 | 4.9  | 1682 | 825 |\n",
      "|        3         | 3.63 | 4.8  | 1566 | 778 |\n",
      "|        4         | 3.51 | 4.69 | 1566 | 776 |\n",
      "|        5         | 3.58 | 4.76 | 1576 | 784 |\n",
      "+------------------+------+------+------+-----+\n"
     ]
    }
   ],
   "source": [
    "print(x)"
   ]
  },
  {
   "cell_type": "code",
   "execution_count": 216,
   "metadata": {},
   "outputs": [],
   "source": [
    "def get_palette(num_cls):\n",
    "    palette = np.zeros(3 * num_cls, dtype=np.int32)\n",
    "\n",
    "    for j in range(0, num_cls):\n",
    "        lab = j\n",
    "        i = 0\n",
    "\n",
    "        while lab > 0:\n",
    "            palette[j*3 + 0] |= (((lab >> 0) & 1) << (7-i))\n",
    "            palette[j*3 + 1] |= (((lab >> 1) & 1) << (7-i))\n",
    "            palette[j*3 + 2] |= (((lab >> 2) & 1) << (7-i))\n",
    "            i = i + 1\n",
    "            lab >>= 3\n",
    "\n",
    "    return palette.reshape((-1, 3))\n",
    "c = get_palette(40)"
   ]
  },
  {
   "cell_type": "code",
   "execution_count": 7,
   "metadata": {},
   "outputs": [],
   "source": [
    "from mask2former.data.scribble.tamed_robot import TamedRobot\n",
    "t=TamedRobot()"
   ]
  },
  {
   "cell_type": "code",
   "execution_count": 210,
   "metadata": {},
   "outputs": [
    {
     "data": {
      "text/plain": [
       "[5, 10]"
      ]
     },
     "execution_count": 210,
     "metadata": {},
     "output_type": "execute_result"
    }
   ],
   "source": [
    "a= []\n",
    "a.insert(0,5)\n",
    "a.append(None)\n",
    "a[-1] = 10\n",
    "a"
   ]
  },
  {
   "cell_type": "code",
   "execution_count": null,
   "metadata": {},
   "outputs": [],
   "source": [
    "import matplotlib.pyplot as plt\n",
    "areas = b['failed_objects_areas']\n",
    "bin_size=2\n",
    "bins  = [sum(areas[i:i+bin_size]) for i in range(0,len(areas)-bin_size, bin_size)] \n",
    "print(len(areas))\n",
    "while(bins[-1] ==0):\n",
    "    bins.pop()\n",
    "# print(bins)\n",
    "# sns.distplot(np.arange(len(bins)), \n",
    "#     hist_kws={\n",
    "#         \"weights\": bins\n",
    "#     },\n",
    "# )\n",
    "\n",
    "import copy\n",
    "t = sum(bins[25:])\n",
    "bins1 = copy.deepcopy(bins[:25])\n",
    "bins1 = bins1.append(t)\n",
    "x = bins[:25]\n",
    "x.append(sum(bins[25:]))\n",
    "x"
   ]
  },
  {
   "cell_type": "code",
   "execution_count": 187,
   "metadata": {},
   "outputs": [
    {
     "data": {
      "image/png": "[encoded data removed]",
      "text/plain": [
       "<Figure size 720x360 with 1 Axes>"
      ]
     },
     "metadata": {
      "needs_background": "light"
     },
     "output_type": "display_data"
    }
   ],
   "source": [
    "import pandas as pd\n",
    "import matplotlib.pyplot as plt\n",
    "import matplotlib.pyplot as plt\n",
    "plt.rcParams.update({'font.size': 16})\n",
    "# Bring some raw data.\n",
    "frequencies = x\n",
    "# In my original code I create a series and run on that,\n",
    "# so for consistency I create a series from the list.\n",
    "freq_series = pd.Series(frequencies)\n",
    "\n",
    "x_labels = [f\"{i+1}\" for i in range(len(x)-1)]\n",
    "x_labels.append(\">25\")\n",
    "\n",
    "# Plot the figure.\n",
    "plt.figure(figsize=(10, 5))\n",
    "ax = freq_series.plot(kind=\"bar\")\n",
    "# ax.set_title(\"Failed Object Areas Distribution\")\n",
    "\n",
    "ax.set_xlabel(\"% of Image Covered by Object\")\n",
    "ax.set_ylabel(\"#Failed Objects\")\n",
    "ax.set_xticklabels(x_labels)\n",
    "ax.set_ylim(0,825)\n",
    "ax.set_xlim(-1,26)\n",
    "rects = ax.patches\n",
    "\n",
    "# Make some labels.\n",
    "labels = [f\"{x[i]}\" for i in range(len(rects))]\n",
    "\n",
    "for rect, label in zip(rects, labels):\n",
    "    height = rect.get_height()\n",
    "    ax.text(\n",
    "        rect.get_x() + rect.get_width() / 2, height + 5, label, ha=\"center\", va=\"bottom\"\n",
    "    )\n",
    "plt.savefig(\"a.jpg\")\n",
    "plt.tight_layout()\n",
    "plt.show()"
   ]
  },
  {
   "cell_type": "code",
   "execution_count": 186,
   "metadata": {},
   "outputs": [
    {
     "data": {
      "text/plain": [
       "<Figure size 432x288 with 0 Axes>"
      ]
     },
     "metadata": {},
     "output_type": "display_data"
    }
   ],
   "source": []
  },
  {
   "cell_type": "code",
   "execution_count": 3,
   "metadata": {},
   "outputs": [],
   "source": [
    "def get_labels_with_sizes(x):\n",
    "    obj_sizes = np.bincount(x.flatten())\n",
    "    labels = np.nonzero(obj_sizes)[0].tolist()\n",
    "    labels = [x for x in labels if x != 0]\n",
    "    return labels, obj_sizes[labels].tolist()\n",
    "def get_palette(num_cls):\n",
    "    palette = np.zeros(3 * num_cls, dtype=np.int32)\n",
    "\n",
    "    for j in range(0, num_cls):\n",
    "        lab = j\n",
    "        i = 0\n",
    "\n",
    "        while lab > 0:\n",
    "            palette[j*3 + 0] |= (((lab >> 0) & 1) << (7-i))\n",
    "            palette[j*3 + 1] |= (((lab >> 1) & 1) << (7-i))\n",
    "            palette[j*3 + 2] |= (((lab >> 2) & 1) << (7-i))\n",
    "            i = i + 1\n",
    "            lab >>= 3\n",
    "\n",
    "    return palette.reshape((-1, 3))\n",
    "color_map = get_palette(80)[1:]"
   ]
  },
  {
   "cell_type": "code",
   "execution_count": 8,
   "metadata": {},
   "outputs": [
    {
     "name": "stdout",
     "output_type": "stream",
     "text": [
      "(375, 500, 3)\n",
      "[0 1 2 3 4 5 6 7]\n",
      "[1, 2, 3, 4, 5, 6, 7]\n"
     ]
    },
    {
     "data": {
      "text/plain": [
       "torch.Size([7, 375, 500])"
      ]
     },
     "execution_count": 8,
     "metadata": {},
     "output_type": "execute_result"
    }
   ],
   "source": [
    "import cv2\n",
    "import os\n",
    "import torch\n",
    "import numpy as np\n",
    "from detectron2.utils.colormap import colormap\n",
    "# color_map = colormap(rgb=True, maximum=1)\n",
    "\n",
    "sbd_path = \"datasets/sbd/dataset/\"\n",
    "# print(os.path.exists(sbd_path + \"img/2008_000051.jpg\"))\n",
    "image_id = \"2008_000383\"\n",
    "image = cv2.imread(sbd_path + f\"img/{image_id}.jpg\")\n",
    "print(image.shape)\n",
    "# cv2.imshow(\"image\", image)\n",
    "# cv2.waitKey(0)\n",
    "# cv2.destroyAllWindows()\n",
    "image = cv2.cvtColor(image, cv2.COLOR_BGR2RGB)\n",
    "from scipy.io import loadmat\n",
    "instances_mask = loadmat(str(sbd_path + f\"inst/{image_id}.mat\"))['GTinst'][0][0][0].astype(np.int32)\n",
    "labels, _ = get_labels_with_sizes(instances_mask)\n",
    "print(np.unique(instances_mask))\n",
    "masks = []\n",
    "import copy\n",
    "print(labels)\n",
    "for label in labels:\n",
    "    \n",
    "    temp_masks = copy.deepcopy(instances_mask)\n",
    "    temp_masks[temp_masks != label] = 0\n",
    "    temp_masks[temp_masks > 0] = 1\n",
    "    # m = instances_mask == label\n",
    "    masks.append(np.asarray(temp_masks, dtype =np.uint8))\n",
    "masks = torch.from_numpy(np.stack(masks)).to(dtype = torch.uint8)\n",
    "masks.shape\n"
   ]
  },
  {
   "cell_type": "code",
   "execution_count": 9,
   "metadata": {},
   "outputs": [],
   "source": [
    "from detectron2.utils.visualizer import Visualizer\n",
    "image = cv2.imread(sbd_path + f\"img/{image_id}.jpg\")\n",
    "image = cv2.cvtColor(image, cv2.COLOR_BGR2RGB)\n",
    "visualizer = Visualizer(image, metadata=None)\n",
    "# pred_masks = F.resize(result_masks_for_vis.to(dtype=torch.uint8), image.shape[:2])\n",
    "c = []\n",
    "for i in range(masks.shape[0]):\n",
    "    c.append(color_map[i]/255.0)\n",
    "# pred_masks = np.asarray(pred_masks).astype(np.bool_)\n",
    "vis = visualizer.overlay_instances(masks = masks, assigned_colors=c, alpha=0.70)\n",
    "# [Optional] prepare labels\n",
    "\n",
    "image = vis.get_image()\n",
    "image = cv2.cvtColor(image, cv2.COLOR_RGB2BGR)\n",
    "cv2.imshow(\"image\", image)\n",
    "cv2.waitKey(0)\n",
    "cv2.destroyAllWindows()"
   ]
  },
  {
   "cell_type": "code",
   "execution_count": 66,
   "metadata": {},
   "outputs": [
    {
     "data": {
      "text/plain": [
       "True"
      ]
     },
     "execution_count": 66,
     "metadata": {},
     "output_type": "execute_result"
    }
   ],
   "source": [
    "filename = f\"output/visual_results/{image_id}.png\"\n",
    "# im = cv2.cvtColor(image,  cv2.COLOR_RGB2BGR)\n",
    "cv2.imwrite(filename, image)"
   ]
  },
  {
   "cell_type": "code",
   "execution_count": 3,
   "metadata": {},
   "outputs": [
    {
     "name": "stdout",
     "output_type": "stream",
     "text": [
      "(480, 854, 3)\n",
      "[0 1]\n",
      "[1]\n"
     ]
    },
    {
     "data": {
      "text/plain": [
       "torch.Size([1, 480, 854])"
      ]
     },
     "execution_count": 3,
     "metadata": {},
     "output_type": "execute_result"
    }
   ],
   "source": [
    "from PIL import Image\n",
    "davis_path = \"datasets/DAVIS/DAVIS-2017-trainval/JPEGImages/480p/\"\n",
    "ann_path = \"datasets/DAVIS/DAVIS-2017-trainval/Annotations/480p/\"\n",
    "image_id = \"flamingo/00012\"\n",
    "image = cv2.imread(davis_path + f\"{image_id}.jpg\")\n",
    "print(image.shape)\n",
    "cv2.imshow(\"image\", image)\n",
    "cv2.waitKey(0)\n",
    "cv2.destroyAllWindows()\n",
    "image = cv2.cvtColor(image, cv2.COLOR_BGR2RGB)\n",
    "# from scipy.io import loadmat\n",
    "# instances_mask = loadmat(str(sbd_path + f\"inst/{image_id}.mat\"))['GTinst'][0][0][0].astype(np.int32)\n",
    "instances_mask = np.array(Image.open(ann_path+f\"{image_id}.png\").convert(\"P\")).astype(np.uint8)\n",
    "labels, _ = get_labels_with_sizes(instances_mask)\n",
    "print(np.unique(instances_mask))\n",
    "masks = []\n",
    "import copy\n",
    "print(labels)\n",
    "for label in labels:\n",
    "    \n",
    "    temp_masks = copy.deepcopy(instances_mask)\n",
    "    temp_masks[temp_masks != label] = 0\n",
    "    temp_masks[temp_masks > 0] = 1\n",
    "    # m = instances_mask == label\n",
    "    masks.append(np.asarray(temp_masks, dtype =np.uint8))\n",
    "masks = torch.from_numpy(np.stack(masks)).to(dtype = torch.uint8)\n",
    "masks.shape"
   ]
  },
  {
   "cell_type": "code",
   "execution_count": 4,
   "metadata": {},
   "outputs": [],
   "source": [
    "from detectron2.utils.visualizer import Visualizer\n",
    "image = cv2.imread(davis_path + f\"{image_id}.jpg\")\n",
    "image = cv2.cvtColor(image, cv2.COLOR_BGR2RGB)\n",
    "visualizer = Visualizer(image, metadata=None)\n",
    "# pred_masks = F.resize(result_masks_for_vis.to(dtype=torch.uint8), image.shape[:2])\n",
    "c = []\n",
    "for i in range(masks.shape[0]):\n",
    "    c.append(color_map[2*(i)+2])\n",
    "# pred_masks = np.asarray(pred_masks).astype(np.bool_)\n",
    "vis = visualizer.overlay_instances(masks = masks, assigned_colors=c, alpha=0.65)\n",
    "# [Optional] prepare labels\n",
    "\n",
    "image = vis.get_image()\n",
    "image = cv2.cvtColor(image, cv2.COLOR_RGB2BGR)\n",
    "cv2.imshow(\"image\", image)\n",
    "cv2.waitKey(0)\n",
    "cv2.destroyAllWindows()"
   ]
  },
  {
   "cell_type": "code",
   "execution_count": 80,
   "metadata": {},
   "outputs": [
    {
     "data": {
      "text/plain": [
       "True"
      ]
     },
     "execution_count": 80,
     "metadata": {},
     "output_type": "execute_result"
    }
   ],
   "source": [
    "filename = f\"output/visual_results/lindy-hop.png\"\n",
    "# im = cv2.cvtColor(image,  cv2.COLOR_RGB2BGR)\n",
    "cv2.imwrite(filename, image)"
   ]
  },
  {
   "cell_type": "code",
   "execution_count": 138,
   "metadata": {},
   "outputs": [],
   "source": [
    "image =  cv2.imread(\"failed_v0.png\", cv2.COLOR_BGR2RGB)\n",
    "cv2.imshow(\"image\", image)\n",
    "cv2.waitKey(0)\n",
    "cv2.destroyAllWindows()"
   ]
  },
  {
   "cell_type": "code",
   "execution_count": 139,
   "metadata": {},
   "outputs": [
    {
     "name": "stdout",
     "output_type": "stream",
     "text": [
      "(501, 737, 3)\n",
      "(334, 491, 3)\n"
     ]
    }
   ],
   "source": [
    "h, w, _ = image.shape\n",
    "print(image.shape)\n",
    "h_new = int((2*h)/3)\n",
    "w_new = int((2*w)/3)\n",
    "im = cv2.resize(image,(w_new,h_new))\n",
    "print(im.shape)"
   ]
  },
  {
   "cell_type": "code",
   "execution_count": 140,
   "metadata": {},
   "outputs": [],
   "source": [
    "cv2.imshow(\"image\", im)\n",
    "cv2.waitKey(0)\n",
    "cv2.destroyAllWindows()"
   ]
  },
  {
   "cell_type": "code",
   "execution_count": 141,
   "metadata": {},
   "outputs": [
    {
     "data": {
      "text/plain": [
       "True"
      ]
     },
     "execution_count": 141,
     "metadata": {},
     "output_type": "execute_result"
    }
   ],
   "source": [
    "# im = cv2.cvtColor(im,  cv2.COLOR_RGB2BGR)\n",
    "cv2.imwrite(\"new_failed_v0.png\", im)"
   ]
  },
  {
   "cell_type": "code",
   "execution_count": null,
   "metadata": {},
   "outputs": [],
   "source": []
  }
 ],
 "metadata": {
  "interpreter": {
   "hash": "eec4856e9527ee4049f7304c395b2145937ffdaa8a3f2aebdeedd97affd38c5c"
  },
  "kernelspec": {
   "display_name": "Python 3.8.13 ('m2f')",
   "language": "python",
   "name": "python3"
  },
  "language_info": {
   "codemirror_mode": {
    "name": "ipython",
    "version": 3
   },
   "file_extension": ".py",
   "mimetype": "text/x-python",
   "name": "python",
   "nbconvert_exporter": "python",
   "pygments_lexer": "ipython3",
   "version": "3.8.13"
  },
  "orig_nbformat": 4
 },
 "nbformat": 4,
 "nbformat_minor": 2
}
